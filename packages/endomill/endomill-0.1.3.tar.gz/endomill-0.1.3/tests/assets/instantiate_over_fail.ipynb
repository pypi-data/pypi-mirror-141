{
 "cells": [
  {
   "cell_type": "code",
   "execution_count": null,
   "id": "720f8c25",
   "metadata": {},
   "outputs": [],
   "source": [
    "import endomill\n"
   ]
  },
  {
   "cell_type": "code",
   "execution_count": null,
   "id": "65c00afa",
   "metadata": {},
   "outputs": [],
   "source": [
    "try:\n",
    "    endomill.instantiate_over(\n",
    "        parameter_packs=[\n",
    "            {'parameter' : 'value1'},\n",
    "            {'parameter' : 'value2'},\n",
    "        ],\n",
    "    )\n",
    "except:\n",
    "    endomill._halt.halt()\n"
   ]
  },
  {
   "cell_type": "code",
   "execution_count": null,
   "id": "92b23ae5",
   "metadata": {
    "tags": [
     "parameters"
    ]
   },
   "outputs": [],
   "source": [
    "# register papermill parameters\n",
    "parameter: str\n"
   ]
  },
  {
   "cell_type": "code",
   "execution_count": null,
   "id": "eaa0908d",
   "metadata": {},
   "outputs": [],
   "source": [
    "# fail on purpose\n",
    "assert False\n"
   ]
  }
 ],
 "metadata": {
  "kernelspec": {
   "display_name": "Python 3",
   "language": "python",
   "name": "python3"
  },
  "language_info": {
   "codemirror_mode": {
    "name": "ipython",
    "version": 3
   },
   "file_extension": ".py",
   "mimetype": "text/x-python",
   "name": "python",
   "nbconvert_exporter": "python",
   "pygments_lexer": "ipython3",
   "version": "3.8.10"
  }
 },
 "nbformat": 4,
 "nbformat_minor": 5
}
