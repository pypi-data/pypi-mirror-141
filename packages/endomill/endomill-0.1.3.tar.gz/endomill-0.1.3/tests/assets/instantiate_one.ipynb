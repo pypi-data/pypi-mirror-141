{
 "cells": [
  {
   "cell_type": "code",
   "execution_count": null,
   "id": "7446da52",
   "metadata": {},
   "outputs": [],
   "source": [
    "import endomill\n"
   ]
  },
  {
   "cell_type": "code",
   "execution_count": null,
   "id": "b37da69d",
   "metadata": {},
   "outputs": [],
   "source": [
    "endomill.instantiate_one(\n",
    "    parameter_pack={\n",
    "        'parameter' : 'value',\n",
    "    }\n",
    ")\n"
   ]
  },
  {
   "cell_type": "code",
   "execution_count": null,
   "id": "6b481ece",
   "metadata": {
    "tags": [
     "parameters"
    ]
   },
   "outputs": [],
   "source": [
    "# register papermill parameters\n",
    "parameter: str\n"
   ]
  },
  {
   "cell_type": "code",
   "execution_count": null,
   "id": "a5bf57db",
   "metadata": {},
   "outputs": [],
   "source": [
    "assert parameter is not None\n"
   ]
  }
 ],
 "metadata": {
  "kernelspec": {
   "display_name": "Python 3",
   "language": "python",
   "name": "python3"
  },
  "language_info": {
   "codemirror_mode": {
    "name": "ipython",
    "version": 3
   },
   "file_extension": ".py",
   "mimetype": "text/x-python",
   "name": "python",
   "nbconvert_exporter": "python",
   "pygments_lexer": "ipython3",
   "version": "3.8.10"
  }
 },
 "nbformat": 4,
 "nbformat_minor": 5
}
