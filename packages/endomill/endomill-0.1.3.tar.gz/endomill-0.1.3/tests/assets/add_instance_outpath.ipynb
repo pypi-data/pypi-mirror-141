{
 "cells": [
  {
   "cell_type": "code",
   "execution_count": null,
   "id": "ed44a02d",
   "metadata": {},
   "outputs": [],
   "source": [
    "import endomill\n"
   ]
  },
  {
   "cell_type": "code",
   "execution_count": null,
   "id": "91c50a3b",
   "metadata": {},
   "outputs": [],
   "source": [
    "endomill.instantiate_one(\n",
    "    parameter_pack={\n",
    "        'parameter' : 'value',\n",
    "    }\n",
    ")\n"
   ]
  },
  {
   "cell_type": "code",
   "execution_count": null,
   "id": "365263eb",
   "metadata": {
    "tags": [
     "parameters"
    ]
   },
   "outputs": [],
   "source": [
    "# register papermill parameters\n",
    "\n",
    "parameter: str\n"
   ]
  },
  {
   "cell_type": "code",
   "execution_count": null,
   "id": "1460f2f6",
   "metadata": {},
   "outputs": [],
   "source": [
    "assert parameter is not None\n"
   ]
  },
  {
   "cell_type": "code",
   "execution_count": null,
   "id": "b499dc5d",
   "metadata": {},
   "outputs": [],
   "source": [
    "endomill.add_instance_outpath('instance_outpath.endomill.ipynb')\n"
   ]
  }
 ],
 "metadata": {
  "kernelspec": {
   "display_name": "Python 3",
   "language": "python",
   "name": "python3"
  },
  "language_info": {
   "codemirror_mode": {
    "name": "ipython",
    "version": 3
   },
   "file_extension": ".py",
   "mimetype": "text/x-python",
   "name": "python",
   "nbconvert_exporter": "python",
   "pygments_lexer": "ipython3",
   "version": "3.8.10"
  }
 },
 "nbformat": 4,
 "nbformat_minor": 5
}
