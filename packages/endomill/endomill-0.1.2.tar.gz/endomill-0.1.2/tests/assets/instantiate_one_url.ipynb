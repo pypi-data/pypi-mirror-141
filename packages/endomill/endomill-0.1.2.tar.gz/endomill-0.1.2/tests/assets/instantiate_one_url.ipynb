{
 "cells": [
  {
   "cell_type": "code",
   "execution_count": null,
   "id": "b7150c51",
   "metadata": {},
   "outputs": [],
   "source": [
    "import endomill\n"
   ]
  },
  {
   "cell_type": "code",
   "execution_count": null,
   "id": "ea5c6d42",
   "metadata": {},
   "outputs": [],
   "source": [
    "endomill.instantiate_one(\n",
    "    parameter_pack={\n",
    "        'parameter' : 'https://example.com',\n",
    "    }\n",
    ")\n"
   ]
  },
  {
   "cell_type": "code",
   "execution_count": null,
   "id": "ca57883a",
   "metadata": {
    "tags": [
     "parameters"
    ]
   },
   "outputs": [],
   "source": [
    "# register papermill parameters\n",
    "parameter: str\n"
   ]
  },
  {
   "cell_type": "code",
   "execution_count": null,
   "id": "cabffe0b",
   "metadata": {},
   "outputs": [],
   "source": [
    "assert parameter is not None\n"
   ]
  }
 ],
 "metadata": {
  "kernelspec": {
   "display_name": "Python 3",
   "language": "python",
   "name": "python3"
  },
  "language_info": {
   "codemirror_mode": {
    "name": "ipython",
    "version": 3
   },
   "file_extension": ".py",
   "mimetype": "text/x-python",
   "name": "python",
   "nbconvert_exporter": "python",
   "pygments_lexer": "ipython3",
   "version": "3.8.10"
  }
 },
 "nbformat": 4,
 "nbformat_minor": 5
}
