{
 "cells": [
  {
   "cell_type": "code",
   "execution_count": null,
   "id": "0772c6b7",
   "metadata": {},
   "outputs": [],
   "source": [
    "import endomill\n"
   ]
  },
  {
   "cell_type": "code",
   "execution_count": null,
   "id": "162b594a",
   "metadata": {},
   "outputs": [],
   "source": [
    "try:\n",
    "    endomill.instantiate_one(\n",
    "        parameter_pack={\n",
    "            'parameter' : 'value',\n",
    "        }\n",
    "    )\n",
    "except:\n",
    "    endomill._halt.halt()\n"
   ]
  },
  {
   "cell_type": "code",
   "execution_count": null,
   "id": "3e10289a",
   "metadata": {
    "tags": [
     "parameters"
    ]
   },
   "outputs": [],
   "source": [
    "# register papermill parameters\n",
    "parameter: str\n"
   ]
  },
  {
   "cell_type": "code",
   "execution_count": null,
   "id": "e1316e48",
   "metadata": {},
   "outputs": [],
   "source": [
    "# fail on purpose\n",
    "assert False\n"
   ]
  }
 ],
 "metadata": {
  "kernelspec": {
   "display_name": "Python 3",
   "language": "python",
   "name": "python3"
  },
  "language_info": {
   "codemirror_mode": {
    "name": "ipython",
    "version": 3
   },
   "file_extension": ".py",
   "mimetype": "text/x-python",
   "name": "python",
   "nbconvert_exporter": "python",
   "pygments_lexer": "ipython3",
   "version": "3.8.10"
  }
 },
 "nbformat": 4,
 "nbformat_minor": 5
}
