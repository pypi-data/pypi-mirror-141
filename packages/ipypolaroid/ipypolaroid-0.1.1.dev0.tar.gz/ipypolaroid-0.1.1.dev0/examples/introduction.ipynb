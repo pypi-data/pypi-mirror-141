{
 "cells": [
  {
   "cell_type": "markdown",
   "metadata": {},
   "source": [
    "# Introduction"
   ]
  },
  {
   "cell_type": "code",
   "execution_count": 6,
   "metadata": {},
   "outputs": [],
   "source": [
    "import ipypolaroid\n",
    "from ipywidgets import Output,Layout\n",
    "from IPython.display import clear_output\n",
    "import os"
   ]
  },
  {
   "cell_type": "code",
   "execution_count": 7,
   "metadata": {},
   "outputs": [],
   "source": [
    "img_list=os.listdir(\"/home/nallezard/dev/sofia/swav/dataset/Images\")\n",
    "img_list=[\"/home/nallezard/dev/sofia/swav/dataset/Images/\"+f for f in img_list]"
   ]
  },
  {
   "cell_type": "code",
   "execution_count": 8,
   "metadata": {
    "scrolled": false
   },
   "outputs": [
    {
     "data": {
      "application/vnd.jupyter.widget-view+json": {
       "model_id": "624029a482314945be048609105a6177",
       "version_major": 2,
       "version_minor": 0
      },
      "text/plain": [
       "Output()"
      ]
     },
     "metadata": {},
     "output_type": "display_data"
    },
    {
     "data": {
      "application/vnd.jupyter.widget-view+json": {
       "model_id": "db6160ecf7094ba695799573acb3a366",
       "version_major": 2,
       "version_minor": 0
      },
      "text/plain": [
       "Carousel(image_list=[[b'\\xff\\xd8\\xff\\xe0\\x00\\x10JFIF\\x00\\x01\\x01\\x00\\x00\\x01\\x00\\x01\\x00\\x00\\xff\\xe1v\\xdcExif\\…"
      ]
     },
     "metadata": {},
     "output_type": "display_data"
    }
   ],
   "source": [
    "image_list=img_list[:]\n",
    "#list(range(len(image_list)) )[f.split(\"/\")[-1] for f in img_list]\n",
    "image_captions=[f.split(\"/\")[-1] for f in img_list]#list(range(len(image_list)) )#[\"azertyuiopljgazertyuiowfw\"]*20\n",
    "out=Output()\n",
    "#image_captions=image_captions\n",
    "c=ipypolaroid.Carousel(images=image_list,n=13,item_width=150,item_height=200)\n",
    "#c.layout=Layout(width='700px'\n",
    "#c.image_list=img_list[10:11]\n",
    "def on_click(c):\n",
    "    with out:\n",
    "        clear_output(wait=True)\n",
    "        print('pola', img_list[int(c['event']['selected']) ])\n",
    "c.on_click(on_click)\n",
    "display(out)\n",
    "display(c)\n"
   ]
  },
  {
   "cell_type": "code",
   "execution_count": 10,
   "metadata": {},
   "outputs": [
    {
     "data": {
      "text/plain": [
       "['6']"
      ]
     },
     "execution_count": 10,
     "metadata": {},
     "output_type": "execute_result"
    }
   ],
   "source": [
    "c.selected_id"
   ]
  },
  {
   "cell_type": "code",
   "execution_count": 11,
   "metadata": {},
   "outputs": [],
   "source": [
    "c.setImageData(1,'https://farm8.staticflickr.com/7230/7206950062_f0854f36c7_z.jpg',\"toto!!!!!!!!!!!!\")\n",
    "c.setImageData(2,caption=\"nouvelle classe\")\n",
    "c.setImageData(3,\"image.jpg\")\n"
   ]
  },
  {
   "cell_type": "code",
   "execution_count": 12,
   "metadata": {},
   "outputs": [],
   "source": [
    "import cv2\n",
    "im=cv2.imread(\"image.jpg\")\n",
    "c.setImageData(4,im)\n"
   ]
  },
  {
   "cell_type": "code",
   "execution_count": 5,
   "metadata": {},
   "outputs": [
    {
     "data": {
      "application/vnd.jupyter.widget-view+json": {
       "model_id": "e1396bf8c75a453b9d18f63ac31eb964",
       "version_major": 2,
       "version_minor": 0
      },
      "text/plain": [
       "Polaroid(caption='/home/nallezard/dev/sofia/swav/dataset/Images/OA 100016_NDOC103597_Eclat et coulures de calc…"
      ]
     },
     "metadata": {},
     "output_type": "display_data"
    },
    {
     "data": {
      "application/vnd.jupyter.widget-view+json": {
       "model_id": "429b77677d034b36a875c7c11e8dc72b",
       "version_major": 2,
       "version_minor": 0
      },
      "text/plain": [
       "Output()"
      ]
     },
     "metadata": {},
     "output_type": "display_data"
    }
   ],
   "source": [
    "w = ipypolaroid.Polaroid(image='image.jpg',caption='/home/nallezard/dev/sofia/swav/dataset/Images/OA 100016_NDOC103597_Eclat et coulures de calcite e.jpg')\n",
    "out=Output()\n",
    "def on_mouse(c):\n",
    "    with out:\n",
    "        clear_output()\n",
    "        print('!!!!',c)\n",
    "w.on_mouse_down(on_mouse)\n",
    "# w._id='ttoto'\n",
    "# def perform_drawings():\n",
    "#      with out:\n",
    "#         print('ready')\n",
    "# w.on_client_ready(perform_drawings)\n",
    "display(w)\n",
    "display(out)"
   ]
  },
  {
   "cell_type": "code",
   "execution_count": 19,
   "metadata": {},
   "outputs": [],
   "source": [
    "w.caption='image test'\n",
    "#w.image='image.jpg'"
   ]
  },
  {
   "cell_type": "code",
   "execution_count": 9,
   "metadata": {
    "scrolled": false
   },
   "outputs": [
    {
     "data": {
      "application/vnd.jupyter.widget-view+json": {
       "model_id": "e506832541d64b5ab513bff62d32a5cb",
       "version_major": 2,
       "version_minor": 0
      },
      "text/plain": [
       "RadioButtons(options=('dog', 'cat', 'elephant'), value='dog')"
      ]
     },
     "metadata": {},
     "output_type": "display_data"
    },
    {
     "data": {
      "application/vnd.jupyter.widget-view+json": {
       "model_id": "33fb8f59a58948cd8f25a1241a4a5d27",
       "version_major": 2,
       "version_minor": 0
      },
      "text/plain": [
       "Output()"
      ]
     },
     "metadata": {},
     "output_type": "display_data"
    },
    {
     "data": {
      "application/vnd.jupyter.widget-view+json": {
       "model_id": "92bbcfaa59154b80832f6c4211ec211f",
       "version_major": 2,
       "version_minor": 0
      },
      "text/plain": [
       "Box(children=(Polaroid(caption='/home/nallezard/dev/sofia/swav/dataset/Images/OA 100016_NDOC103597_Eclat et co…"
      ]
     },
     "metadata": {},
     "output_type": "display_data"
    }
   ],
   "source": [
    "from ipywidgets import HBox,Layout,Box,RadioButtons\n",
    "\n",
    "select_class=RadioButtons(options=['dog','cat','elephant'])\n",
    "display(select_class)\n",
    "items=[]\n",
    "out=Output()\n",
    "select_image=None\n",
    "\n",
    "def on_class_change(n):\n",
    "    if select_image:\n",
    "        select_image.caption=n[\"new\"]\n",
    "    with out:\n",
    "        clear_output()\n",
    "       \n",
    "    \n",
    "select_class.observe(on_class_change,\"value\")\n",
    "\n",
    "def on_click(c):\n",
    "    global select_image\n",
    "    if select_image:\n",
    "        select_image.selected=False\n",
    "        \n",
    "    select_image=items[int(c[\"_id\"])]\n",
    "    #items[int(c[\"_id\"])].caption='check'\n",
    "    items[int(c[\"_id\"])].selected=True\n",
    "    \n",
    "    with out:\n",
    "        clear_output(wait=True)\n",
    "        print(c)\n",
    "pola_layout=Layout(flex=\"0 0 400px\") #layout=Layout(min_width=\"200px\")\n",
    "\n",
    "for i in range(19):\n",
    "    w = ipypolaroid.Polaroid(image=\"image.jpg\",width=400,height=400)#,layout=Layout(min_height=\"400px\"))#,width=800,height=400 )\n",
    "    w._id=str(i)\n",
    "    w.on_mouse_down(on_click)\n",
    "    w.caption='/home/nallezard/dev/sofia/swav/dataset/Images/OA 100016_NDOC103597_Eclat et coulures de ca'\n",
    "    items+=[w]\n",
    "\n",
    "display(out)    \n",
    "Box(items,layout=Layout(display='flex',overflow='scroll hidden', width='100%', flex_flow='row'))\n"
   ]
  },
  {
   "cell_type": "code",
   "execution_count": null,
   "metadata": {},
   "outputs": [],
   "source": []
  },
  {
   "cell_type": "code",
   "execution_count": 21,
   "metadata": {},
   "outputs": [
    {
     "name": "stderr",
     "output_type": "stream",
     "text": [
      "/home/nallezard/anaconda3/envs/ipyemail/lib/python3.10/site-packages/traitlets/traitlets.py:588: FutureWarning: elementwise comparison failed; returning scalar instead, but in the future will perform elementwise comparison\n",
      "  silent = bool(old_value == new_value)\n"
     ]
    },
    {
     "data": {
      "application/vnd.jupyter.widget-view+json": {
       "model_id": "efd24265739d41a29288ba3e127933e9",
       "version_major": 2,
       "version_minor": 0
      },
      "text/plain": [
       "Polaroid(image=b'\\x89PNG\\r\\n\\x1a\\n\\x00\\x00\\x00\\rIHDR\\x00\\x00\\x05\\x00\\x00\\x00\\x02\\xd0\\x08\\x02\\x00\\x00\\x00@\\x1fJ…"
      ]
     },
     "metadata": {},
     "output_type": "display_data"
    }
   ],
   "source": [
    "import numpy as np\n",
    "import cv2\n",
    "im=cv2.imread('image.jpg')\n",
    "w2 = ipypolaroid.Polaroid(image=im)\n",
    "w2"
   ]
  },
  {
   "cell_type": "code",
   "execution_count": 22,
   "metadata": {},
   "outputs": [
    {
     "data": {
      "application/vnd.jupyter.widget-view+json": {
       "model_id": "59d5accdf6b04abea036f3ae4c6e8534",
       "version_major": 2,
       "version_minor": 0
      },
      "text/plain": [
       "Polaroid(image=b'\\x89PNG\\r\\n\\x1a\\n\\x00\\x00\\x00\\rIHDR\\x00\\x00\\x00\\xc8\\x00\\x00\\x00\\xc8\\x08\\x02\\x00\\x00\\x00\":9\\xc…"
      ]
     },
     "metadata": {},
     "output_type": "display_data"
    }
   ],
   "source": [
    "from PIL import Image as pImage\n",
    "im_pil=pImage.open(\"image.jpg\")\n",
    "w3 = ipypolaroid.Polaroid(image=im_pil.resize((200,200)))\n",
    "w3"
   ]
  },
  {
   "cell_type": "code",
   "execution_count": 23,
   "metadata": {},
   "outputs": [
    {
     "data": {
      "application/vnd.jupyter.widget-view+json": {
       "model_id": "ee1af505b1f14f4a9d93aa2e6c391e6b",
       "version_major": 2,
       "version_minor": 0
      },
      "text/plain": [
       "Polaroid(image=b'\\x89PNG\\r\\n\\x1a\\n\\x00\\x00\\x00\\rIHDR\\x00\\x00\\x00\\xc8\\x00\\x00\\x00\\xc8\\x08\\x02\\x00\\x00\\x00\":9\\xc…"
      ]
     },
     "metadata": {},
     "output_type": "display_data"
    }
   ],
   "source": [
    "from PIL import Image as pImage\n",
    "im_pil=pImage.open(\"image.jpg\")\n",
    "w4 = ipypolaroid.Polaroid(image=im_pil.resize((200,200)))\n",
    "w4"
   ]
  },
  {
   "cell_type": "code",
   "execution_count": null,
   "metadata": {},
   "outputs": [],
   "source": []
  }
 ],
 "metadata": {
  "hide_input": false,
  "kernelspec": {
   "display_name": "ipyemail",
   "language": "python",
   "name": "ipyemail"
  },
  "language_info": {
   "codemirror_mode": {
    "name": "ipython",
    "version": 3
   },
   "file_extension": ".py",
   "mimetype": "text/x-python",
   "name": "python",
   "nbconvert_exporter": "python",
   "pygments_lexer": "ipython3",
   "version": "3.10.2"
  },
  "toc": {
   "base_numbering": 1,
   "nav_menu": {},
   "number_sections": true,
   "sideBar": true,
   "skip_h1_title": false,
   "title_cell": "Table of Contents",
   "title_sidebar": "Contents",
   "toc_cell": false,
   "toc_position": {},
   "toc_section_display": true,
   "toc_window_display": false
  },
  "varInspector": {
   "cols": {
    "lenName": 16,
    "lenType": 16,
    "lenVar": 40
   },
   "kernels_config": {
    "python": {
     "delete_cmd_postfix": "",
     "delete_cmd_prefix": "del ",
     "library": "var_list.py",
     "varRefreshCmd": "print(var_dic_list())"
    },
    "r": {
     "delete_cmd_postfix": ") ",
     "delete_cmd_prefix": "rm(",
     "library": "var_list.r",
     "varRefreshCmd": "cat(var_dic_list()) "
    }
   },
   "types_to_exclude": [
    "module",
    "function",
    "builtin_function_or_method",
    "instance",
    "_Feature"
   ],
   "window_display": false
  }
 },
 "nbformat": 4,
 "nbformat_minor": 2
}
