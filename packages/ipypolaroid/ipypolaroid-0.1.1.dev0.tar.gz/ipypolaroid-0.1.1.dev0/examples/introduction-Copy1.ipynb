{
 "cells": [
  {
   "cell_type": "markdown",
   "metadata": {},
   "source": [
    "# Introduction"
   ]
  },
  {
   "cell_type": "code",
   "execution_count": 1,
   "metadata": {},
   "outputs": [],
   "source": [
    "import ipypolaroid\n",
    "from ipywidgets import Output,Layout\n",
    "from IPython.display import clear_output\n",
    "import os"
   ]
  },
  {
   "cell_type": "code",
   "execution_count": 2,
   "metadata": {},
   "outputs": [],
   "source": [
    "img_list=os.listdir(\"/home/nallezard/dev/sofia/swav/dataset/Images\")\n",
    "img_list=[\"/home/nallezard/dev/sofia/swav/dataset/Images/\"+f for f in img_list]"
   ]
  },
  {
   "cell_type": "code",
   "execution_count": 3,
   "metadata": {
    "scrolled": false
   },
   "outputs": [
    {
     "data": {
      "application/vnd.jupyter.widget-view+json": {
       "model_id": "2c0c65b360b842d7bd46b45c329277d6",
       "version_major": 2,
       "version_minor": 0
      },
      "text/plain": [
       "Output()"
      ]
     },
     "metadata": {},
     "output_type": "display_data"
    },
    {
     "data": {
      "application/vnd.jupyter.widget-view+json": {
       "model_id": "1dba1244057b4f258150640067d8ace2",
       "version_major": 2,
       "version_minor": 0
      },
      "text/plain": [
       "Carousel(height=800, image_list=[[b'\\xff\\xd8\\xff\\xe0\\x00\\x10JFIF\\x00\\x01\\x01\\x00\\x00\\x01\\x00\\x01\\x00\\x00\\xff\\x…"
      ]
     },
     "metadata": {},
     "output_type": "display_data"
    }
   ],
   "source": [
    "image_list=img_list[:]\n",
    "#list(range(len(image_list)) )[f.split(\"/\")[-1] for f in img_list]\n",
    "image_captions=[f.split(\"/\")[-1] for f in img_list]#list(range(len(image_list)) )#[\"azertyuiopljgazertyuiowfw\"]*20\n",
    "out=Output()\n",
    "#image_captions=image_captions\n",
    "c=ipypolaroid.Carousel(images=image_list,width=1200,height=800,item_width=200,item_height=200)\n",
    "#c.layout=Layout(width='700px')\n",
    "#c.image_list=img_list[10:11]\n",
    "def on_click(c):\n",
    "    with out:\n",
    "        clear_output(wait=True)\n",
    "        print('pola', img_list[int(c['event']['selected']) ])\n",
    "c.on_click(on_click)\n",
    "display(out)\n",
    "display(c)\n"
   ]
  },
  {
   "cell_type": "code",
   "execution_count": null,
   "metadata": {},
   "outputs": [],
   "source": [
    "c.selected_id"
   ]
  },
  {
   "cell_type": "code",
   "execution_count": 8,
   "metadata": {},
   "outputs": [],
   "source": [
    "c.setImageData(1,'https://farm8.staticflickr.com/7230/7206950062_f0854f36c7_z.jpg',\"toto!!!!!!!!!!!!\")\n",
    "c.setImageData(2,caption=\"nouvelle classe\")\n",
    "c.setImageData(3,\"image.jpg\")\n"
   ]
  },
  {
   "cell_type": "code",
   "execution_count": 9,
   "metadata": {},
   "outputs": [],
   "source": [
    "import cv2\n",
    "im=cv2.imread(\"image.jpg\")\n",
    "c.setImageData(4,im)\n"
   ]
  },
  {
   "cell_type": "code",
   "execution_count": null,
   "metadata": {},
   "outputs": [],
   "source": [
    "w = ipypolaroid.Polaroid(image='image.jpg',caption='/home/nallezard/dev/sofia/swav/dataset/Images/OA 100016_NDOC103597_Eclat et coulures de calcite e.jpg')\n",
    "out=Output()\n",
    "def on_mouse(c):\n",
    "    with out:\n",
    "        clear_output()\n",
    "        print('!!!!',c)\n",
    "w.on_mouse_down(on_mouse)\n",
    "# w._id='ttoto'\n",
    "# def perform_drawings():\n",
    "#      with out:\n",
    "#         print('ready')\n",
    "# w.on_client_ready(perform_drawings)\n",
    "display(w)\n",
    "display(out)"
   ]
  },
  {
   "cell_type": "code",
   "execution_count": null,
   "metadata": {},
   "outputs": [],
   "source": [
    "w.caption='/home/nallezard/dev/sofia/swav/dataset/Images/OA 100016_NDOC103597_Eclat et coulures de ca'\n",
    "#w.image='image.jpg'"
   ]
  },
  {
   "cell_type": "code",
   "execution_count": null,
   "metadata": {
    "scrolled": false
   },
   "outputs": [],
   "source": [
    "from ipywidgets import HBox,Layout,Box,RadioButtons\n",
    "\n",
    "select_class=RadioButtons(options=['dog','cat','elephant'])\n",
    "display(select_class)\n",
    "items=[]\n",
    "out=Output()\n",
    "select_image=None\n",
    "\n",
    "def on_class_change(n):\n",
    "    if select_image:\n",
    "        select_image.caption=n[\"new\"]\n",
    "    with out:\n",
    "        clear_output()\n",
    "       \n",
    "    \n",
    "select_class.observe(on_class_change,\"value\")\n",
    "\n",
    "def on_click(c):\n",
    "    global select_image\n",
    "    if select_image:\n",
    "        select_image.selected=False\n",
    "        \n",
    "    select_image=items[int(c[\"_id\"])]\n",
    "    #items[int(c[\"_id\"])].caption='check'\n",
    "    items[int(c[\"_id\"])].selected=True\n",
    "    \n",
    "    with out:\n",
    "        clear_output(wait=True)\n",
    "        print(c)\n",
    "pola_layout=Layout(flex=\"0 0 400px\") #layout=Layout(min_width=\"200px\")\n",
    "\n",
    "for i in range(19):\n",
    "    w = ipypolaroid.Polaroid(image=\"image.jpg\",width=400,height=400)#,layout=Layout(min_height=\"400px\"))#,width=800,height=400 )\n",
    "    w._id=str(i)\n",
    "    w.on_mouse_down(on_click)\n",
    "    w.caption='/home/nallezard/dev/sofia/swav/dataset/Images/OA 100016_NDOC103597_Eclat et coulures de ca'\n",
    "    items+=[w]\n",
    "\n",
    "display(out)    \n",
    "Box(items,layout=Layout(display='flex',overflow='scroll hidden', width='100%', flex_flow='row'))\n"
   ]
  },
  {
   "cell_type": "code",
   "execution_count": null,
   "metadata": {},
   "outputs": [],
   "source": []
  },
  {
   "cell_type": "code",
   "execution_count": null,
   "metadata": {},
   "outputs": [],
   "source": [
    "import numpy as np\n",
    "import cv2\n",
    "im=cv2.imread('image.jpg')\n",
    "w2 = ipypolaroid.Polaroid(image=im)\n",
    "w2"
   ]
  },
  {
   "cell_type": "code",
   "execution_count": null,
   "metadata": {},
   "outputs": [],
   "source": [
    "from PIL import Image as pImage\n",
    "im_pil=pImage.open(\"image.jpg\")\n",
    "w3 = ipypolaroid.Polaroid(image=im_pil.resize((200,200)))\n",
    "w3"
   ]
  },
  {
   "cell_type": "code",
   "execution_count": null,
   "metadata": {},
   "outputs": [],
   "source": [
    "from PIL import Image as pImage\n",
    "im_pil=pImage.open(\"image.jpg\")\n",
    "w4 = ipypolaroid.Polaroid(image=im_pil.resize((200,200)))\n",
    "w4"
   ]
  },
  {
   "cell_type": "code",
   "execution_count": null,
   "metadata": {},
   "outputs": [],
   "source": []
  }
 ],
 "metadata": {
  "hide_input": false,
  "kernelspec": {
   "display_name": "test_pixano",
   "language": "python",
   "name": "test_pixano"
  },
  "language_info": {
   "codemirror_mode": {
    "name": "ipython",
    "version": 3
   },
   "file_extension": ".py",
   "mimetype": "text/x-python",
   "name": "python",
   "nbconvert_exporter": "python",
   "pygments_lexer": "ipython3",
   "version": "3.6.8"
  },
  "toc": {
   "base_numbering": 1,
   "nav_menu": {},
   "number_sections": true,
   "sideBar": true,
   "skip_h1_title": false,
   "title_cell": "Table of Contents",
   "title_sidebar": "Contents",
   "toc_cell": false,
   "toc_position": {},
   "toc_section_display": true,
   "toc_window_display": false
  },
  "varInspector": {
   "cols": {
    "lenName": 16,
    "lenType": 16,
    "lenVar": 40
   },
   "kernels_config": {
    "python": {
     "delete_cmd_postfix": "",
     "delete_cmd_prefix": "del ",
     "library": "var_list.py",
     "varRefreshCmd": "print(var_dic_list())"
    },
    "r": {
     "delete_cmd_postfix": ") ",
     "delete_cmd_prefix": "rm(",
     "library": "var_list.r",
     "varRefreshCmd": "cat(var_dic_list()) "
    }
   },
   "types_to_exclude": [
    "module",
    "function",
    "builtin_function_or_method",
    "instance",
    "_Feature"
   ],
   "window_display": false
  }
 },
 "nbformat": 4,
 "nbformat_minor": 2
}
