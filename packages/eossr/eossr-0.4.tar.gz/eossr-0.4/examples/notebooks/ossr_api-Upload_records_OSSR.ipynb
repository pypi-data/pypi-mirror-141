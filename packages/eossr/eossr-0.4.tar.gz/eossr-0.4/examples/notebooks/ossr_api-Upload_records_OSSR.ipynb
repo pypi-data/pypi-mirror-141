{
 "cells": [
  {
   "cell_type": "markdown",
   "id": "d5e9bc28",
   "metadata": {},
   "source": [
    "# Upload records on the OSSR"
   ]
  },
  {
   "cell_type": "markdown",
   "id": "a4123841",
   "metadata": {},
   "source": [
    "To upload records on the OSSR, you may use the [Zenodo client](https://gitlab.in2p3.fr/escape2020/wp3/eossr/-/blob/master/eossr/api/zenodo.py).\n",
    "\n",
    "The client is also used by the continuous integration to automatise project's uploads from GitLab to Zenodo [check the EOSSR scripts here](https://gitlab.in2p3.fr/escape2020/wp3/eossr/-/tree/master/eossr/scripts).\n",
    "\n",
    "**However**, to upload records to the OSSR, you **will need** to use your Zenodo token ([create one](https://zenodo.org/account/settings/applications/tokens/new/))."
   ]
  },
  {
   "cell_type": "code",
   "execution_count": null,
   "id": "52aedbb2",
   "metadata": {
    "execution": {
     "iopub.execute_input": "2021-11-30T08:50:52.201170Z",
     "iopub.status.busy": "2021-11-30T08:50:52.200443Z",
     "iopub.status.idle": "2021-11-30T08:50:52.202813Z",
     "shell.execute_reply": "2021-11-30T08:50:52.203237Z"
    }
   },
   "outputs": [],
   "source": [
    "import os\n",
    "token = os.getenv('SANDBOX_ZENODO_TOKEN')  # Replace with your own token"
   ]
  },
  {
   "cell_type": "code",
   "execution_count": null,
   "id": "6fcd7ef2",
   "metadata": {
    "execution": {
     "iopub.execute_input": "2021-11-30T08:50:52.207043Z",
     "iopub.status.busy": "2021-11-30T08:50:52.206395Z",
     "iopub.status.idle": "2021-11-30T08:50:52.420839Z",
     "shell.execute_reply": "2021-11-30T08:50:52.421281Z"
    }
   },
   "outputs": [],
   "source": [
    "import json\n",
    "from eossr.api.zenodo import ZenodoAPI, Record\n",
    "\n",
    "# Please note that for this demo we are using Zenodo Sandbox.\n",
    "z = ZenodoAPI(access_token=token, sandbox=True)"
   ]
  },
  {
   "cell_type": "code",
   "execution_count": null,
   "id": "24eecce0",
   "metadata": {},
   "outputs": [],
   "source": []
  },
  {
   "cell_type": "markdown",
   "id": "c13a5232",
   "metadata": {},
   "source": [
    "## Create a new entry\n",
    "First we would need to create a new entry"
   ]
  },
  {
   "cell_type": "code",
   "execution_count": null,
   "id": "83075f0b",
   "metadata": {
    "execution": {
     "iopub.execute_input": "2021-11-30T08:50:52.425468Z",
     "iopub.status.busy": "2021-11-30T08:50:52.424845Z",
     "iopub.status.idle": "2021-11-30T08:50:52.744593Z",
     "shell.execute_reply": "2021-11-30T08:50:52.745263Z"
    }
   },
   "outputs": [],
   "source": [
    "new_entry = z.create_new_entry()"
   ]
  },
  {
   "cell_type": "markdown",
   "id": "fcd8e90c",
   "metadata": {},
   "source": [
    "### Zenodo HTTP status\n",
    "\n",
    "The function `create_new_entry` would have raised an error in case of failure.    \n",
    "But if you can its status code meaning using our `ZenodoHTTPStatus` class"
   ]
  },
  {
   "cell_type": "code",
   "execution_count": null,
   "id": "22f8e2b2",
   "metadata": {
    "execution": {
     "iopub.execute_input": "2021-11-30T08:50:52.750572Z",
     "iopub.status.busy": "2021-11-30T08:50:52.749736Z",
     "iopub.status.idle": "2021-11-30T08:50:52.752129Z",
     "shell.execute_reply": "2021-11-30T08:50:52.752625Z"
    }
   },
   "outputs": [],
   "source": [
    "from eossr.api.zenodo.http_status import ZenodoHTTPStatus"
   ]
  },
  {
   "cell_type": "code",
   "execution_count": null,
   "id": "07fd3360",
   "metadata": {
    "execution": {
     "iopub.execute_input": "2021-11-30T08:50:52.756900Z",
     "iopub.status.busy": "2021-11-30T08:50:52.756196Z",
     "iopub.status.idle": "2021-11-30T08:50:52.758914Z",
     "shell.execute_reply": "2021-11-30T08:50:52.759379Z"
    }
   },
   "outputs": [],
   "source": [
    "status_new_entry = ZenodoHTTPStatus(new_entry.status_code, new_entry.json())\n",
    "print(status_new_entry)"
   ]
  },
  {
   "cell_type": "markdown",
   "id": "b8761071",
   "metadata": {},
   "source": [
    "## Add files to the entry\n",
    "\n",
    "Then we upload to the new entry a file (let's say a `codemeta.json` metadata file)"
   ]
  },
  {
   "cell_type": "code",
   "execution_count": null,
   "id": "74351af6",
   "metadata": {
    "execution": {
     "iopub.execute_input": "2021-11-30T08:50:52.763517Z",
     "iopub.status.busy": "2021-11-30T08:50:52.762849Z",
     "iopub.status.idle": "2021-11-30T08:50:53.273350Z",
     "shell.execute_reply": "2021-11-30T08:50:53.273940Z"
    }
   },
   "outputs": [],
   "source": [
    "deposit_id = new_entry.json()['id']\n",
    "upload_file = z.upload_file_entry(deposit_id, \n",
    "                                  name_file='codemeta.json', \n",
    "                                  path_file='../../codemeta.json')"
   ]
  },
  {
   "cell_type": "code",
   "execution_count": null,
   "id": "a836e493",
   "metadata": {
    "execution": {
     "iopub.execute_input": "2021-11-30T08:50:53.279274Z",
     "iopub.status.busy": "2021-11-30T08:50:53.278520Z",
     "iopub.status.idle": "2021-11-30T08:50:53.281752Z",
     "shell.execute_reply": "2021-11-30T08:50:53.282471Z"
    }
   },
   "outputs": [],
   "source": [
    "status_upload = ZenodoHTTPStatus(upload_file.status_code, upload_file.json())\n",
    "print(status_upload)"
   ]
  },
  {
   "cell_type": "code",
   "execution_count": null,
   "id": "7809adba",
   "metadata": {},
   "outputs": [],
   "source": []
  },
  {
   "cell_type": "markdown",
   "id": "aadbd21e",
   "metadata": {},
   "source": [
    "## Add metadata to the entry\n",
    "\n",
    "We add metadata to the Zenodo entry using the EOSSR codemeta2zenodo conversor"
   ]
  },
  {
   "cell_type": "code",
   "execution_count": null,
   "id": "c622d5c9",
   "metadata": {
    "execution": {
     "iopub.execute_input": "2021-11-30T08:50:53.287806Z",
     "iopub.status.busy": "2021-11-30T08:50:53.286665Z",
     "iopub.status.idle": "2021-11-30T08:50:53.289185Z",
     "shell.execute_reply": "2021-11-30T08:50:53.289759Z"
    }
   },
   "outputs": [],
   "source": [
    "from eossr.metadata.codemeta2zenodo import parse_codemeta_and_write_zenodo_metadata_file"
   ]
  },
  {
   "cell_type": "code",
   "execution_count": null,
   "id": "d0b1af6d",
   "metadata": {
    "execution": {
     "iopub.execute_input": "2021-11-30T08:50:53.295388Z",
     "iopub.status.busy": "2021-11-30T08:50:53.294450Z",
     "iopub.status.idle": "2021-11-30T08:50:53.298204Z",
     "shell.execute_reply": "2021-11-30T08:50:53.298819Z"
    }
   },
   "outputs": [],
   "source": [
    "parse_codemeta_and_write_zenodo_metadata_file(codemeta_filename='../../codemeta.json', \n",
    "                                              outdir='.',\n",
    "                                              add_escape2020=True,\n",
    "                                              overwrite=True,\n",
    "                                             )"
   ]
  },
  {
   "cell_type": "code",
   "execution_count": null,
   "id": "9f3cfedc",
   "metadata": {
    "execution": {
     "iopub.execute_input": "2021-11-30T08:50:53.302847Z",
     "iopub.status.busy": "2021-11-30T08:50:53.302190Z",
     "iopub.status.idle": "2021-11-30T08:50:53.437777Z",
     "shell.execute_reply": "2021-11-30T08:50:53.438730Z"
    }
   },
   "outputs": [],
   "source": [
    "# Let's have a look to the output to the .zenodo.json file\n",
    "! cat .zenodo.json"
   ]
  },
  {
   "cell_type": "code",
   "execution_count": null,
   "id": "7c37dc70",
   "metadata": {
    "execution": {
     "iopub.execute_input": "2021-11-30T08:50:53.447674Z",
     "iopub.status.busy": "2021-11-30T08:50:53.446669Z",
     "iopub.status.idle": "2021-11-30T08:50:53.804882Z",
     "shell.execute_reply": "2021-11-30T08:50:53.805563Z"
    }
   },
   "outputs": [],
   "source": [
    "with open('.zenodo.json') as f:\n",
    "    zenodo_metadata = json.load(f)\n",
    "update_metadata_info = z.set_deposit_metadata(deposit_id, zenodo_metadata)"
   ]
  },
  {
   "cell_type": "code",
   "execution_count": null,
   "id": "ae6554d9",
   "metadata": {
    "execution": {
     "iopub.execute_input": "2021-11-30T08:50:53.810641Z",
     "iopub.status.busy": "2021-11-30T08:50:53.809836Z",
     "iopub.status.idle": "2021-11-30T08:50:53.812428Z",
     "shell.execute_reply": "2021-11-30T08:50:53.812947Z"
    }
   },
   "outputs": [],
   "source": [
    "status_metadata = ZenodoHTTPStatus(update_metadata_info.status_code, update_metadata_info.json())\n",
    "print(status_metadata)"
   ]
  },
  {
   "cell_type": "code",
   "execution_count": null,
   "id": "1f67832d",
   "metadata": {},
   "outputs": [],
   "source": []
  },
  {
   "cell_type": "markdown",
   "id": "c6a4df85",
   "metadata": {},
   "source": [
    "### Check the content of the new entry\n",
    "\n",
    "The `request` answers contain all the information of the current upload.    \n",
    "The json dictionnary can be treated as a standard Zenodo Record:"
   ]
  },
  {
   "cell_type": "code",
   "execution_count": null,
   "id": "4389a073",
   "metadata": {
    "execution": {
     "iopub.execute_input": "2021-11-30T08:50:53.824434Z",
     "iopub.status.busy": "2021-11-30T08:50:53.823719Z",
     "iopub.status.idle": "2021-11-30T08:50:53.826347Z",
     "shell.execute_reply": "2021-11-30T08:50:53.826855Z"
    }
   },
   "outputs": [],
   "source": [
    "new_record = Record(update_metadata_info.json())\n",
    "new_record"
   ]
  },
  {
   "cell_type": "code",
   "execution_count": null,
   "id": "9f696410",
   "metadata": {
    "execution": {
     "iopub.execute_input": "2021-11-30T08:50:53.830708Z",
     "iopub.status.busy": "2021-11-30T08:50:53.830076Z",
     "iopub.status.idle": "2021-11-30T08:50:53.833035Z",
     "shell.execute_reply": "2021-11-30T08:50:53.832540Z"
    }
   },
   "outputs": [],
   "source": [
    "new_record.print_info()"
   ]
  },
  {
   "cell_type": "markdown",
   "id": "a62874c5",
   "metadata": {},
   "source": [
    "We can check the files that we have already uploaded"
   ]
  },
  {
   "cell_type": "code",
   "execution_count": null,
   "id": "f0328d01",
   "metadata": {
    "execution": {
     "iopub.execute_input": "2021-11-30T08:50:53.837299Z",
     "iopub.status.busy": "2021-11-30T08:50:53.836702Z",
     "iopub.status.idle": "2021-11-30T08:50:53.839038Z",
     "shell.execute_reply": "2021-11-30T08:50:53.839457Z"
    }
   },
   "outputs": [],
   "source": [
    "new_record.data['files']"
   ]
  },
  {
   "cell_type": "markdown",
   "id": "ae3ccdb8",
   "metadata": {},
   "source": [
    "Or the metadata updated "
   ]
  },
  {
   "cell_type": "code",
   "execution_count": null,
   "id": "7111b368",
   "metadata": {
    "execution": {
     "iopub.execute_input": "2021-11-30T08:50:53.843926Z",
     "iopub.status.busy": "2021-11-30T08:50:53.843275Z",
     "iopub.status.idle": "2021-11-30T08:50:53.845563Z",
     "shell.execute_reply": "2021-11-30T08:50:53.845955Z"
    }
   },
   "outputs": [],
   "source": [
    "new_record.data['metadata']"
   ]
  },
  {
   "cell_type": "markdown",
   "id": "fa18756a",
   "metadata": {},
   "source": [
    "## Publish the entry\n",
    "\n",
    "Finally we can publish the new entry. \n",
    "However in this case, because this is just a demo, we will just erase the entry."
   ]
  },
  {
   "cell_type": "code",
   "execution_count": null,
   "id": "6a9f1f09",
   "metadata": {
    "execution": {
     "iopub.execute_input": "2021-11-30T08:50:53.849694Z",
     "iopub.status.busy": "2021-11-30T08:50:53.848996Z",
     "iopub.status.idle": "2021-11-30T08:50:53.851064Z",
     "shell.execute_reply": "2021-11-30T08:50:53.851523Z"
    }
   },
   "outputs": [],
   "source": [
    "# In case you would like to publish the entry, just uncomment the following lines.\n",
    "\n",
    "# # publish = z.publish_entry(deposit_id)\n",
    "# # status = ZenodoHTTPStatus(publish.status_code, publish.json())"
   ]
  },
  {
   "cell_type": "code",
   "execution_count": null,
   "id": "a2a81e21",
   "metadata": {
    "execution": {
     "iopub.execute_input": "2021-11-30T08:50:53.854967Z",
     "iopub.status.busy": "2021-11-30T08:50:53.854360Z",
     "iopub.status.idle": "2021-11-30T08:50:53.856066Z",
     "shell.execute_reply": "2021-11-30T08:50:53.856464Z"
    }
   },
   "outputs": [],
   "source": [
    "from eossr.api.zenodo.http_status import HTTPStatusError"
   ]
  },
  {
   "cell_type": "code",
   "execution_count": null,
   "id": "a1562ae2",
   "metadata": {
    "execution": {
     "iopub.execute_input": "2021-11-30T08:50:53.861542Z",
     "iopub.status.busy": "2021-11-30T08:50:53.859580Z",
     "iopub.status.idle": "2021-11-30T08:50:54.408003Z",
     "shell.execute_reply": "2021-11-30T08:50:54.408588Z"
    }
   },
   "outputs": [],
   "source": [
    "erase_entry = z.erase_entry(deposit_id)"
   ]
  },
  {
   "cell_type": "code",
   "execution_count": null,
   "id": "86cd043c",
   "metadata": {},
   "outputs": [],
   "source": []
  }
 ],
 "metadata": {
  "kernelspec": {
   "display_name": "Python 3",
   "language": "python",
   "name": "python3"
  },
  "language_info": {
   "codemirror_mode": {
    "name": "ipython",
    "version": 3
   },
   "file_extension": ".py",
   "mimetype": "text/x-python",
   "name": "python",
   "nbconvert_exporter": "python",
   "pygments_lexer": "ipython3",
   "version": "3.9.2"
  },
  "pycharm": {
   "stem_cell": {
    "cell_type": "raw",
    "source": [],
    "metadata": {
     "collapsed": false
    }
   }
  }
 },
 "nbformat": 4,
 "nbformat_minor": 5
}