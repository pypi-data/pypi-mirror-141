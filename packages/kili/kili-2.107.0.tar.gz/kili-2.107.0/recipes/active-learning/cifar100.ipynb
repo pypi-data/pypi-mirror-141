{
  "nbformat": 4,
  "nbformat_minor": 0,
  "metadata": {
    "kernelspec": {
      "display_name": "Python 3",
      "language": "python",
      "name": "python3"
    },
    "language_info": {
      "codemirror_mode": {
        "name": "ipython",
        "version": 3
      },
      "file_extension": ".py",
      "mimetype": "text/x-python",
      "name": "python",
      "nbconvert_exporter": "python",
      "pygments_lexer": "ipython3",
      "version": "3.7.6"
    },
    "colab": {
      "name": "cifar100.ipynb",
      "provenance": []
    },
    "accelerator": "TPU",
    "widgets": {
      "application/vnd.jupyter.widget-state+json": {
        "bbd2383e11314e5cabdfa9ea1ec15fb7": {
          "model_module": "@jupyter-widgets/controls",
          "model_name": "HBoxModel",
          "state": {
            "_view_name": "HBoxView",
            "_dom_classes": [],
            "_model_name": "HBoxModel",
            "_view_module": "@jupyter-widgets/controls",
            "_model_module_version": "1.5.0",
            "_view_count": null,
            "_view_module_version": "1.5.0",
            "box_style": "",
            "layout": "IPY_MODEL_4b86dab27c174a048ee7305b99376ea7",
            "_model_module": "@jupyter-widgets/controls",
            "children": [
              "IPY_MODEL_7f2e08eea6414981910be680438d01a9",
              "IPY_MODEL_a07393528d604d70abfe0073bf490fc2"
            ]
          }
        },
        "4b86dab27c174a048ee7305b99376ea7": {
          "model_module": "@jupyter-widgets/base",
          "model_name": "LayoutModel",
          "state": {
            "_view_name": "LayoutView",
            "grid_template_rows": null,
            "right": null,
            "justify_content": null,
            "_view_module": "@jupyter-widgets/base",
            "overflow": null,
            "_model_module_version": "1.2.0",
            "_view_count": null,
            "flex_flow": null,
            "width": null,
            "min_width": null,
            "border": null,
            "align_items": null,
            "bottom": null,
            "_model_module": "@jupyter-widgets/base",
            "top": null,
            "grid_column": null,
            "overflow_y": null,
            "overflow_x": null,
            "grid_auto_flow": null,
            "grid_area": null,
            "grid_template_columns": null,
            "flex": null,
            "_model_name": "LayoutModel",
            "justify_items": null,
            "grid_row": null,
            "max_height": null,
            "align_content": null,
            "visibility": null,
            "align_self": null,
            "height": null,
            "min_height": null,
            "padding": null,
            "grid_auto_rows": null,
            "grid_gap": null,
            "max_width": null,
            "order": null,
            "_view_module_version": "1.2.0",
            "grid_template_areas": null,
            "object_position": null,
            "object_fit": null,
            "grid_auto_columns": null,
            "margin": null,
            "display": null,
            "left": null
          }
        },
        "7f2e08eea6414981910be680438d01a9": {
          "model_module": "@jupyter-widgets/controls",
          "model_name": "FloatProgressModel",
          "state": {
            "_view_name": "ProgressView",
            "style": "IPY_MODEL_e4e6a984f6a449429287e5b3726c92b7",
            "_dom_classes": [],
            "description": "",
            "_model_name": "FloatProgressModel",
            "bar_style": "success",
            "max": 1,
            "_view_module": "@jupyter-widgets/controls",
            "_model_module_version": "1.5.0",
            "value": 1,
            "_view_count": null,
            "_view_module_version": "1.5.0",
            "orientation": "horizontal",
            "min": 0,
            "description_tooltip": null,
            "_model_module": "@jupyter-widgets/controls",
            "layout": "IPY_MODEL_f9b8f4adc0f0430b81df96964b62ac24"
          }
        },
        "a07393528d604d70abfe0073bf490fc2": {
          "model_module": "@jupyter-widgets/controls",
          "model_name": "HTMLModel",
          "state": {
            "_view_name": "HTMLView",
            "style": "IPY_MODEL_1d3e490a2f3149648b8a4f6e4d35847a",
            "_dom_classes": [],
            "description": "",
            "_model_name": "HTMLModel",
            "placeholder": "​",
            "_view_module": "@jupyter-widgets/controls",
            "_model_module_version": "1.5.0",
            "value": " 170500096/? [00:07&lt;00:00, 22743154.15it/s]",
            "_view_count": null,
            "_view_module_version": "1.5.0",
            "description_tooltip": null,
            "_model_module": "@jupyter-widgets/controls",
            "layout": "IPY_MODEL_b846e7e49f264eacbc25b1ff2edb20aa"
          }
        },
        "e4e6a984f6a449429287e5b3726c92b7": {
          "model_module": "@jupyter-widgets/controls",
          "model_name": "ProgressStyleModel",
          "state": {
            "_view_name": "StyleView",
            "_model_name": "ProgressStyleModel",
            "description_width": "initial",
            "_view_module": "@jupyter-widgets/base",
            "_model_module_version": "1.5.0",
            "_view_count": null,
            "_view_module_version": "1.2.0",
            "bar_color": null,
            "_model_module": "@jupyter-widgets/controls"
          }
        },
        "f9b8f4adc0f0430b81df96964b62ac24": {
          "model_module": "@jupyter-widgets/base",
          "model_name": "LayoutModel",
          "state": {
            "_view_name": "LayoutView",
            "grid_template_rows": null,
            "right": null,
            "justify_content": null,
            "_view_module": "@jupyter-widgets/base",
            "overflow": null,
            "_model_module_version": "1.2.0",
            "_view_count": null,
            "flex_flow": null,
            "width": null,
            "min_width": null,
            "border": null,
            "align_items": null,
            "bottom": null,
            "_model_module": "@jupyter-widgets/base",
            "top": null,
            "grid_column": null,
            "overflow_y": null,
            "overflow_x": null,
            "grid_auto_flow": null,
            "grid_area": null,
            "grid_template_columns": null,
            "flex": null,
            "_model_name": "LayoutModel",
            "justify_items": null,
            "grid_row": null,
            "max_height": null,
            "align_content": null,
            "visibility": null,
            "align_self": null,
            "height": null,
            "min_height": null,
            "padding": null,
            "grid_auto_rows": null,
            "grid_gap": null,
            "max_width": null,
            "order": null,
            "_view_module_version": "1.2.0",
            "grid_template_areas": null,
            "object_position": null,
            "object_fit": null,
            "grid_auto_columns": null,
            "margin": null,
            "display": null,
            "left": null
          }
        },
        "1d3e490a2f3149648b8a4f6e4d35847a": {
          "model_module": "@jupyter-widgets/controls",
          "model_name": "DescriptionStyleModel",
          "state": {
            "_view_name": "StyleView",
            "_model_name": "DescriptionStyleModel",
            "description_width": "",
            "_view_module": "@jupyter-widgets/base",
            "_model_module_version": "1.5.0",
            "_view_count": null,
            "_view_module_version": "1.2.0",
            "_model_module": "@jupyter-widgets/controls"
          }
        },
        "b846e7e49f264eacbc25b1ff2edb20aa": {
          "model_module": "@jupyter-widgets/base",
          "model_name": "LayoutModel",
          "state": {
            "_view_name": "LayoutView",
            "grid_template_rows": null,
            "right": null,
            "justify_content": null,
            "_view_module": "@jupyter-widgets/base",
            "overflow": null,
            "_model_module_version": "1.2.0",
            "_view_count": null,
            "flex_flow": null,
            "width": null,
            "min_width": null,
            "border": null,
            "align_items": null,
            "bottom": null,
            "_model_module": "@jupyter-widgets/base",
            "top": null,
            "grid_column": null,
            "overflow_y": null,
            "overflow_x": null,
            "grid_auto_flow": null,
            "grid_area": null,
            "grid_template_columns": null,
            "flex": null,
            "_model_name": "LayoutModel",
            "justify_items": null,
            "grid_row": null,
            "max_height": null,
            "align_content": null,
            "visibility": null,
            "align_self": null,
            "height": null,
            "min_height": null,
            "padding": null,
            "grid_auto_rows": null,
            "grid_gap": null,
            "max_width": null,
            "order": null,
            "_view_module_version": "1.2.0",
            "grid_template_areas": null,
            "object_position": null,
            "object_fit": null,
            "grid_auto_columns": null,
            "margin": null,
            "display": null,
            "left": null
          }
        },
        "1e3972e44d684bfc8f05c049e4ced455": {
          "model_module": "@jupyter-widgets/controls",
          "model_name": "HBoxModel",
          "state": {
            "_view_name": "HBoxView",
            "_dom_classes": [],
            "_model_name": "HBoxModel",
            "_view_module": "@jupyter-widgets/controls",
            "_model_module_version": "1.5.0",
            "_view_count": null,
            "_view_module_version": "1.5.0",
            "box_style": "",
            "layout": "IPY_MODEL_05ae73958a4a4125b3b4587e688926a1",
            "_model_module": "@jupyter-widgets/controls",
            "children": [
              "IPY_MODEL_8ea2262b2ced43798e3be440220b5a4a",
              "IPY_MODEL_1c8ea9472aaa45a08111b176a12a6e4f"
            ]
          }
        },
        "05ae73958a4a4125b3b4587e688926a1": {
          "model_module": "@jupyter-widgets/base",
          "model_name": "LayoutModel",
          "state": {
            "_view_name": "LayoutView",
            "grid_template_rows": null,
            "right": null,
            "justify_content": null,
            "_view_module": "@jupyter-widgets/base",
            "overflow": null,
            "_model_module_version": "1.2.0",
            "_view_count": null,
            "flex_flow": null,
            "width": null,
            "min_width": null,
            "border": null,
            "align_items": null,
            "bottom": null,
            "_model_module": "@jupyter-widgets/base",
            "top": null,
            "grid_column": null,
            "overflow_y": null,
            "overflow_x": null,
            "grid_auto_flow": null,
            "grid_area": null,
            "grid_template_columns": null,
            "flex": null,
            "_model_name": "LayoutModel",
            "justify_items": null,
            "grid_row": null,
            "max_height": null,
            "align_content": null,
            "visibility": null,
            "align_self": null,
            "height": null,
            "min_height": null,
            "padding": null,
            "grid_auto_rows": null,
            "grid_gap": null,
            "max_width": null,
            "order": null,
            "_view_module_version": "1.2.0",
            "grid_template_areas": null,
            "object_position": null,
            "object_fit": null,
            "grid_auto_columns": null,
            "margin": null,
            "display": null,
            "left": null
          }
        },
        "8ea2262b2ced43798e3be440220b5a4a": {
          "model_module": "@jupyter-widgets/controls",
          "model_name": "FloatProgressModel",
          "state": {
            "_view_name": "ProgressView",
            "style": "IPY_MODEL_c7381e85871f4439ab3be10a94ed2abc",
            "_dom_classes": [],
            "description": "",
            "_model_name": "FloatProgressModel",
            "bar_style": "success",
            "max": 1,
            "_view_module": "@jupyter-widgets/controls",
            "_model_module_version": "1.5.0",
            "value": 1,
            "_view_count": null,
            "_view_module_version": "1.5.0",
            "orientation": "horizontal",
            "min": 0,
            "description_tooltip": null,
            "_model_module": "@jupyter-widgets/controls",
            "layout": "IPY_MODEL_dfa6f28327644055b0f86f4c73616044"
          }
        },
        "1c8ea9472aaa45a08111b176a12a6e4f": {
          "model_module": "@jupyter-widgets/controls",
          "model_name": "HTMLModel",
          "state": {
            "_view_name": "HTMLView",
            "style": "IPY_MODEL_49c73ced709c491cb36581129c773ee8",
            "_dom_classes": [],
            "description": "",
            "_model_name": "HTMLModel",
            "placeholder": "​",
            "_view_module": "@jupyter-widgets/controls",
            "_model_module_version": "1.5.0",
            "value": " 9920512/? [00:01&lt;00:00, 6709041.51it/s]",
            "_view_count": null,
            "_view_module_version": "1.5.0",
            "description_tooltip": null,
            "_model_module": "@jupyter-widgets/controls",
            "layout": "IPY_MODEL_0b8668a6c74d432981e73d930a7062f9"
          }
        },
        "c7381e85871f4439ab3be10a94ed2abc": {
          "model_module": "@jupyter-widgets/controls",
          "model_name": "ProgressStyleModel",
          "state": {
            "_view_name": "StyleView",
            "_model_name": "ProgressStyleModel",
            "description_width": "initial",
            "_view_module": "@jupyter-widgets/base",
            "_model_module_version": "1.5.0",
            "_view_count": null,
            "_view_module_version": "1.2.0",
            "bar_color": null,
            "_model_module": "@jupyter-widgets/controls"
          }
        },
        "dfa6f28327644055b0f86f4c73616044": {
          "model_module": "@jupyter-widgets/base",
          "model_name": "LayoutModel",
          "state": {
            "_view_name": "LayoutView",
            "grid_template_rows": null,
            "right": null,
            "justify_content": null,
            "_view_module": "@jupyter-widgets/base",
            "overflow": null,
            "_model_module_version": "1.2.0",
            "_view_count": null,
            "flex_flow": null,
            "width": null,
            "min_width": null,
            "border": null,
            "align_items": null,
            "bottom": null,
            "_model_module": "@jupyter-widgets/base",
            "top": null,
            "grid_column": null,
            "overflow_y": null,
            "overflow_x": null,
            "grid_auto_flow": null,
            "grid_area": null,
            "grid_template_columns": null,
            "flex": null,
            "_model_name": "LayoutModel",
            "justify_items": null,
            "grid_row": null,
            "max_height": null,
            "align_content": null,
            "visibility": null,
            "align_self": null,
            "height": null,
            "min_height": null,
            "padding": null,
            "grid_auto_rows": null,
            "grid_gap": null,
            "max_width": null,
            "order": null,
            "_view_module_version": "1.2.0",
            "grid_template_areas": null,
            "object_position": null,
            "object_fit": null,
            "grid_auto_columns": null,
            "margin": null,
            "display": null,
            "left": null
          }
        },
        "49c73ced709c491cb36581129c773ee8": {
          "model_module": "@jupyter-widgets/controls",
          "model_name": "DescriptionStyleModel",
          "state": {
            "_view_name": "StyleView",
            "_model_name": "DescriptionStyleModel",
            "description_width": "",
            "_view_module": "@jupyter-widgets/base",
            "_model_module_version": "1.5.0",
            "_view_count": null,
            "_view_module_version": "1.2.0",
            "_model_module": "@jupyter-widgets/controls"
          }
        },
        "0b8668a6c74d432981e73d930a7062f9": {
          "model_module": "@jupyter-widgets/base",
          "model_name": "LayoutModel",
          "state": {
            "_view_name": "LayoutView",
            "grid_template_rows": null,
            "right": null,
            "justify_content": null,
            "_view_module": "@jupyter-widgets/base",
            "overflow": null,
            "_model_module_version": "1.2.0",
            "_view_count": null,
            "flex_flow": null,
            "width": null,
            "min_width": null,
            "border": null,
            "align_items": null,
            "bottom": null,
            "_model_module": "@jupyter-widgets/base",
            "top": null,
            "grid_column": null,
            "overflow_y": null,
            "overflow_x": null,
            "grid_auto_flow": null,
            "grid_area": null,
            "grid_template_columns": null,
            "flex": null,
            "_model_name": "LayoutModel",
            "justify_items": null,
            "grid_row": null,
            "max_height": null,
            "align_content": null,
            "visibility": null,
            "align_self": null,
            "height": null,
            "min_height": null,
            "padding": null,
            "grid_auto_rows": null,
            "grid_gap": null,
            "max_width": null,
            "order": null,
            "_view_module_version": "1.2.0",
            "grid_template_areas": null,
            "object_position": null,
            "object_fit": null,
            "grid_auto_columns": null,
            "margin": null,
            "display": null,
            "left": null
          }
        },
        "5281af94ee7e4ac7bdd1ca7e5f13d79d": {
          "model_module": "@jupyter-widgets/controls",
          "model_name": "HBoxModel",
          "state": {
            "_view_name": "HBoxView",
            "_dom_classes": [],
            "_model_name": "HBoxModel",
            "_view_module": "@jupyter-widgets/controls",
            "_model_module_version": "1.5.0",
            "_view_count": null,
            "_view_module_version": "1.5.0",
            "box_style": "",
            "layout": "IPY_MODEL_1a413817f0904ffa94230949f457f622",
            "_model_module": "@jupyter-widgets/controls",
            "children": [
              "IPY_MODEL_7c60428e1d8b4744a934d3a0eedb61fa",
              "IPY_MODEL_06f0a8ecb9794516b615f2510b6fd3bc"
            ]
          }
        },
        "1a413817f0904ffa94230949f457f622": {
          "model_module": "@jupyter-widgets/base",
          "model_name": "LayoutModel",
          "state": {
            "_view_name": "LayoutView",
            "grid_template_rows": null,
            "right": null,
            "justify_content": null,
            "_view_module": "@jupyter-widgets/base",
            "overflow": null,
            "_model_module_version": "1.2.0",
            "_view_count": null,
            "flex_flow": null,
            "width": null,
            "min_width": null,
            "border": null,
            "align_items": null,
            "bottom": null,
            "_model_module": "@jupyter-widgets/base",
            "top": null,
            "grid_column": null,
            "overflow_y": null,
            "overflow_x": null,
            "grid_auto_flow": null,
            "grid_area": null,
            "grid_template_columns": null,
            "flex": null,
            "_model_name": "LayoutModel",
            "justify_items": null,
            "grid_row": null,
            "max_height": null,
            "align_content": null,
            "visibility": null,
            "align_self": null,
            "height": null,
            "min_height": null,
            "padding": null,
            "grid_auto_rows": null,
            "grid_gap": null,
            "max_width": null,
            "order": null,
            "_view_module_version": "1.2.0",
            "grid_template_areas": null,
            "object_position": null,
            "object_fit": null,
            "grid_auto_columns": null,
            "margin": null,
            "display": null,
            "left": null
          }
        },
        "7c60428e1d8b4744a934d3a0eedb61fa": {
          "model_module": "@jupyter-widgets/controls",
          "model_name": "FloatProgressModel",
          "state": {
            "_view_name": "ProgressView",
            "style": "IPY_MODEL_85b7e6941aff41cf95b01a0dc0837eda",
            "_dom_classes": [],
            "description": "",
            "_model_name": "FloatProgressModel",
            "bar_style": "success",
            "max": 1,
            "_view_module": "@jupyter-widgets/controls",
            "_model_module_version": "1.5.0",
            "value": 1,
            "_view_count": null,
            "_view_module_version": "1.5.0",
            "orientation": "horizontal",
            "min": 0,
            "description_tooltip": null,
            "_model_module": "@jupyter-widgets/controls",
            "layout": "IPY_MODEL_cda496da5c0045ab9a7bbd1477757765"
          }
        },
        "06f0a8ecb9794516b615f2510b6fd3bc": {
          "model_module": "@jupyter-widgets/controls",
          "model_name": "HTMLModel",
          "state": {
            "_view_name": "HTMLView",
            "style": "IPY_MODEL_8e37e1d98136464bb2688cfd449622a2",
            "_dom_classes": [],
            "description": "",
            "_model_name": "HTMLModel",
            "placeholder": "​",
            "_view_module": "@jupyter-widgets/controls",
            "_model_module_version": "1.5.0",
            "value": " 32768/? [00:00&lt;00:00, 55694.60it/s]",
            "_view_count": null,
            "_view_module_version": "1.5.0",
            "description_tooltip": null,
            "_model_module": "@jupyter-widgets/controls",
            "layout": "IPY_MODEL_e7dcb81ac66549fdb4a55082307b56bb"
          }
        },
        "85b7e6941aff41cf95b01a0dc0837eda": {
          "model_module": "@jupyter-widgets/controls",
          "model_name": "ProgressStyleModel",
          "state": {
            "_view_name": "StyleView",
            "_model_name": "ProgressStyleModel",
            "description_width": "initial",
            "_view_module": "@jupyter-widgets/base",
            "_model_module_version": "1.5.0",
            "_view_count": null,
            "_view_module_version": "1.2.0",
            "bar_color": null,
            "_model_module": "@jupyter-widgets/controls"
          }
        },
        "cda496da5c0045ab9a7bbd1477757765": {
          "model_module": "@jupyter-widgets/base",
          "model_name": "LayoutModel",
          "state": {
            "_view_name": "LayoutView",
            "grid_template_rows": null,
            "right": null,
            "justify_content": null,
            "_view_module": "@jupyter-widgets/base",
            "overflow": null,
            "_model_module_version": "1.2.0",
            "_view_count": null,
            "flex_flow": null,
            "width": null,
            "min_width": null,
            "border": null,
            "align_items": null,
            "bottom": null,
            "_model_module": "@jupyter-widgets/base",
            "top": null,
            "grid_column": null,
            "overflow_y": null,
            "overflow_x": null,
            "grid_auto_flow": null,
            "grid_area": null,
            "grid_template_columns": null,
            "flex": null,
            "_model_name": "LayoutModel",
            "justify_items": null,
            "grid_row": null,
            "max_height": null,
            "align_content": null,
            "visibility": null,
            "align_self": null,
            "height": null,
            "min_height": null,
            "padding": null,
            "grid_auto_rows": null,
            "grid_gap": null,
            "max_width": null,
            "order": null,
            "_view_module_version": "1.2.0",
            "grid_template_areas": null,
            "object_position": null,
            "object_fit": null,
            "grid_auto_columns": null,
            "margin": null,
            "display": null,
            "left": null
          }
        },
        "8e37e1d98136464bb2688cfd449622a2": {
          "model_module": "@jupyter-widgets/controls",
          "model_name": "DescriptionStyleModel",
          "state": {
            "_view_name": "StyleView",
            "_model_name": "DescriptionStyleModel",
            "description_width": "",
            "_view_module": "@jupyter-widgets/base",
            "_model_module_version": "1.5.0",
            "_view_count": null,
            "_view_module_version": "1.2.0",
            "_model_module": "@jupyter-widgets/controls"
          }
        },
        "e7dcb81ac66549fdb4a55082307b56bb": {
          "model_module": "@jupyter-widgets/base",
          "model_name": "LayoutModel",
          "state": {
            "_view_name": "LayoutView",
            "grid_template_rows": null,
            "right": null,
            "justify_content": null,
            "_view_module": "@jupyter-widgets/base",
            "overflow": null,
            "_model_module_version": "1.2.0",
            "_view_count": null,
            "flex_flow": null,
            "width": null,
            "min_width": null,
            "border": null,
            "align_items": null,
            "bottom": null,
            "_model_module": "@jupyter-widgets/base",
            "top": null,
            "grid_column": null,
            "overflow_y": null,
            "overflow_x": null,
            "grid_auto_flow": null,
            "grid_area": null,
            "grid_template_columns": null,
            "flex": null,
            "_model_name": "LayoutModel",
            "justify_items": null,
            "grid_row": null,
            "max_height": null,
            "align_content": null,
            "visibility": null,
            "align_self": null,
            "height": null,
            "min_height": null,
            "padding": null,
            "grid_auto_rows": null,
            "grid_gap": null,
            "max_width": null,
            "order": null,
            "_view_module_version": "1.2.0",
            "grid_template_areas": null,
            "object_position": null,
            "object_fit": null,
            "grid_auto_columns": null,
            "margin": null,
            "display": null,
            "left": null
          }
        },
        "f3913f18429544dc9790e71093ef254b": {
          "model_module": "@jupyter-widgets/controls",
          "model_name": "HBoxModel",
          "state": {
            "_view_name": "HBoxView",
            "_dom_classes": [],
            "_model_name": "HBoxModel",
            "_view_module": "@jupyter-widgets/controls",
            "_model_module_version": "1.5.0",
            "_view_count": null,
            "_view_module_version": "1.5.0",
            "box_style": "",
            "layout": "IPY_MODEL_d9746862b25d4f4ba27d8fd0e177a565",
            "_model_module": "@jupyter-widgets/controls",
            "children": [
              "IPY_MODEL_86c9ddefedd947448503b4eacf2c9354",
              "IPY_MODEL_08218044b81b410da7b4cc800ed4fd7f"
            ]
          }
        },
        "d9746862b25d4f4ba27d8fd0e177a565": {
          "model_module": "@jupyter-widgets/base",
          "model_name": "LayoutModel",
          "state": {
            "_view_name": "LayoutView",
            "grid_template_rows": null,
            "right": null,
            "justify_content": null,
            "_view_module": "@jupyter-widgets/base",
            "overflow": null,
            "_model_module_version": "1.2.0",
            "_view_count": null,
            "flex_flow": null,
            "width": null,
            "min_width": null,
            "border": null,
            "align_items": null,
            "bottom": null,
            "_model_module": "@jupyter-widgets/base",
            "top": null,
            "grid_column": null,
            "overflow_y": null,
            "overflow_x": null,
            "grid_auto_flow": null,
            "grid_area": null,
            "grid_template_columns": null,
            "flex": null,
            "_model_name": "LayoutModel",
            "justify_items": null,
            "grid_row": null,
            "max_height": null,
            "align_content": null,
            "visibility": null,
            "align_self": null,
            "height": null,
            "min_height": null,
            "padding": null,
            "grid_auto_rows": null,
            "grid_gap": null,
            "max_width": null,
            "order": null,
            "_view_module_version": "1.2.0",
            "grid_template_areas": null,
            "object_position": null,
            "object_fit": null,
            "grid_auto_columns": null,
            "margin": null,
            "display": null,
            "left": null
          }
        },
        "86c9ddefedd947448503b4eacf2c9354": {
          "model_module": "@jupyter-widgets/controls",
          "model_name": "FloatProgressModel",
          "state": {
            "_view_name": "ProgressView",
            "style": "IPY_MODEL_421bcf7d20544915b448a368a6436226",
            "_dom_classes": [],
            "description": "",
            "_model_name": "FloatProgressModel",
            "bar_style": "success",
            "max": 1,
            "_view_module": "@jupyter-widgets/controls",
            "_model_module_version": "1.5.0",
            "value": 1,
            "_view_count": null,
            "_view_module_version": "1.5.0",
            "orientation": "horizontal",
            "min": 0,
            "description_tooltip": null,
            "_model_module": "@jupyter-widgets/controls",
            "layout": "IPY_MODEL_ca649b8696324957ae05643bee429157"
          }
        },
        "08218044b81b410da7b4cc800ed4fd7f": {
          "model_module": "@jupyter-widgets/controls",
          "model_name": "HTMLModel",
          "state": {
            "_view_name": "HTMLView",
            "style": "IPY_MODEL_5b7668871165448f88c574ae4ceefa77",
            "_dom_classes": [],
            "description": "",
            "_model_name": "HTMLModel",
            "placeholder": "​",
            "_view_module": "@jupyter-widgets/controls",
            "_model_module_version": "1.5.0",
            "value": " 1654784/? [00:00&lt;00:00, 4228728.55it/s]",
            "_view_count": null,
            "_view_module_version": "1.5.0",
            "description_tooltip": null,
            "_model_module": "@jupyter-widgets/controls",
            "layout": "IPY_MODEL_7af849bfa4d449d796774e69ba1fa711"
          }
        },
        "421bcf7d20544915b448a368a6436226": {
          "model_module": "@jupyter-widgets/controls",
          "model_name": "ProgressStyleModel",
          "state": {
            "_view_name": "StyleView",
            "_model_name": "ProgressStyleModel",
            "description_width": "initial",
            "_view_module": "@jupyter-widgets/base",
            "_model_module_version": "1.5.0",
            "_view_count": null,
            "_view_module_version": "1.2.0",
            "bar_color": null,
            "_model_module": "@jupyter-widgets/controls"
          }
        },
        "ca649b8696324957ae05643bee429157": {
          "model_module": "@jupyter-widgets/base",
          "model_name": "LayoutModel",
          "state": {
            "_view_name": "LayoutView",
            "grid_template_rows": null,
            "right": null,
            "justify_content": null,
            "_view_module": "@jupyter-widgets/base",
            "overflow": null,
            "_model_module_version": "1.2.0",
            "_view_count": null,
            "flex_flow": null,
            "width": null,
            "min_width": null,
            "border": null,
            "align_items": null,
            "bottom": null,
            "_model_module": "@jupyter-widgets/base",
            "top": null,
            "grid_column": null,
            "overflow_y": null,
            "overflow_x": null,
            "grid_auto_flow": null,
            "grid_area": null,
            "grid_template_columns": null,
            "flex": null,
            "_model_name": "LayoutModel",
            "justify_items": null,
            "grid_row": null,
            "max_height": null,
            "align_content": null,
            "visibility": null,
            "align_self": null,
            "height": null,
            "min_height": null,
            "padding": null,
            "grid_auto_rows": null,
            "grid_gap": null,
            "max_width": null,
            "order": null,
            "_view_module_version": "1.2.0",
            "grid_template_areas": null,
            "object_position": null,
            "object_fit": null,
            "grid_auto_columns": null,
            "margin": null,
            "display": null,
            "left": null
          }
        },
        "5b7668871165448f88c574ae4ceefa77": {
          "model_module": "@jupyter-widgets/controls",
          "model_name": "DescriptionStyleModel",
          "state": {
            "_view_name": "StyleView",
            "_model_name": "DescriptionStyleModel",
            "description_width": "",
            "_view_module": "@jupyter-widgets/base",
            "_model_module_version": "1.5.0",
            "_view_count": null,
            "_view_module_version": "1.2.0",
            "_model_module": "@jupyter-widgets/controls"
          }
        },
        "7af849bfa4d449d796774e69ba1fa711": {
          "model_module": "@jupyter-widgets/base",
          "model_name": "LayoutModel",
          "state": {
            "_view_name": "LayoutView",
            "grid_template_rows": null,
            "right": null,
            "justify_content": null,
            "_view_module": "@jupyter-widgets/base",
            "overflow": null,
            "_model_module_version": "1.2.0",
            "_view_count": null,
            "flex_flow": null,
            "width": null,
            "min_width": null,
            "border": null,
            "align_items": null,
            "bottom": null,
            "_model_module": "@jupyter-widgets/base",
            "top": null,
            "grid_column": null,
            "overflow_y": null,
            "overflow_x": null,
            "grid_auto_flow": null,
            "grid_area": null,
            "grid_template_columns": null,
            "flex": null,
            "_model_name": "LayoutModel",
            "justify_items": null,
            "grid_row": null,
            "max_height": null,
            "align_content": null,
            "visibility": null,
            "align_self": null,
            "height": null,
            "min_height": null,
            "padding": null,
            "grid_auto_rows": null,
            "grid_gap": null,
            "max_width": null,
            "order": null,
            "_view_module_version": "1.2.0",
            "grid_template_areas": null,
            "object_position": null,
            "object_fit": null,
            "grid_auto_columns": null,
            "margin": null,
            "display": null,
            "left": null
          }
        },
        "72925440c3564de2a92a1a0e5b7df3ec": {
          "model_module": "@jupyter-widgets/controls",
          "model_name": "HBoxModel",
          "state": {
            "_view_name": "HBoxView",
            "_dom_classes": [],
            "_model_name": "HBoxModel",
            "_view_module": "@jupyter-widgets/controls",
            "_model_module_version": "1.5.0",
            "_view_count": null,
            "_view_module_version": "1.5.0",
            "box_style": "",
            "layout": "IPY_MODEL_d0cf7e54d19a46218b586f0b7373cc9e",
            "_model_module": "@jupyter-widgets/controls",
            "children": [
              "IPY_MODEL_44af7060997241c7b04d25d4ddaa93ff",
              "IPY_MODEL_2c72a92948d7437b9e268947549000c9"
            ]
          }
        },
        "d0cf7e54d19a46218b586f0b7373cc9e": {
          "model_module": "@jupyter-widgets/base",
          "model_name": "LayoutModel",
          "state": {
            "_view_name": "LayoutView",
            "grid_template_rows": null,
            "right": null,
            "justify_content": null,
            "_view_module": "@jupyter-widgets/base",
            "overflow": null,
            "_model_module_version": "1.2.0",
            "_view_count": null,
            "flex_flow": null,
            "width": null,
            "min_width": null,
            "border": null,
            "align_items": null,
            "bottom": null,
            "_model_module": "@jupyter-widgets/base",
            "top": null,
            "grid_column": null,
            "overflow_y": null,
            "overflow_x": null,
            "grid_auto_flow": null,
            "grid_area": null,
            "grid_template_columns": null,
            "flex": null,
            "_model_name": "LayoutModel",
            "justify_items": null,
            "grid_row": null,
            "max_height": null,
            "align_content": null,
            "visibility": null,
            "align_self": null,
            "height": null,
            "min_height": null,
            "padding": null,
            "grid_auto_rows": null,
            "grid_gap": null,
            "max_width": null,
            "order": null,
            "_view_module_version": "1.2.0",
            "grid_template_areas": null,
            "object_position": null,
            "object_fit": null,
            "grid_auto_columns": null,
            "margin": null,
            "display": null,
            "left": null
          }
        },
        "44af7060997241c7b04d25d4ddaa93ff": {
          "model_module": "@jupyter-widgets/controls",
          "model_name": "FloatProgressModel",
          "state": {
            "_view_name": "ProgressView",
            "style": "IPY_MODEL_10a37ed55dd34fc89a0dc641da83ca4f",
            "_dom_classes": [],
            "description": "",
            "_model_name": "FloatProgressModel",
            "bar_style": "success",
            "max": 1,
            "_view_module": "@jupyter-widgets/controls",
            "_model_module_version": "1.5.0",
            "value": 1,
            "_view_count": null,
            "_view_module_version": "1.5.0",
            "orientation": "horizontal",
            "min": 0,
            "description_tooltip": null,
            "_model_module": "@jupyter-widgets/controls",
            "layout": "IPY_MODEL_534627c0ba814414bf562d566aa9f78e"
          }
        },
        "2c72a92948d7437b9e268947549000c9": {
          "model_module": "@jupyter-widgets/controls",
          "model_name": "HTMLModel",
          "state": {
            "_view_name": "HTMLView",
            "style": "IPY_MODEL_8dd6512f98794d54865e21c3fad40f2c",
            "_dom_classes": [],
            "description": "",
            "_model_name": "HTMLModel",
            "placeholder": "​",
            "_view_module": "@jupyter-widgets/controls",
            "_model_module_version": "1.5.0",
            "value": " 8192/? [00:00&lt;00:00, 10172.59it/s]",
            "_view_count": null,
            "_view_module_version": "1.5.0",
            "description_tooltip": null,
            "_model_module": "@jupyter-widgets/controls",
            "layout": "IPY_MODEL_2a8b51875ab04c36ad3a5c6899409af4"
          }
        },
        "10a37ed55dd34fc89a0dc641da83ca4f": {
          "model_module": "@jupyter-widgets/controls",
          "model_name": "ProgressStyleModel",
          "state": {
            "_view_name": "StyleView",
            "_model_name": "ProgressStyleModel",
            "description_width": "initial",
            "_view_module": "@jupyter-widgets/base",
            "_model_module_version": "1.5.0",
            "_view_count": null,
            "_view_module_version": "1.2.0",
            "bar_color": null,
            "_model_module": "@jupyter-widgets/controls"
          }
        },
        "534627c0ba814414bf562d566aa9f78e": {
          "model_module": "@jupyter-widgets/base",
          "model_name": "LayoutModel",
          "state": {
            "_view_name": "LayoutView",
            "grid_template_rows": null,
            "right": null,
            "justify_content": null,
            "_view_module": "@jupyter-widgets/base",
            "overflow": null,
            "_model_module_version": "1.2.0",
            "_view_count": null,
            "flex_flow": null,
            "width": null,
            "min_width": null,
            "border": null,
            "align_items": null,
            "bottom": null,
            "_model_module": "@jupyter-widgets/base",
            "top": null,
            "grid_column": null,
            "overflow_y": null,
            "overflow_x": null,
            "grid_auto_flow": null,
            "grid_area": null,
            "grid_template_columns": null,
            "flex": null,
            "_model_name": "LayoutModel",
            "justify_items": null,
            "grid_row": null,
            "max_height": null,
            "align_content": null,
            "visibility": null,
            "align_self": null,
            "height": null,
            "min_height": null,
            "padding": null,
            "grid_auto_rows": null,
            "grid_gap": null,
            "max_width": null,
            "order": null,
            "_view_module_version": "1.2.0",
            "grid_template_areas": null,
            "object_position": null,
            "object_fit": null,
            "grid_auto_columns": null,
            "margin": null,
            "display": null,
            "left": null
          }
        },
        "8dd6512f98794d54865e21c3fad40f2c": {
          "model_module": "@jupyter-widgets/controls",
          "model_name": "DescriptionStyleModel",
          "state": {
            "_view_name": "StyleView",
            "_model_name": "DescriptionStyleModel",
            "description_width": "",
            "_view_module": "@jupyter-widgets/base",
            "_model_module_version": "1.5.0",
            "_view_count": null,
            "_view_module_version": "1.2.0",
            "_model_module": "@jupyter-widgets/controls"
          }
        },
        "2a8b51875ab04c36ad3a5c6899409af4": {
          "model_module": "@jupyter-widgets/base",
          "model_name": "LayoutModel",
          "state": {
            "_view_name": "LayoutView",
            "grid_template_rows": null,
            "right": null,
            "justify_content": null,
            "_view_module": "@jupyter-widgets/base",
            "overflow": null,
            "_model_module_version": "1.2.0",
            "_view_count": null,
            "flex_flow": null,
            "width": null,
            "min_width": null,
            "border": null,
            "align_items": null,
            "bottom": null,
            "_model_module": "@jupyter-widgets/base",
            "top": null,
            "grid_column": null,
            "overflow_y": null,
            "overflow_x": null,
            "grid_auto_flow": null,
            "grid_area": null,
            "grid_template_columns": null,
            "flex": null,
            "_model_name": "LayoutModel",
            "justify_items": null,
            "grid_row": null,
            "max_height": null,
            "align_content": null,
            "visibility": null,
            "align_self": null,
            "height": null,
            "min_height": null,
            "padding": null,
            "grid_auto_rows": null,
            "grid_gap": null,
            "max_width": null,
            "order": null,
            "_view_module_version": "1.2.0",
            "grid_template_areas": null,
            "object_position": null,
            "object_fit": null,
            "grid_auto_columns": null,
            "margin": null,
            "display": null,
            "left": null
          }
        }
      }
    }
  },
  "cells": [
    {
      "cell_type": "markdown",
      "metadata": {
        "id": "OUUnvrULzOvr",
        "colab_type": "text"
      },
      "source": [
        "[![Open In Colab](https://colab.research.google.com/assets/colab-badge.svg)](https://colab.research.google.com/github/kili-technology/kili-playground/blob/feature/3315-5-aau-on-playground-when-i-look-at-active-learning-i-see-a-recipe-using-cifar100-and-different-modal-algorithms/recipes/active-learning/cifar100.ipynb)"
      ]
    },
    {
      "cell_type": "code",
      "metadata": {
        "id": "9p5W1NP_2ShN",
        "colab_type": "code",
        "outputId": "95e2ec86-d2c6-443b-a9c3-f9b8840b2b96",
        "colab": {
          "base_uri": "https://localhost:8080/",
          "height": 564
        }
      },
      "source": [
        "!pip install skorch\n",
        "!pip install modAL\n",
        "!git clone https://github.com/kili-technology/kili-playground/ \\\n",
        "            -b feature/3315-5-aau-on-playground-when-i-look-at-active-learning-i-see-a-recipe-using-cifar100-and-different-modal-algorithms\n",
        "!git clone https://github.com/weiaicunzai/pytorch-cifar100"
      ],
      "execution_count": 1,
      "outputs": [
        {
          "output_type": "stream",
          "text": [
            "Collecting skorch\n",
            "\u001b[?25l  Downloading https://files.pythonhosted.org/packages/42/21/4936b881b33de285faa0b36209afe4f9724a0875b2225abdc63b23d384a3/skorch-0.8.0-py3-none-any.whl (113kB)\n",
            "\r\u001b[K     |██▉                             | 10kB 16.3MB/s eta 0:00:01\r\u001b[K     |█████▊                          | 20kB 2.2MB/s eta 0:00:01\r\u001b[K     |████████▋                       | 30kB 2.8MB/s eta 0:00:01\r\u001b[K     |███████████▌                    | 40kB 3.1MB/s eta 0:00:01\r\u001b[K     |██████████████▍                 | 51kB 2.6MB/s eta 0:00:01\r\u001b[K     |█████████████████▎              | 61kB 2.8MB/s eta 0:00:01\r\u001b[K     |████████████████████▏           | 71kB 3.1MB/s eta 0:00:01\r\u001b[K     |███████████████████████         | 81kB 3.4MB/s eta 0:00:01\r\u001b[K     |██████████████████████████      | 92kB 3.6MB/s eta 0:00:01\r\u001b[K     |████████████████████████████▉   | 102kB 3.5MB/s eta 0:00:01\r\u001b[K     |███████████████████████████████▊| 112kB 3.5MB/s eta 0:00:01\r\u001b[K     |████████████████████████████████| 122kB 3.5MB/s \n",
            "\u001b[?25hRequirement already satisfied: numpy>=1.13.3 in /usr/local/lib/python3.6/dist-packages (from skorch) (1.18.4)\n",
            "Requirement already satisfied: scipy>=1.1.0 in /usr/local/lib/python3.6/dist-packages (from skorch) (1.4.1)\n",
            "Requirement already satisfied: scikit-learn>=0.19.1 in /usr/local/lib/python3.6/dist-packages (from skorch) (0.22.2.post1)\n",
            "Requirement already satisfied: tqdm>=4.14.0 in /usr/local/lib/python3.6/dist-packages (from skorch) (4.41.1)\n",
            "Requirement already satisfied: tabulate>=0.7.7 in /usr/local/lib/python3.6/dist-packages (from skorch) (0.8.7)\n",
            "Requirement already satisfied: joblib>=0.11 in /usr/local/lib/python3.6/dist-packages (from scikit-learn>=0.19.1->skorch) (0.15.1)\n",
            "Installing collected packages: skorch\n",
            "Successfully installed skorch-0.8.0\n",
            "Collecting modAL\n",
            "  Downloading https://files.pythonhosted.org/packages/1a/36/9558ec3ee50263f10a47c425b43941a9018eebcbd8a95685cb7b2363704c/modAL-0.3.5-py3-none-any.whl\n",
            "Requirement already satisfied: scikit-learn>=0.18 in /usr/local/lib/python3.6/dist-packages (from modAL) (0.22.2.post1)\n",
            "Requirement already satisfied: scipy>=0.18 in /usr/local/lib/python3.6/dist-packages (from modAL) (1.4.1)\n",
            "Requirement already satisfied: numpy>=1.13 in /usr/local/lib/python3.6/dist-packages (from modAL) (1.18.4)\n",
            "Requirement already satisfied: joblib>=0.11 in /usr/local/lib/python3.6/dist-packages (from scikit-learn>=0.18->modAL) (0.15.1)\n",
            "Installing collected packages: modAL\n",
            "Successfully installed modAL-0.3.5\n",
            "Cloning into 'kili-playground'...\n",
            "remote: Enumerating objects: 31, done.\u001b[K\n",
            "remote: Counting objects: 100% (31/31), done.\u001b[K\n",
            "remote: Compressing objects: 100% (26/26), done.\u001b[K\n",
            "remote: Total 3463 (delta 12), reused 8 (delta 2), pack-reused 3432\u001b[K\n",
            "Receiving objects: 100% (3463/3463), 60.49 MiB | 37.52 MiB/s, done.\n",
            "Resolving deltas: 100% (2200/2200), done.\n",
            "Cloning into 'pytorch-cifar100'...\n",
            "remote: Enumerating objects: 759, done.\u001b[K\n",
            "remote: Total 759 (delta 0), reused 0 (delta 0), pack-reused 759\u001b[K\n",
            "Receiving objects: 100% (759/759), 447.26 KiB | 4.26 MiB/s, done.\n",
            "Resolving deltas: 100% (454/454), done.\n"
          ],
          "name": "stdout"
        }
      ]
    },
    {
      "cell_type": "code",
      "metadata": {
        "id": "KB_K0EnLT4ss",
        "colab_type": "code",
        "colab": {}
      },
      "source": [
        "import logging\n",
        "from functools import partial\n",
        "\n",
        "from tqdm import tqdm\n",
        "import torch\n",
        "import torch.nn as nn\n",
        "import torch.nn.functional as F\n",
        "from skorch import NeuralNetClassifier\n",
        "\n",
        "__import__('kili-playground')\n",
        "\n",
        "import numpy as np\n",
        "from torch.utils.data import DataLoader\n",
        "import torchvision\n",
        "from torchvision.transforms import *\n",
        "from torchvision.datasets import *\n",
        "\n",
        "from modAL.models import *\n",
        "from modAL.uncertainty import *\n",
        "from modAL.disagreement import *\n",
        "from modAL.batch import *"
      ],
      "execution_count": 0,
      "outputs": []
    },
    {
      "cell_type": "code",
      "metadata": {
        "id": "qHpD9r_Im82U",
        "colab_type": "code",
        "colab": {}
      },
      "source": [
        "class LinearBottleNeck(nn.Module):\n",
        "\n",
        "    def __init__(self, in_channels, out_channels, stride, t=6, class_num=100):\n",
        "        super().__init__()\n",
        "\n",
        "        self.residual = nn.Sequential(\n",
        "            nn.Conv2d(in_channels, in_channels * t, 1),\n",
        "            nn.BatchNorm2d(in_channels * t),\n",
        "            nn.ReLU6(inplace=True),\n",
        "\n",
        "            nn.Conv2d(in_channels * t, in_channels * t, 3, stride=stride, padding=1, groups=in_channels * t),\n",
        "            nn.BatchNorm2d(in_channels * t),\n",
        "            nn.ReLU6(inplace=True),\n",
        "\n",
        "            nn.Conv2d(in_channels * t, out_channels, 1),\n",
        "            nn.BatchNorm2d(out_channels)\n",
        "        )\n",
        "\n",
        "        self.stride = stride\n",
        "        self.in_channels = in_channels\n",
        "        self.out_channels = out_channels\n",
        "    \n",
        "    def forward(self, x):\n",
        "\n",
        "        residual = self.residual(x)\n",
        "\n",
        "        if self.stride == 1 and self.in_channels == self.out_channels:\n",
        "            residual += x\n",
        "        \n",
        "        return residual\n",
        "\n",
        "class MobileNetV2(nn.Module):\n",
        "\n",
        "    def __init__(self, class_num=100):\n",
        "        super().__init__()\n",
        "\n",
        "        self.pre = nn.Sequential(\n",
        "            nn.Conv2d(3, 32, 1, padding=1),\n",
        "            nn.BatchNorm2d(32),\n",
        "            nn.ReLU6(inplace=True)\n",
        "        )\n",
        "\n",
        "        self.stage1 = LinearBottleNeck(32, 16, 1, 1)\n",
        "        self.stage2 = self._make_stage(2, 16, 24, 2, 6)\n",
        "        self.stage3 = self._make_stage(3, 24, 32, 2, 6)\n",
        "        self.stage4 = self._make_stage(4, 32, 64, 2, 6)\n",
        "        self.stage5 = self._make_stage(3, 64, 96, 1, 6)\n",
        "        self.stage6 = self._make_stage(3, 96, 160, 1, 6)\n",
        "        self.stage7 = LinearBottleNeck(160, 320, 1, 6)\n",
        "\n",
        "        self.conv1 = nn.Sequential(\n",
        "            nn.Conv2d(320, 1280, 1),\n",
        "            nn.BatchNorm2d(1280),\n",
        "            nn.ReLU6(inplace=True)\n",
        "        )\n",
        "\n",
        "        self.conv2 = nn.Conv2d(1280, class_num, 1)\n",
        "            \n",
        "    def forward(self, x):\n",
        "        x = self.pre(x)\n",
        "        x = self.stage1(x)\n",
        "        x = self.stage2(x)\n",
        "        x = self.stage3(x)\n",
        "        x = self.stage4(x)\n",
        "        x = self.stage5(x)\n",
        "        x = self.stage6(x)\n",
        "        x = self.stage7(x)\n",
        "        x = self.conv1(x)\n",
        "        x = F.adaptive_avg_pool2d(x, 1)\n",
        "        x = self.conv2(x)\n",
        "        x = x.view(x.size(0), -1)\n",
        "\n",
        "        return x\n",
        "    \n",
        "    def _make_stage(self, repeat, in_channels, out_channels, stride, t):\n",
        "\n",
        "        layers = []\n",
        "        layers.append(LinearBottleNeck(in_channels, out_channels, stride, t))\n",
        "        \n",
        "        while repeat - 1:\n",
        "            layers.append(LinearBottleNeck(out_channels, out_channels, 1, t))\n",
        "            repeat -= 1\n",
        "        \n",
        "        return nn.Sequential(*layers)\n",
        "\n",
        "def mobilenetv2():\n",
        "    return MobileNetV2(class_num=10)"
      ],
      "execution_count": 0,
      "outputs": []
    },
    {
      "cell_type": "code",
      "metadata": {
        "id": "wqLx3BDuzOvs",
        "colab_type": "code",
        "colab": {}
      },
      "source": [
        "# build class for the skorch API\n",
        "class Torch_Model(nn.Module):\n",
        "    def __init__(self,):\n",
        "        super(Torch_Model, self).__init__()\n",
        "        self.convs = nn.Sequential(\n",
        "                                nn.Conv2d(1,32,3),\n",
        "                                nn.ReLU(),\n",
        "                                nn.Conv2d(32,64,3),\n",
        "                                nn.ReLU(),\n",
        "                                nn.MaxPool2d(2),\n",
        "                                nn.Dropout(0.25)\n",
        "        )\n",
        "        self.fcs = nn.Sequential(\n",
        "                                nn.Linear(12*12*64,128),\n",
        "                                nn.ReLU(),\n",
        "                                nn.Dropout(0.5),\n",
        "                                nn.Linear(128,10),\n",
        "        )\n",
        "\n",
        "    def forward(self, x):\n",
        "        out = x\n",
        "        out = self.convs(out)\n",
        "        out = out.view(-1,12*12*64)\n",
        "        out = self.fcs(out)\n",
        "        return out\n",
        "    \n",
        "class CustomSkorch(NeuralNetClassifier):\n",
        "\n",
        "    def __init__(self, fit_method='fit_partial', *args, **kwargs):\n",
        "        super(CustomSkorch, self).__init__(*args, **kwargs)\n",
        "        self.fit_method = fit_method\n",
        "    \n",
        "    def fit(self, *args):\n",
        "        if self.fit_method == 'fit_partial':\n",
        "            return super().partial_fit(*args)\n",
        "        else:\n",
        "            return super().fit(*args)"
      ],
      "execution_count": 0,
      "outputs": []
    },
    {
      "cell_type": "code",
      "metadata": {
        "id": "6SQycFpPzRq8",
        "colab_type": "code",
        "colab": {}
      },
      "source": [
        "# create the classifier\n",
        "device = \"cuda\" if torch.cuda.is_available() else \"cpu\"\n",
        "def get_model(dataset):\n",
        "    verbose = 0\n",
        "    if dataset == 'CIFAR':\n",
        "        return CustomSkorch(module=mobilenetv2,\n",
        "                                    criterion=nn.CrossEntropyLoss,\n",
        "                                    optimizer=torch.optim.Adam,\n",
        "                                    train_split=None,\n",
        "                                    verbose=verbose,\n",
        "                                    device=device,\n",
        "                                    lr=1e-3,\n",
        "                                    max_epochs=5)\n",
        "    elif dataset == 'MNIST':\n",
        "        return CustomSkorch(module=Torch_Model,\n",
        "                                    criterion=nn.CrossEntropyLoss,\n",
        "                                    optimizer=torch.optim.Adam,\n",
        "                                    train_split=None,\n",
        "                                    verbose=verbose,\n",
        "                                    device=device,\n",
        "                                    lr=1e-3,\n",
        "                                    max_epochs=5)\n",
        "    else:\n",
        "        raise ValueError(f'{dataset} dataset unknown')"
      ],
      "execution_count": 0,
      "outputs": []
    },
    {
      "cell_type": "code",
      "metadata": {
        "id": "Q3-rmE-C2nvY",
        "colab_type": "code",
        "colab": {}
      },
      "source": [
        "def getTestPoolData(X, y, n_train, n_test, n_pool, n_initial=1000):\n",
        "    assert X.shape[0] > n_test + n_train\n",
        "    \n",
        "    X_train, X_test, y_train, y_test = X[:n_train], X[n_train:n_train+n_test], y[:n_train], y[n_train:n_train+n_test]\n",
        "    X_train = X_train.reshape(n_train, *X.shape[1:])\n",
        "    X_test = X_test.reshape(n_test, *X.shape[1:])\n",
        "\n",
        "    # assemble initial data\n",
        "    initial_idx = np.random.choice(range(len(X_train)), size=n_initial, replace=False)\n",
        "    X_initial = X_train[initial_idx]\n",
        "    y_initial = y_train[initial_idx]\n",
        "\n",
        "    # generate the pool\n",
        "    # remove the initial data from the training dataset\n",
        "    X_pool = np.delete(X_train, initial_idx, axis=0)[:n_pool]\n",
        "    y_pool = np.delete(y_train, initial_idx, axis=0)[:n_pool]\n",
        "    return X_pool, y_pool, X_test, y_test, X_initial, y_initial"
      ],
      "execution_count": 0,
      "outputs": []
    },
    {
      "cell_type": "code",
      "metadata": {
        "id": "uu-3k3EMka8O",
        "colab_type": "code",
        "outputId": "bd834912-7bff-41dc-de15-4d85f4f3d112",
        "colab": {
          "base_uri": "https://localhost:8080/",
          "height": 100,
          "referenced_widgets": [
            "bbd2383e11314e5cabdfa9ea1ec15fb7",
            "4b86dab27c174a048ee7305b99376ea7",
            "7f2e08eea6414981910be680438d01a9",
            "a07393528d604d70abfe0073bf490fc2",
            "e4e6a984f6a449429287e5b3726c92b7",
            "f9b8f4adc0f0430b81df96964b62ac24",
            "1d3e490a2f3149648b8a4f6e4d35847a",
            "b846e7e49f264eacbc25b1ff2edb20aa"
          ]
        }
      },
      "source": [
        "CIFAR100_TRAIN_MEAN = (0.5070751592371323, 0.48654887331495095, 0.4409178433670343)\n",
        "CIFAR100_TRAIN_STD = (0.2673342858792401, 0.2564384629170883, 0.27615047132568404)\n",
        "\n",
        "transform_train = transforms.Compose([\n",
        "        #transforms.ToPILImage(),\n",
        "        # transforms.RandomCrop(32, padding=4),\n",
        "        # transforms.RandomHorizontalFlip(),\n",
        "        # transforms.RandomRotation(15),\n",
        "        transforms.ToTensor(),\n",
        "        # transforms.Normalize(CIFAR100_TRAIN_MEAN, CIFAR100_TRAIN_STD)\n",
        "        transforms.Normalize((0.5, 0.5, 0.5), (0.5, 0.5, 0.5))\n",
        "    ])\n",
        "transform_test = transforms.Compose([\n",
        "        transforms.ToTensor(),\n",
        "        # transforms.Normalize(CIFAR100_TRAIN_MEAN, CIFAR100_TRAIN_STD)\n",
        "        transforms.Normalize((0.5, 0.5, 0.5), (0.5, 0.5, 0.5))\n",
        "    ])\n",
        "# cifar100_train = torchvision.datasets.CIFAR100(root='.', train=False, download=True, transform=transform_train)\n",
        "# cifar100_test = torchvision.datasets.CIFAR100(root='.', train=False, download=True, transform=transform_test)\n",
        "cifar100_train = torchvision.datasets.CIFAR10(root='.', train=False, download=True, transform=transform_train)\n",
        "cifar100_test = torchvision.datasets.CIFAR10(root='.', train=False, download=True, transform=transform_test)"
      ],
      "execution_count": 11,
      "outputs": [
        {
          "output_type": "stream",
          "text": [
            "Downloading https://www.cs.toronto.edu/~kriz/cifar-10-python.tar.gz to ./cifar-10-python.tar.gz\n"
          ],
          "name": "stdout"
        },
        {
          "output_type": "display_data",
          "data": {
            "application/vnd.jupyter.widget-view+json": {
              "model_id": "bbd2383e11314e5cabdfa9ea1ec15fb7",
              "version_minor": 0,
              "version_major": 2
            },
            "text/plain": [
              "HBox(children=(FloatProgress(value=1.0, bar_style='info', max=1.0), HTML(value='')))"
            ]
          },
          "metadata": {
            "tags": []
          }
        },
        {
          "output_type": "stream",
          "text": [
            "Extracting ./cifar-10-python.tar.gz to .\n",
            "Files already downloaded and verified\n"
          ],
          "name": "stdout"
        }
      ]
    },
    {
      "cell_type": "code",
      "metadata": {
        "id": "fLBCbCy-lUqV",
        "colab_type": "code",
        "colab": {}
      },
      "source": [
        "dataloader = DataLoader(cifar100_train, shuffle=True, batch_size=10000)\n",
        "X, y = next(iter(dataloader))"
      ],
      "execution_count": 0,
      "outputs": []
    },
    {
      "cell_type": "code",
      "metadata": {
        "id": "-zlwJUZfj_Qr",
        "colab_type": "code",
        "outputId": "57bdf7a0-b060-4ad4-d23b-7a4b7ec345e6",
        "colab": {
          "base_uri": "https://localhost:8080/",
          "height": 420,
          "referenced_widgets": [
            "1e3972e44d684bfc8f05c049e4ced455",
            "05ae73958a4a4125b3b4587e688926a1",
            "8ea2262b2ced43798e3be440220b5a4a",
            "1c8ea9472aaa45a08111b176a12a6e4f",
            "c7381e85871f4439ab3be10a94ed2abc",
            "dfa6f28327644055b0f86f4c73616044",
            "49c73ced709c491cb36581129c773ee8",
            "0b8668a6c74d432981e73d930a7062f9",
            "5281af94ee7e4ac7bdd1ca7e5f13d79d",
            "1a413817f0904ffa94230949f457f622",
            "7c60428e1d8b4744a934d3a0eedb61fa",
            "06f0a8ecb9794516b615f2510b6fd3bc",
            "85b7e6941aff41cf95b01a0dc0837eda",
            "cda496da5c0045ab9a7bbd1477757765",
            "8e37e1d98136464bb2688cfd449622a2",
            "e7dcb81ac66549fdb4a55082307b56bb",
            "f3913f18429544dc9790e71093ef254b",
            "d9746862b25d4f4ba27d8fd0e177a565",
            "86c9ddefedd947448503b4eacf2c9354",
            "08218044b81b410da7b4cc800ed4fd7f",
            "421bcf7d20544915b448a368a6436226",
            "ca649b8696324957ae05643bee429157",
            "5b7668871165448f88c574ae4ceefa77",
            "7af849bfa4d449d796774e69ba1fa711",
            "72925440c3564de2a92a1a0e5b7df3ec",
            "d0cf7e54d19a46218b586f0b7373cc9e",
            "44af7060997241c7b04d25d4ddaa93ff",
            "2c72a92948d7437b9e268947549000c9",
            "10a37ed55dd34fc89a0dc641da83ca4f",
            "534627c0ba814414bf562d566aa9f78e",
            "8dd6512f98794d54865e21c3fad40f2c",
            "2a8b51875ab04c36ad3a5c6899409af4"
          ]
        }
      },
      "source": [
        "mnist_data = MNIST('.', download=True, transform=ToTensor())\n",
        "dataloader = DataLoader(mnist_data, shuffle=True, batch_size=60000)\n",
        "X, y = next(iter(dataloader))"
      ],
      "execution_count": 20,
      "outputs": [
        {
          "output_type": "stream",
          "text": [
            "Downloading http://yann.lecun.com/exdb/mnist/train-images-idx3-ubyte.gz to ./MNIST/raw/train-images-idx3-ubyte.gz\n"
          ],
          "name": "stdout"
        },
        {
          "output_type": "display_data",
          "data": {
            "application/vnd.jupyter.widget-view+json": {
              "model_id": "1e3972e44d684bfc8f05c049e4ced455",
              "version_minor": 0,
              "version_major": 2
            },
            "text/plain": [
              "HBox(children=(FloatProgress(value=1.0, bar_style='info', max=1.0), HTML(value='')))"
            ]
          },
          "metadata": {
            "tags": []
          }
        },
        {
          "output_type": "stream",
          "text": [
            "Extracting ./MNIST/raw/train-images-idx3-ubyte.gz to ./MNIST/raw\n",
            "Downloading http://yann.lecun.com/exdb/mnist/train-labels-idx1-ubyte.gz to ./MNIST/raw/train-labels-idx1-ubyte.gz\n"
          ],
          "name": "stdout"
        },
        {
          "output_type": "display_data",
          "data": {
            "application/vnd.jupyter.widget-view+json": {
              "model_id": "5281af94ee7e4ac7bdd1ca7e5f13d79d",
              "version_minor": 0,
              "version_major": 2
            },
            "text/plain": [
              "HBox(children=(FloatProgress(value=1.0, bar_style='info', max=1.0), HTML(value='')))"
            ]
          },
          "metadata": {
            "tags": []
          }
        },
        {
          "output_type": "stream",
          "text": [
            "Extracting ./MNIST/raw/train-labels-idx1-ubyte.gz to ./MNIST/raw\n",
            "Downloading http://yann.lecun.com/exdb/mnist/t10k-images-idx3-ubyte.gz to ./MNIST/raw/t10k-images-idx3-ubyte.gz\n"
          ],
          "name": "stdout"
        },
        {
          "output_type": "display_data",
          "data": {
            "application/vnd.jupyter.widget-view+json": {
              "model_id": "f3913f18429544dc9790e71093ef254b",
              "version_minor": 0,
              "version_major": 2
            },
            "text/plain": [
              "HBox(children=(FloatProgress(value=1.0, bar_style='info', max=1.0), HTML(value='')))"
            ]
          },
          "metadata": {
            "tags": []
          }
        },
        {
          "output_type": "stream",
          "text": [
            "Extracting ./MNIST/raw/t10k-images-idx3-ubyte.gz to ./MNIST/raw\n",
            "Downloading http://yann.lecun.com/exdb/mnist/t10k-labels-idx1-ubyte.gz to ./MNIST/raw/t10k-labels-idx1-ubyte.gz\n",
            "\n",
            "\n",
            "\n"
          ],
          "name": "stdout"
        },
        {
          "output_type": "display_data",
          "data": {
            "application/vnd.jupyter.widget-view+json": {
              "model_id": "72925440c3564de2a92a1a0e5b7df3ec",
              "version_minor": 0,
              "version_major": 2
            },
            "text/plain": [
              "HBox(children=(FloatProgress(value=1.0, bar_style='info', max=1.0), HTML(value='')))"
            ]
          },
          "metadata": {
            "tags": []
          }
        },
        {
          "output_type": "stream",
          "text": [
            "Extracting ./MNIST/raw/t10k-labels-idx1-ubyte.gz to ./MNIST/raw\n",
            "Processing...\n",
            "Done!\n"
          ],
          "name": "stdout"
        },
        {
          "output_type": "stream",
          "text": [
            "/pytorch/torch/csrc/utils/tensor_numpy.cpp:141: UserWarning: The given NumPy array is not writeable, and PyTorch does not support non-writeable tensors. This means you can write to the underlying (supposedly non-writeable) NumPy array using the tensor. You may want to copy the array to protect its data or make it writeable before converting it to a tensor. This type of warning will be suppressed for the rest of this program.\n"
          ],
          "name": "stderr"
        },
        {
          "output_type": "stream",
          "text": [
            "\n"
          ],
          "name": "stdout"
        }
      ]
    },
    {
      "cell_type": "code",
      "metadata": {
        "id": "9ZxsuxgjlQgK",
        "colab_type": "code",
        "colab": {}
      },
      "source": [
        "n_train = 6000; n_test = 3000; n_pool = 5000\n",
        "# n_train = 50000; n_test = 10000; n_pool = 5000\n",
        "X_pool, y_pool, X_test, y_test, X_initial, y_initial = getTestPoolData(X, y, n_train, n_test, n_pool)"
      ],
      "execution_count": 0,
      "outputs": []
    },
    {
      "cell_type": "code",
      "metadata": {
        "id": "U9HJaI6aRzHl",
        "colab_type": "code",
        "colab": {}
      },
      "source": [
        "def random_sampling(classifier, X, n_instances=100, *args, **kwargs):\n",
        "    query_idx = np.random.choice(X.shape[0], size=n_instances, replace=False)\n",
        "    return query_idx, X[query_idx]"
      ],
      "execution_count": 0,
      "outputs": []
    },
    {
      "cell_type": "code",
      "metadata": {
        "id": "whmhEuqCS3mM",
        "colab_type": "code",
        "colab": {}
      },
      "source": [
        "def evaluate_strategy(strategy, verbose=False, n_queries=10,\n",
        "                      samples_per_queries=100, dataset='CIFAR',\n",
        "                      strategy_type='uncertainty'):\n",
        "    print(f'Testing strategy {strategy.__name__}')\n",
        "    if strategy_type == 'uncertainty':\n",
        "        classifier = get_model(dataset)\n",
        "        learner = ActiveLearner(\n",
        "            estimator=classifier,\n",
        "            X_training=X_initial, y_training=y_initial,\n",
        "            query_strategy=strategy\n",
        "        )\n",
        "    elif strategy_type == 'disagreement':\n",
        "        n = 3\n",
        "        learners = [ActiveLearner(\n",
        "            estimator=get_model(dataset),\n",
        "            X_training=X_initial, y_training=y_initial,\n",
        "            query_strategy=strategy) for _ in range(5)]\n",
        "        learner = Committee(\n",
        "            learner_list=learners,\n",
        "            query_strategy=strategy\n",
        "        )\n",
        "\n",
        "    X_local, y_local = X_pool.clone(), y_pool.clone()\n",
        "    init_score = learner.score(X_test, y_test)\n",
        "    performances = [init_score]\n",
        "    if verbose: print(f'Initial score {init_score:.2%}')\n",
        "    \n",
        "    for idx in tqdm(range(n_queries)):\n",
        "        query_idx, query_instance = learner.query(X_local, n_instances=100)\n",
        "        learner.teach(\n",
        "            X=X_local[query_idx], y=y_local[query_idx], only_new=False,\n",
        "        )\n",
        "        X_local = np.delete(X_local, query_idx, axis=0)\n",
        "        y_local = np.delete(y_local, query_idx, axis=0)\n",
        "        score = learner.score(X_test, y_test)\n",
        "        performances.append(score)\n",
        "        if verbose: print(f'Score : {score:.2%}')\n",
        "    return performances"
      ],
      "execution_count": 0,
      "outputs": []
    },
    {
      "cell_type": "code",
      "metadata": {
        "id": "F-gnbcGPVfq2",
        "colab_type": "code",
        "outputId": "8a044bb8-aac1-41c8-afd2-ab6374a783e2",
        "colab": {
          "base_uri": "https://localhost:8080/",
          "height": 153
        }
      },
      "source": [
        "uncertainty_strategies = [\n",
        "    (random_sampling, 'uncertainty'),\n",
        "    # (entropy_sampling, 'uncertainty'),\n",
        "    # (margin_sampling, 'uncertainty'),\n",
        "    (uncertainty_sampling, 'uncertainty'),\n",
        "    # (max_disagreement_sampling, 'disagreement'),\n",
        "    # (consensus_entropy_sampling, 'disagreement'),\n",
        "    (vote_entropy_sampling, 'disagreement'),\n",
        "    (uncertainty_batch_sampling, 'uncertainty')\n",
        "]\n",
        "\n",
        "strat2perf = {}\n",
        "for strategy, strat_type in uncertainty_strategies:\n",
        "    name = strategy.__name__\n",
        "    perf = evaluate_strategy(strategy, verbose=False, n_queries=5,\n",
        "                             dataset='CIFAR', strategy_type=strat_type)\n",
        "    strat2perf[name] = perf"
      ],
      "execution_count": 16,
      "outputs": [
        {
          "output_type": "stream",
          "text": [
            "Testing strategy random_sampling\n"
          ],
          "name": "stdout"
        },
        {
          "output_type": "stream",
          "text": [
            "100%|██████████| 5/5 [18:25<00:00, 221.12s/it]\n"
          ],
          "name": "stderr"
        },
        {
          "output_type": "stream",
          "text": [
            "Testing strategy uncertainty_sampling\n"
          ],
          "name": "stdout"
        },
        {
          "output_type": "stream",
          "text": [
            "100%|██████████| 5/5 [20:47<00:00, 249.40s/it]\n"
          ],
          "name": "stderr"
        },
        {
          "output_type": "stream",
          "text": [
            "Testing strategy vote_entropy_sampling\n"
          ],
          "name": "stdout"
        },
        {
          "output_type": "stream",
          "text": [
            "100%|██████████| 5/5 [1:41:19<00:00, 1215.86s/it]\n"
          ],
          "name": "stderr"
        },
        {
          "output_type": "stream",
          "text": [
            "Testing strategy uncertainty_batch_sampling\n"
          ],
          "name": "stdout"
        },
        {
          "output_type": "stream",
          "text": [
            "100%|██████████| 5/5 [33:17<00:00, 399.41s/it]\n"
          ],
          "name": "stderr"
        }
      ]
    },
    {
      "cell_type": "code",
      "metadata": {
        "id": "VyyEjt1TcyWP",
        "colab_type": "code",
        "colab": {
          "base_uri": "https://localhost:8080/",
          "height": 282
        },
        "outputId": "d07bd99a-e7b0-4042-e503-293167f74f24"
      },
      "source": [
        "import matplotlib.pyplot as plt\n",
        "N_labels = [1000] + [1000 + 100*i for i in range(1, 6)]\n",
        "plt.figure()\n",
        "for strat, perf in strat2perf.items():\n",
        "    plt.plot(N_labels, perf, label=strat)\n",
        "plt.legend()"
      ],
      "execution_count": 19,
      "outputs": [
        {
          "output_type": "execute_result",
          "data": {
            "text/plain": [
              "<matplotlib.legend.Legend at 0x7fa6c1c994a8>"
            ]
          },
          "metadata": {
            "tags": []
          },
          "execution_count": 19
        },
        {
          "output_type": "display_data",
          "data": {
            "image/png": "[encoded data removed]",
            "text/plain": [
              "<Figure size 432x288 with 1 Axes>"
            ]
          },
          "metadata": {
            "tags": [],
            "needs_background": "light"
          }
        }
      ]
    },
    {
      "cell_type": "code",
      "metadata": {
        "id": "nnQk7Tfm5mJ1",
        "colab_type": "code",
        "colab": {
          "base_uri": "https://localhost:8080/",
          "height": 153
        },
        "outputId": "0151307e-e276-4c32-9fae-85c981b42116"
      },
      "source": [
        "uncertainty_strategies = [\n",
        "    (random_sampling, 'uncertainty'),\n",
        "    # (entropy_sampling, 'uncertainty'),\n",
        "    # (margin_sampling, 'uncertainty'),\n",
        "    (uncertainty_sampling, 'uncertainty'),\n",
        "    # (max_disagreement_sampling, 'disagreement'),\n",
        "    # (consensus_entropy_sampling, 'disagreement'),\n",
        "    (vote_entropy_sampling, 'disagreement'),\n",
        "    (uncertainty_batch_sampling, 'uncertainty')\n",
        "]\n",
        "\n",
        "strat2perf = {}\n",
        "for strategy, strat_type in uncertainty_strategies:\n",
        "    name = strategy.__name__\n",
        "    perf = evaluate_strategy(strategy, verbose=False, n_queries=10, samples_per_queries=300,\n",
        "                             dataset='MNIST', strategy_type=strat_type)\n",
        "    strat2perf[name] = perf"
      ],
      "execution_count": 22,
      "outputs": [
        {
          "output_type": "stream",
          "text": [
            "Testing strategy random_sampling\n"
          ],
          "name": "stdout"
        },
        {
          "output_type": "stream",
          "text": [
            "100%|██████████| 10/10 [02:55<00:00, 17.59s/it]\n"
          ],
          "name": "stderr"
        },
        {
          "output_type": "stream",
          "text": [
            "Testing strategy uncertainty_sampling\n"
          ],
          "name": "stdout"
        },
        {
          "output_type": "stream",
          "text": [
            "100%|██████████| 10/10 [03:31<00:00, 21.17s/it]\n"
          ],
          "name": "stderr"
        },
        {
          "output_type": "stream",
          "text": [
            "Testing strategy vote_entropy_sampling\n"
          ],
          "name": "stdout"
        },
        {
          "output_type": "stream",
          "text": [
            "100%|██████████| 10/10 [17:50<00:00, 107.08s/it]\n"
          ],
          "name": "stderr"
        },
        {
          "output_type": "stream",
          "text": [
            "Testing strategy uncertainty_batch_sampling\n"
          ],
          "name": "stdout"
        },
        {
          "output_type": "stream",
          "text": [
            "100%|██████████| 10/10 [11:28<00:00, 68.88s/it]\n"
          ],
          "name": "stderr"
        }
      ]
    },
    {
      "cell_type": "code",
      "metadata": {
        "id": "4ajQdFgF6i2g",
        "colab_type": "code",
        "colab": {
          "base_uri": "https://localhost:8080/",
          "height": 282
        },
        "outputId": "6a994f1b-65f9-4bea-e94f-d4817dd4473d"
      },
      "source": [
        "N_labels = [1000] + [1000 + 300*i for i in range(1, 11)]\n",
        "plt.figure()\n",
        "for strat, perf in strat2perf.items():\n",
        "    plt.plot(N_labels, perf, label=strat)\n",
        "plt.legend()"
      ],
      "execution_count": 23,
      "outputs": [
        {
          "output_type": "execute_result",
          "data": {
            "text/plain": [
              "<matplotlib.legend.Legend at 0x7fa6d58abe48>"
            ]
          },
          "metadata": {
            "tags": []
          },
          "execution_count": 23
        },
        {
          "output_type": "display_data",
          "data": {
            "image/png": "[encoded data removed]",
            "text/plain": [
              "<Figure size 432x288 with 1 Axes>"
            ]
          },
          "metadata": {
            "tags": [],
            "needs_background": "light"
          }
        }
      ]
    }
  ]
}