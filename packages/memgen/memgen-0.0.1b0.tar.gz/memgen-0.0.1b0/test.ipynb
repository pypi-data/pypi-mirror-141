{
 "cells": [
  {
   "cell_type": "code",
   "execution_count": null,
   "metadata": {},
   "outputs": [],
   "source": [
    "from memgen import memgen\n",
    "\n",
    "memgen([\"example/dmpc.pdb\", \"example/dopc.pdb\"], \"tmp/membrane1.pdb\", png=\"tmp/membrane1.png\",\n",
    "    ratio=[1, 4], area_per_lipid=65, water_per_lipid=40, lipids_per_monolayer=128)"
   ]
  },
  {
   "cell_type": "code",
   "execution_count": null,
   "metadata": {},
   "outputs": [],
   "source": [
    "from memgen import memgen, BoxShape\n",
    "\n",
    "memgen([\"example/popc.pdb\"], \"tmp/membrane2.pdb\", png=\"tmp/membrane2.png\",\n",
    "    area_per_lipid=85, lipids_per_monolayer=32, added_salt=1000, box_shape=BoxShape.hexagonal)"
   ]
  }
 ],
 "metadata": {
  "interpreter": {
   "hash": "d5b9811096b45b10b014ad9ebccdb3eaa30f282bb202a71858b19d933f68a3d7"
  },
  "kernelspec": {
   "display_name": "Python 3.9.7 64-bit ('.venv': venv)",
   "name": "python3"
  },
  "language_info": {
   "codemirror_mode": {
    "name": "ipython",
    "version": 3
   },
   "file_extension": ".py",
   "mimetype": "text/x-python",
   "name": "python",
   "nbconvert_exporter": "python",
   "pygments_lexer": "ipython3",
   "version": "3.9.7"
  },
  "orig_nbformat": 4
 },
 "nbformat": 4,
 "nbformat_minor": 2
}
