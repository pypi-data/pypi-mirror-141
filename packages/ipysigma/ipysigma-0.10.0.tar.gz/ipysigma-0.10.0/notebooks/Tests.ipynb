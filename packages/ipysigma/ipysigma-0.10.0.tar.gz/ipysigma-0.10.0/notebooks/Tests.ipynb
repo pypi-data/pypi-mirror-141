{
 "cells": [
  {
   "cell_type": "code",
   "execution_count": 1,
   "id": "414ad4c9",
   "metadata": {},
   "outputs": [],
   "source": [
    "import networkx as nx\n",
    "from ipysigma import Sigma"
   ]
  },
  {
   "cell_type": "code",
   "execution_count": 34,
   "id": "1ae22a6d-771e-412e-9a14-10d953f25bde",
   "metadata": {},
   "outputs": [
    {
     "data": {
      "application/vnd.jupyter.widget-view+json": {
       "model_id": "2c605b43ee8148b294faa78ad054ec3f",
       "version_major": 2,
       "version_minor": 0
      },
      "text/plain": [
       "Sigma(nx.Graph with 34 nodes and 78 edges)"
      ]
     },
     "metadata": {},
     "output_type": "display_data"
    }
   ],
   "source": [
    "g = nx.karate_club_graph()\n",
    "from random import random\n",
    "categ = {}\n",
    "for k, a in g.nodes(data=True):\n",
    "    a['size'] = 20 * random()\n",
    "    a['random'] = random()\n",
    "    categ[k] = random() > 0.5\n",
    "for _, _, a in g.edges(data=True):\n",
    "    a['random'] = random()\n",
    "    a['partition'] = random() > 0.5\n",
    "    a['label'] = 'Test'\n",
    "\n",
    "sigma = Sigma(\n",
    "    g,\n",
    "    node_size=g.degree,\n",
    "    node_size_range=[5, 10],\n",
    "    edge_label='label',\n",
    "    edge_size='random',\n",
    "    clickable_edges=True\n",
    ")\n",
    "sigma"
   ]
  },
  {
   "cell_type": "code",
   "execution_count": 35,
   "id": "ff0f2886-0fc6-4a66-a1bf-5d6e52f4378f",
   "metadata": {
    "tags": []
   },
   "outputs": [
    {
     "data": {
      "application/vnd.jupyter.widget-view+json": {
       "model_id": "d9ac1f5b83974bde90ec7a48e9f831c2",
       "version_major": 2,
       "version_minor": 0
      },
      "text/plain": [
       "Sigma(nx.DiGraph with 366 nodes and 1,107 edges)"
      ]
     },
     "metadata": {},
     "output_type": "display_data"
    }
   ],
   "source": [
    "g = nx.read_gexf('./data/rio.gexf')\n",
    "\n",
    "sigma = Sigma(\n",
    "    g,\n",
    "    node_color='louvain',\n",
    "    node_label='Label2',\n",
    "    node_metrics=('louvain',),\n",
    "    only_largest_component=True\n",
    ")\n",
    "sigma"
   ]
  },
  {
   "cell_type": "code",
   "execution_count": 36,
   "id": "061b0816-f865-4766-bfd2-861927912929",
   "metadata": {},
   "outputs": [
    {
     "data": {
      "application/vnd.jupyter.widget-view+json": {
       "model_id": "11604bfe4f3044b99867159790d61acb",
       "version_major": 2,
       "version_minor": 0
      },
      "text/plain": [
       "Sigma(nx.Graph with 5 nodes and 3 edges)"
      ]
     },
     "metadata": {},
     "output_type": "display_data"
    }
   ],
   "source": [
    "g = nx.Graph()\n",
    "g.add_edge(1, 2)\n",
    "g.add_edge(4, 5, size=10)\n",
    "g.add_edge(2, 3, key='test', size=20)\n",
    "Sigma(g, clickable_edges=True)"
   ]
  },
  {
   "cell_type": "code",
   "execution_count": 38,
   "id": "f0221d02-b343-4e6a-9e73-eeb479d54523",
   "metadata": {},
   "outputs": [
    {
     "data": {
      "application/vnd.jupyter.widget-view+json": {
       "model_id": "3db9afbf0c124610a5e1805b3b3ceff3",
       "version_major": 2,
       "version_minor": 0
      },
      "text/plain": [
       "Sigma(nx.DiGraph with 1,715 nodes and 6,676 edges)"
      ]
     },
     "metadata": {},
     "output_type": "display_data"
    }
   ],
   "source": [
    "g = nx.read_gexf('./data/arctic.gexf')\n",
    "sigma = Sigma(\n",
    "    g,\n",
    "    edge_color_from='source'\n",
    ")\n",
    "sigma"
   ]
  }
 ],
 "metadata": {
  "kernelspec": {
   "display_name": "Python 3",
   "language": "python",
   "name": "python3"
  },
  "language_info": {
   "codemirror_mode": {
    "name": "ipython",
    "version": 3
   },
   "file_extension": ".py",
   "mimetype": "text/x-python",
   "name": "python",
   "nbconvert_exporter": "python",
   "pygments_lexer": "ipython3",
   "version": "3.6.10"
  }
 },
 "nbformat": 4,
 "nbformat_minor": 5
}
