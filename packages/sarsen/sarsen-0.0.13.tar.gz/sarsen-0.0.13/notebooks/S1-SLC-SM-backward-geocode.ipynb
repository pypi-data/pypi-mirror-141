{
 "cells": [
  {
   "cell_type": "code",
   "execution_count": null,
   "id": "94b6ba8a",
   "metadata": {},
   "outputs": [],
   "source": [
    "%load_ext autoreload\n",
    "%autoreload 2\n",
    "\n",
    "%matplotlib inline\n",
    "%config InlineBackend.figure_format = 'retina'\n",
    "\n",
    "import matplotlib.pyplot as plt\n",
    "\n",
    "plt.rcParams[\"figure.figsize\"] = (10, 7)\n",
    "plt.rcParams[\"font.size\"] = 12"
   ]
  },
  {
   "cell_type": "code",
   "execution_count": null,
   "id": "4aac3545",
   "metadata": {},
   "outputs": [],
   "source": [
    "import inspect\n",
    "\n",
    "import numpy as np\n",
    "import xarray as xr\n",
    "import xarray_sentinel\n",
    "\n",
    "from sarsen import apps, geocoding, orbit, scene\n",
    "\n",
    "# uncomment to check that the code below is in sync with the implementation\n",
    "# print(inspect.getsource(apps.backward_geocode_sentinel1_slc))\n",
    "# print(inspect.getsource(apps.backward_geocode_slc))"
   ]
  },
  {
   "cell_type": "markdown",
   "id": "d6f99462",
   "metadata": {},
   "source": [
    "# scene"
   ]
  },
  {
   "cell_type": "code",
   "execution_count": null,
   "id": "8d6140db",
   "metadata": {},
   "outputs": [],
   "source": [
    "dem_urlpath = \"data/Chicago-4m-DEM.tif\"\n",
    "\n",
    "dem_raster = scene.open_dem_raster(dem_urlpath, chunks=2500)\n",
    "dem_raster"
   ]
  },
  {
   "cell_type": "code",
   "execution_count": null,
   "id": "5148c7ef",
   "metadata": {},
   "outputs": [],
   "source": [
    "_ = dem_raster.plot()"
   ]
  },
  {
   "cell_type": "code",
   "execution_count": null,
   "id": "b646c73b",
   "metadata": {
    "scrolled": false
   },
   "outputs": [],
   "source": [
    "%%time\n",
    "dem_ecef = scene.convert_to_dem_ecef(dem_raster)\n",
    "dem_ecef"
   ]
  },
  {
   "cell_type": "code",
   "execution_count": null,
   "id": "563aa4de",
   "metadata": {},
   "outputs": [],
   "source": [
    "%%time\n",
    "dem_normal_ecef = scene.compute_diff_normal(dem_ecef)\n",
    "dem_normal_ecef"
   ]
  },
  {
   "cell_type": "markdown",
   "id": "75e4849d",
   "metadata": {},
   "source": [
    "# image"
   ]
  },
  {
   "cell_type": "code",
   "execution_count": null,
   "id": "eb654571",
   "metadata": {},
   "outputs": [],
   "source": [
    "product_urlpath = (\n",
    "    \"data/S1B_S6_SLC__1SDV_20211216T115438_20211216T115501_030050_03968A_4DCB.SAFE\"\n",
    ")\n",
    "measurement_group = \"S6/VV\"\n",
    "orbit_group = f\"{measurement_group}/orbit\"\n",
    "calibration_group = f\"{measurement_group}/calibration\"\n",
    "output_urlpath = \"Chicago-4m-GTC-SLC.tif\"\n",
    "\n",
    "!ls -d {product_urlpath}"
   ]
  },
  {
   "cell_type": "code",
   "execution_count": null,
   "id": "702a30cd",
   "metadata": {
    "scrolled": false
   },
   "outputs": [],
   "source": [
    "measurement = xr.open_dataarray(\n",
    "    product_urlpath,\n",
    "    engine=\"sentinel-1\",\n",
    "    group=measurement_group,\n",
    "    chunks=2048,\n",
    ")\n",
    "measurement"
   ]
  },
  {
   "cell_type": "code",
   "execution_count": null,
   "id": "2fedbf87",
   "metadata": {},
   "outputs": [],
   "source": [
    "calibration = xr.open_dataset(\n",
    "    product_urlpath, engine=\"sentinel-1\", group=calibration_group\n",
    ")\n",
    "beta_nought_lut = calibration.betaNought\n",
    "beta_nought_lut"
   ]
  },
  {
   "cell_type": "code",
   "execution_count": null,
   "id": "c7ee12d9",
   "metadata": {},
   "outputs": [],
   "source": [
    "%%time\n",
    "beta_nought = xarray_sentinel.calibrate_amplitude(abs(measurement), beta_nought_lut)\n",
    "beta_nought.attrs.update(measurement.attrs)\n",
    "beta_nought"
   ]
  },
  {
   "cell_type": "code",
   "execution_count": null,
   "id": "377a1467",
   "metadata": {},
   "outputs": [],
   "source": [
    "orbit_ecef = xr.open_dataset(product_urlpath, engine=\"sentinel-1\", group=orbit_group)\n",
    "position_ecef = orbit_ecef.position\n",
    "position_ecef"
   ]
  },
  {
   "cell_type": "code",
   "execution_count": null,
   "id": "01628e84",
   "metadata": {},
   "outputs": [],
   "source": [
    "orbit_interpolator = orbit.OrbitPolyfitIterpolator.from_position(position_ecef)\n",
    "position_ecef = orbit_interpolator.position()\n",
    "velocity_ecef = orbit_interpolator.velocity()\n",
    "position_ecef"
   ]
  },
  {
   "cell_type": "code",
   "execution_count": null,
   "id": "b0a30e11",
   "metadata": {},
   "outputs": [],
   "source": [
    "%%time\n",
    "dem_coords = geocoding.backward_geocode(dem_ecef, position_ecef, velocity_ecef)\n",
    "dem_coords"
   ]
  },
  {
   "cell_type": "code",
   "execution_count": null,
   "id": "e314045c",
   "metadata": {},
   "outputs": [],
   "source": [
    "%%time\n",
    "geocoded = beta_nought.interp(\n",
    "    azimuth_time=dem_coords.azimuth_time,\n",
    "    slant_range_time=dem_coords.slant_range_time,\n",
    "    method=\"nearest\",\n",
    ")\n",
    "\n",
    "geocoded"
   ]
  },
  {
   "cell_type": "code",
   "execution_count": null,
   "id": "b60f23bf",
   "metadata": {},
   "outputs": [],
   "source": [
    "_ = geocoded.plot(vmax=1.0)"
   ]
  },
  {
   "cell_type": "code",
   "execution_count": null,
   "id": "55740e67",
   "metadata": {},
   "outputs": [],
   "source": [
    "geocoded.rio.set_crs(dem_raster.rio.crs)\n",
    "geocoded.rio.to_raster(\n",
    "    output_urlpath,\n",
    "    tiled=True,\n",
    "    blockxsize=512,\n",
    "    blockysize=512,\n",
    "    compress=\"ZSTD\",\n",
    "    num_threads=\"ALL_CPUS\",\n",
    ")"
   ]
  },
  {
   "cell_type": "code",
   "execution_count": null,
   "id": "2a4e9f64",
   "metadata": {
    "scrolled": false
   },
   "outputs": [],
   "source": [
    "cos_incidence_angle = xr.dot(\n",
    "    dem_normal_ecef,\n",
    "    -dem_coords[\"dem_direction\"],\n",
    "    dims=\"axis\",\n",
    ")\n",
    "sin_incidence_angle = np.sin(np.arccos(cos_incidence_angle))\n",
    "sin_incidence_angle"
   ]
  },
  {
   "cell_type": "code",
   "execution_count": null,
   "id": "d7ec8b05",
   "metadata": {},
   "outputs": [],
   "source": [
    "(1 / sin_incidence_angle).plot(vmax=3)"
   ]
  },
  {
   "cell_type": "code",
   "execution_count": null,
   "id": "c448d4c5",
   "metadata": {},
   "outputs": [],
   "source": [
    "rtc = geocoded * sin_incidence_angle"
   ]
  },
  {
   "cell_type": "code",
   "execution_count": null,
   "id": "f8e48b46",
   "metadata": {},
   "outputs": [],
   "source": [
    "_ = rtc.plot(vmax=1.0)"
   ]
  },
  {
   "cell_type": "code",
   "execution_count": null,
   "id": "0a42e272",
   "metadata": {},
   "outputs": [],
   "source": [
    "rtc.rio.set_crs(dem_raster.rio.crs)\n",
    "rtc.rio.to_raster(\n",
    "    output_urlpath.replace(\"GTC\", \"RTC\"),\n",
    "    dtype=np.float32,\n",
    "    tiled=True,\n",
    "    blockxsize=512,\n",
    "    blockysize=512,\n",
    "    compress=\"ZSTD\",\n",
    "    num_threads=\"ALL_CPUS\",\n",
    ")"
   ]
  },
  {
   "cell_type": "code",
   "execution_count": null,
   "id": "4884af2b",
   "metadata": {},
   "outputs": [],
   "source": []
  }
 ],
 "metadata": {
  "kernelspec": {
   "display_name": "Python 3 (ipykernel)",
   "language": "python",
   "name": "python3"
  },
  "language_info": {
   "codemirror_mode": {
    "name": "ipython",
    "version": 3
   },
   "file_extension": ".py",
   "mimetype": "text/x-python",
   "name": "python",
   "nbconvert_exporter": "python",
   "pygments_lexer": "ipython3",
   "version": "3.9.10"
  }
 },
 "nbformat": 4,
 "nbformat_minor": 5
}
