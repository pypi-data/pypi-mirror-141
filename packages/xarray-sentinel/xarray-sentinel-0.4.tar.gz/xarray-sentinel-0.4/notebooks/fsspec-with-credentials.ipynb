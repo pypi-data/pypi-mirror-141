{
 "cells": [
  {
   "cell_type": "code",
   "execution_count": null,
   "id": "f648a743",
   "metadata": {},
   "outputs": [],
   "source": [
    "%load_ext autoreload\n",
    "%autoreload 2\n",
    "\n",
    "%matplotlib inline\n",
    "%config InlineBackend.figure_format = 'retina'\n",
    "\n",
    "import matplotlib.pyplot as plt\n",
    "\n",
    "plt.rcParams[\"figure.figsize\"] = (12, 8)\n",
    "plt.rcParams[\"font.size\"] = 12"
   ]
  },
  {
   "cell_type": "code",
   "execution_count": null,
   "id": "76a45b2f",
   "metadata": {},
   "outputs": [],
   "source": [
    "import os\n",
    "\n",
    "import adlfs\n",
    "import xarray as xr\n",
    "\n",
    "import xarray_sentinel"
   ]
  },
  {
   "cell_type": "code",
   "execution_count": null,
   "id": "a3691348",
   "metadata": {
    "scrolled": false
   },
   "outputs": [],
   "source": [
    "token = \"st=2022-02-04T16%3A18%3A37Z&se=2022-02-12T16%3A18%3A37Z&sp=rl&sv=2020-06-12&sr=c&skoid=c85c15d6-d1ae-42d4-af60-e2ca0f81359b&sktid=72f988bf-86f1-41af-91ab-2d7cd011db47&skt=2022-02-05T15%3A18%3A37Z&ske=2022-02-06T16%3A18%3A37Z&sks=b&skv=2020-06-12&sig=fNSLqXMPQy4fufnVMCdFO3LYcj0cM8RHE0vjImiQiqE%3D\"\n",
    "product_folder = \"s1-grd/GRD/2022/1/10/IW/DV/S1A_IW_GRDH_1SDV_20220110T050922_20220110T050947_041394_04EBF7_A360\"\n",
    "fs = adlfs.AzureBlobFileSystem(\"sentinel1euwest\", credential=token)\n",
    "fs.ls(product_folder)"
   ]
  },
  {
   "cell_type": "code",
   "execution_count": null,
   "id": "6c2a8a84",
   "metadata": {},
   "outputs": [],
   "source": [
    "storage_options = {\"account_name\": \"sentinel1euwest\", \"sas_token\": token}\n",
    "product_path = f\"abfs://{product_folder}/manifest.safe\"\n",
    "\n",
    "ds = xr.open_dataset(\n",
    "    product_path,\n",
    "    engine=\"sentinel-1\",\n",
    "    storage_options=storage_options,\n",
    ")\n",
    "ds"
   ]
  },
  {
   "cell_type": "code",
   "execution_count": null,
   "id": "2eaab998",
   "metadata": {
    "scrolled": false
   },
   "outputs": [],
   "source": [
    "ds = xr.open_dataset(\n",
    "    product_path,\n",
    "    engine=\"sentinel-1\",\n",
    "    storage_options=storage_options,\n",
    "    group=\"IW/VV\",\n",
    "    chunks=2048,\n",
    "    override_product_files=\"{dirname}/{swath}-{polarization}{ext}\",\n",
    ")\n",
    "ds"
   ]
  },
  {
   "cell_type": "code",
   "execution_count": null,
   "id": "9ca7ace6",
   "metadata": {},
   "outputs": [],
   "source": [
    "ds.measurement[:2048, :2048].plot(vmax=300)"
   ]
  },
  {
   "cell_type": "code",
   "execution_count": null,
   "id": "2d5ca01a",
   "metadata": {},
   "outputs": [],
   "source": []
  }
 ],
 "metadata": {
  "kernelspec": {
   "display_name": "Python 3 (ipykernel)",
   "language": "python",
   "name": "python3"
  },
  "language_info": {
   "codemirror_mode": {
    "name": "ipython",
    "version": 3
   },
   "file_extension": ".py",
   "mimetype": "text/x-python",
   "name": "python",
   "nbconvert_exporter": "python",
   "pygments_lexer": "ipython3",
   "version": "3.9.9"
  }
 },
 "nbformat": 4,
 "nbformat_minor": 5
}
