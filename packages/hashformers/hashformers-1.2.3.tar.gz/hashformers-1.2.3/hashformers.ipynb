{
  "cells": [
    {
      "cell_type": "markdown",
      "metadata": {
        "id": "C5LFia0t4MVM"
      },
      "source": [
        "# [Hashformers](https://github.com/ruanchaves/hashformers)\n",
        "\n",
        "Hashformers is a framework for hashtag segmentation with transformers. For more information, please check the [GitHub repository](https://github.com/ruanchaves/hashformers). "
      ]
    },
    {
      "cell_type": "markdown",
      "metadata": {
        "id": "u1l3eT6lWQYG"
      },
      "source": [
        "# Installation\n",
        "\n",
        "The steps below will install the hashformers framework on Google Colab. \n",
        "\n",
        "Make sure you are on GPU mode. "
      ]
    },
    {
      "cell_type": "code",
      "execution_count": 1,
      "metadata": {
        "colab": {
          "base_uri": "https://localhost:8080/"
        },
        "id": "tG5mYB0_QgCv",
        "outputId": "1c5a99b9-a8c7-4bdc-d211-e1d52642b0f0"
      },
      "outputs": [
        {
          "name": "stdout",
          "output_type": "stream",
          "text": [
            "Fri Feb  4 07:56:16 2022       \n",
            "+-----------------------------------------------------------------------------+\n",
            "| NVIDIA-SMI 460.32.03    Driver Version: 460.32.03    CUDA Version: 11.2     |\n",
            "|-------------------------------+----------------------+----------------------+\n",
            "| GPU  Name        Persistence-M| Bus-Id        Disp.A | Volatile Uncorr. ECC |\n",
            "| Fan  Temp  Perf  Pwr:Usage/Cap|         Memory-Usage | GPU-Util  Compute M. |\n",
            "|                               |                      |               MIG M. |\n",
            "|===============================+======================+======================|\n",
            "|   0  Tesla T4            Off  | 00000000:00:04.0 Off |                    0 |\n",
            "| N/A   36C    P8     9W /  70W |      0MiB / 15109MiB |      0%      Default |\n",
            "|                               |                      |                  N/A |\n",
            "+-------------------------------+----------------------+----------------------+\n",
            "                                                                               \n",
            "+-----------------------------------------------------------------------------+\n",
            "| Processes:                                                                  |\n",
            "|  GPU   GI   CI        PID   Type   Process name                  GPU Memory |\n",
            "|        ID   ID                                                   Usage      |\n",
            "|=============================================================================|\n",
            "|  No running processes found                                                 |\n",
            "+-----------------------------------------------------------------------------+\n"
          ]
        }
      ],
      "source": [
        "!nvidia-smi"
      ]
    },
    {
      "cell_type": "markdown",
      "metadata": {
        "id": "geWaMgWXu1f5"
      },
      "source": [
        "Here we install `mxnet-cu110`, which is compatible with Google Colab. \n",
        "If installing in another environment, replace it by the mxnet package compatible with your CUDA version."
      ]
    },
    {
      "cell_type": "code",
      "execution_count": 2,
      "metadata": {
        "id": "kq0-1fvZ9jhr"
      },
      "outputs": [],
      "source": [
        "%%capture\n",
        "\n",
        "!pip install mxnet-cu110 \n",
        "!pip install hashformers"
      ]
    },
    {
      "cell_type": "markdown",
      "metadata": {
        "id": "N5Jw8Duau1f7"
      },
      "source": [
        "# Segmenting hashtags\n",
        "\n",
        "Visit the [HuggingFace Model Hub](https://huggingface.co/models) and choose any GPT-2 and a BERT models for the WordSegmenter class.\n",
        "\n",
        "The GPT-2 model should be informed as `segmenter_model_name_or_path` and the BERT model as `reranker_model_name_or_path`.\n",
        "\n",
        "Here we choose `distilgpt2` and `distilbert-base-uncased`."
      ]
    },
    {
      "cell_type": "code",
      "execution_count": 3,
      "metadata": {
        "id": "wbLaDSHiu1f8"
      },
      "outputs": [],
      "source": [
        "%%capture\n",
        "\n",
        "from hashformers import TransformerWordSegmenter as WordSegmenter\n",
        "\n",
        "ws = WordSegmenter(\n",
        "    segmenter_model_name_or_path=\"distilgpt2\",\n",
        "    reranker_model_name_or_path=\"distilbert-base-uncased\"\n",
        ")"
      ]
    },
    {
      "cell_type": "markdown",
      "metadata": {
        "id": "poHkyRYHu1f9"
      },
      "source": [
        "Now we can simply segment lists of hashtags with the default settings and look at the segmentations."
      ]
    },
    {
      "cell_type": "code",
      "execution_count": 4,
      "metadata": {
        "id": "A8YZJ-wmYcRJ"
      },
      "outputs": [],
      "source": [
        "hashtag_list = [\n",
        "    \"#myoldphonesucks\",\n",
        "    \"#latinosinthedeepsouth\",\n",
        "    \"#weneedanationalpark\"\n",
        "]\n",
        "\n",
        "segmentations = ws.segment(hashtag_list)"
      ]
    },
    {
      "cell_type": "code",
      "execution_count": 5,
      "metadata": {
        "colab": {
          "base_uri": "https://localhost:8080/"
        },
        "id": "pdz9DAVJaq5Q",
        "outputId": "37c8f625-0dd9-4aed-dbdd-68c2c65dea65"
      },
      "outputs": [
        {
          "name": "stdout",
          "output_type": "stream",
          "text": [
            "my old phone sucks\n",
            "latinos in the deep south\n",
            "we need a national park\n"
          ]
        }
      ],
      "source": [
        "print(*segmentations, sep='\\n')"
      ]
    },
    {
      "cell_type": "markdown",
      "metadata": {
        "id": "1F0rTjzQWY6q"
      },
      "source": [
        "Remember that any pair of BERT and GPT-2 models will work. This means you can use **hashformers** to segment hashtags in any language, not just English."
      ]
    },
    {
      "cell_type": "code",
      "execution_count": 6,
      "metadata": {
        "id": "g1RIgk4VYhtn"
      },
      "outputs": [],
      "source": [
        "%%capture\n",
        "\n",
        "from hashformers import TransformerWordSegmenter as WordSegmenter\n",
        "\n",
        "portuguese_ws = WordSegmenter(\n",
        "    segmenter_model_name_or_path=\"pierreguillou/gpt2-small-portuguese\",\n",
        "    reranker_model_name_or_path=\"neuralmind/bert-base-portuguese-cased\"\n",
        ")"
      ]
    },
    {
      "cell_type": "code",
      "execution_count": 7,
      "metadata": {
        "colab": {
          "base_uri": "https://localhost:8080/"
        },
        "id": "eBmbXnMYu1gC",
        "outputId": "e4fe3f65-c7af-4a6f-f3c5-4c57b3f42111"
      },
      "outputs": [
        {
          "name": "stdout",
          "output_type": "stream",
          "text": [
            "ben ficam em es\n",
            "m ouraria\n",
            "Cristiano Ronaldo\n"
          ]
        }
      ],
      "source": [
        "hashtag_list = [\n",
        "    \"#benficamemes\",\n",
        "    \"#mouraria\",\n",
        "    \"#CristianoRonaldo\"\n",
        "]\n",
        "\n",
        "segmentations = portuguese_ws.segment(hashtag_list)\n",
        "\n",
        "print(*segmentations, sep='\\n')"
      ]
    },
    {
      "cell_type": "markdown",
      "metadata": {
        "id": "auNbAt6Hu1gD"
      },
      "source": [
        "# Advanced usage\n",
        "\n",
        "## Speeding up\n",
        "\n",
        "If you want to investigate the speed-accuracy trade-off, here are a few things that can be done to improve the speed of the segmentations:\n",
        "\n",
        "\n",
        "* Turn off the reranker model by passing `use_reranker = False` to the `ws.segment` method.\n",
        "\n",
        "* Adjust the `segmenter_gpu_batch_size` (default: `1` ) and the `reranker_gpu_batch_size` (default: `2000`) parameters in the `WordSegmenter` initialization.\n",
        "\n",
        "\n",
        "* Decrease the beamsearch parameters `topk` (default: `20`) and `steps` (default: `13`) when calling the `ws.segment` method."
      ]
    },
    {
      "cell_type": "code",
      "execution_count": 8,
      "metadata": {
        "id": "SCnpCFfvu1gE"
      },
      "outputs": [],
      "source": [
        "%%capture\n",
        "\n",
        "from hashformers import TransformerWordSegmenter as WordSegmenter\n",
        "\n",
        "ws = WordSegmenter(\n",
        "    segmenter_model_name_or_path=\"distilgpt2\",\n",
        "    reranker_model_name_or_path=\"distilbert-base-uncased\",\n",
        "    segmenter_gpu_batch_size=1,\n",
        "    reranker_gpu_batch_size=2000\n",
        ")"
      ]
    },
    {
      "cell_type": "code",
      "execution_count": 9,
      "metadata": {
        "colab": {
          "base_uri": "https://localhost:8080/"
        },
        "id": "dLVJqTN3u1gE",
        "outputId": "0bf6879a-6742-43f3-fa60-ea93e8a842a5"
      },
      "outputs": [
        {
          "name": "stdout",
          "output_type": "stream",
          "text": [
            "1 loop, best of 5: 8.84 s per loop\n"
          ]
        }
      ],
      "source": [
        "%%timeit\n",
        "\n",
        "hashtag_list = [\n",
        "    \"#myoldphonesucks\",\n",
        "    \"#latinosinthedeepsouth\",\n",
        "    \"#weneedanationalpark\"\n",
        "]\n",
        "\n",
        "segmentations = ws.segment(hashtag_list)"
      ]
    },
    {
      "cell_type": "code",
      "execution_count": 10,
      "metadata": {
        "colab": {
          "base_uri": "https://localhost:8080/"
        },
        "id": "5aIBabw-u1gF",
        "outputId": "434edbce-7040-4134-c5f6-f85b6a6081cd"
      },
      "outputs": [
        {
          "name": "stdout",
          "output_type": "stream",
          "text": [
            "1 loop, best of 5: 3.23 s per loop\n"
          ]
        }
      ],
      "source": [
        "%%timeit\n",
        "\n",
        "hashtag_list = [\n",
        "    \"#myoldphonesucks\",\n",
        "    \"#latinosinthedeepsouth\",\n",
        "    \"#weneedanationalpark\"\n",
        "]\n",
        "\n",
        "segmentations = ws.segment(\n",
        "    hashtag_list,\n",
        "    topk=5,\n",
        "    steps=5,\n",
        "    use_reranker=False\n",
        ")"
      ]
    },
    {
      "cell_type": "markdown",
      "metadata": {
        "id": "qaDUosqXu1gF"
      },
      "source": [
        "## Getting the ranks\n",
        "\n",
        "If you pass `return_ranks == True` to the `ws.segment` method, you will receive a dictionary with the ranks generated by the segmenter and the reranker, the dataframe utilized by the ensemble and the final segmentations. A segmentation will rank higher if its score value is **lower** than the other segmentation scores.\n",
        "\n",
        "Rank outputs are useful if you want to combine the segmenter rank and the reranker rank in ways which are more sophisticated than what is done by the basic ensembler that comes by default with **hashformers**.   \n",
        "\n",
        "For instance, you may want to take two or more ranks ( also called \"runs\" ), convert them to the trec format and combine them through a rank fusion technique on the [trectools library](https://github.com/joaopalotti/trectools).    "
      ]
    },
    {
      "cell_type": "code",
      "execution_count": 11,
      "metadata": {
        "id": "PrDD6b2Mu1gG"
      },
      "outputs": [],
      "source": [
        "hashtag_list = [\n",
        "    \"#myoldphonesucks\",\n",
        "    \"#latinosinthedeepsouth\",\n",
        "    \"#weneedanationalpark\"\n",
        "]\n",
        "\n",
        "ranks = ws.segment(\n",
        "    hashtag_list,\n",
        "    use_reranker=True,\n",
        "    return_ranks=True\n",
        ")"
      ]
    },
    {
      "cell_type": "code",
      "execution_count": 12,
      "metadata": {
        "colab": {
          "base_uri": "https://localhost:8080/",
          "height": 424
        },
        "id": "KTbo6rt-u1gG",
        "outputId": "f9c4f916-ed43-42b4-a2a4-13798fef95ee"
      },
      "outputs": [
        {
          "data": {
            "text/html": [
              "\n",
              "  <div id=\"df-740369c5-a75f-4148-82cd-da8ad2099d4f\">\n",
              "    <div class=\"colab-df-container\">\n",
              "      <div>\n",
              "<style scoped>\n",
              "    .dataframe tbody tr th:only-of-type {\n",
              "        vertical-align: middle;\n",
              "    }\n",
              "\n",
              "    .dataframe tbody tr th {\n",
              "        vertical-align: top;\n",
              "    }\n",
              "\n",
              "    .dataframe thead th {\n",
              "        text-align: right;\n",
              "    }\n",
              "</style>\n",
              "<table border=\"1\" class=\"dataframe\">\n",
              "  <thead>\n",
              "    <tr style=\"text-align: right;\">\n",
              "      <th></th>\n",
              "      <th>characters</th>\n",
              "      <th>segmentation</th>\n",
              "      <th>score</th>\n",
              "    </tr>\n",
              "  </thead>\n",
              "  <tbody>\n",
              "    <tr>\n",
              "      <th>0</th>\n",
              "      <td>latinosinthedeepsouth</td>\n",
              "      <td>latinos in the deep south</td>\n",
              "      <td>50.041458</td>\n",
              "    </tr>\n",
              "    <tr>\n",
              "      <th>1</th>\n",
              "      <td>latinosinthedeepsouth</td>\n",
              "      <td>latino s in the deep south</td>\n",
              "      <td>53.423897</td>\n",
              "    </tr>\n",
              "    <tr>\n",
              "      <th>2</th>\n",
              "      <td>latinosinthedeepsouth</td>\n",
              "      <td>latinosin the deep south</td>\n",
              "      <td>53.662689</td>\n",
              "    </tr>\n",
              "    <tr>\n",
              "      <th>3</th>\n",
              "      <td>latinosinthedeepsouth</td>\n",
              "      <td>la tinos in the deep south</td>\n",
              "      <td>54.122768</td>\n",
              "    </tr>\n",
              "    <tr>\n",
              "      <th>4</th>\n",
              "      <td>latinosinthedeepsouth</td>\n",
              "      <td>latinos in the deepsouth</td>\n",
              "      <td>54.437469</td>\n",
              "    </tr>\n",
              "    <tr>\n",
              "      <th>...</th>\n",
              "      <td>...</td>\n",
              "      <td>...</td>\n",
              "      <td>...</td>\n",
              "    </tr>\n",
              "    <tr>\n",
              "      <th>905</th>\n",
              "      <td>weneedanationalpark</td>\n",
              "      <td>weneed anatio nalpark</td>\n",
              "      <td>80.100243</td>\n",
              "    </tr>\n",
              "    <tr>\n",
              "      <th>906</th>\n",
              "      <td>weneedanationalpark</td>\n",
              "      <td>weneedanati onalpa rk</td>\n",
              "      <td>80.674561</td>\n",
              "    </tr>\n",
              "    <tr>\n",
              "      <th>907</th>\n",
              "      <td>weneedanationalpark</td>\n",
              "      <td>weneedanat ionalpa rk</td>\n",
              "      <td>81.096085</td>\n",
              "    </tr>\n",
              "    <tr>\n",
              "      <th>908</th>\n",
              "      <td>weneedanationalpark</td>\n",
              "      <td>weneedanat ionalpar k</td>\n",
              "      <td>82.248749</td>\n",
              "    </tr>\n",
              "    <tr>\n",
              "      <th>909</th>\n",
              "      <td>weneedanationalpark</td>\n",
              "      <td>weneedanat iona lpark</td>\n",
              "      <td>82.592850</td>\n",
              "    </tr>\n",
              "  </tbody>\n",
              "</table>\n",
              "<p>910 rows × 3 columns</p>\n",
              "</div>\n",
              "      <button class=\"colab-df-convert\" onclick=\"convertToInteractive('df-740369c5-a75f-4148-82cd-da8ad2099d4f')\"\n",
              "              title=\"Convert this dataframe to an interactive table.\"\n",
              "              style=\"display:none;\">\n",
              "        \n",
              "  <svg xmlns=\"http://www.w3.org/2000/svg\" height=\"24px\"viewBox=\"0 0 24 24\"\n",
              "       width=\"24px\">\n",
              "    <path d=\"M0 0h24v24H0V0z\" fill=\"none\"/>\n",
              "    <path d=\"M18.56 5.44l.94 2.06.94-2.06 2.06-.94-2.06-.94-.94-2.06-.94 2.06-2.06.94zm-11 1L8.5 8.5l.94-2.06 2.06-.94-2.06-.94L8.5 2.5l-.94 2.06-2.06.94zm10 10l.94 2.06.94-2.06 2.06-.94-2.06-.94-.94-2.06-.94 2.06-2.06.94z\"/><path d=\"M17.41 7.96l-1.37-1.37c-.4-.4-.92-.59-1.43-.59-.52 0-1.04.2-1.43.59L10.3 9.45l-7.72 7.72c-.78.78-.78 2.05 0 2.83L4 21.41c.39.39.9.59 1.41.59.51 0 1.02-.2 1.41-.59l7.78-7.78 2.81-2.81c.8-.78.8-2.07 0-2.86zM5.41 20L4 18.59l7.72-7.72 1.47 1.35L5.41 20z\"/>\n",
              "  </svg>\n",
              "      </button>\n",
              "      \n",
              "  <style>\n",
              "    .colab-df-container {\n",
              "      display:flex;\n",
              "      flex-wrap:wrap;\n",
              "      gap: 12px;\n",
              "    }\n",
              "\n",
              "    .colab-df-convert {\n",
              "      background-color: #E8F0FE;\n",
              "      border: none;\n",
              "      border-radius: 50%;\n",
              "      cursor: pointer;\n",
              "      display: none;\n",
              "      fill: #1967D2;\n",
              "      height: 32px;\n",
              "      padding: 0 0 0 0;\n",
              "      width: 32px;\n",
              "    }\n",
              "\n",
              "    .colab-df-convert:hover {\n",
              "      background-color: #E2EBFA;\n",
              "      box-shadow: 0px 1px 2px rgba(60, 64, 67, 0.3), 0px 1px 3px 1px rgba(60, 64, 67, 0.15);\n",
              "      fill: #174EA6;\n",
              "    }\n",
              "\n",
              "    [theme=dark] .colab-df-convert {\n",
              "      background-color: #3B4455;\n",
              "      fill: #D2E3FC;\n",
              "    }\n",
              "\n",
              "    [theme=dark] .colab-df-convert:hover {\n",
              "      background-color: #434B5C;\n",
              "      box-shadow: 0px 1px 3px 1px rgba(0, 0, 0, 0.15);\n",
              "      filter: drop-shadow(0px 1px 2px rgba(0, 0, 0, 0.3));\n",
              "      fill: #FFFFFF;\n",
              "    }\n",
              "  </style>\n",
              "\n",
              "      <script>\n",
              "        const buttonEl =\n",
              "          document.querySelector('#df-740369c5-a75f-4148-82cd-da8ad2099d4f button.colab-df-convert');\n",
              "        buttonEl.style.display =\n",
              "          google.colab.kernel.accessAllowed ? 'block' : 'none';\n",
              "\n",
              "        async function convertToInteractive(key) {\n",
              "          const element = document.querySelector('#df-740369c5-a75f-4148-82cd-da8ad2099d4f');\n",
              "          const dataTable =\n",
              "            await google.colab.kernel.invokeFunction('convertToInteractive',\n",
              "                                                     [key], {});\n",
              "          if (!dataTable) return;\n",
              "\n",
              "          const docLinkHtml = 'Like what you see? Visit the ' +\n",
              "            '<a target=\"_blank\" href=https://colab.research.google.com/notebooks/data_table.ipynb>data table notebook</a>'\n",
              "            + ' to learn more about interactive tables.';\n",
              "          element.innerHTML = '';\n",
              "          dataTable['output_type'] = 'display_data';\n",
              "          await google.colab.output.renderOutput(dataTable, element);\n",
              "          const docLink = document.createElement('div');\n",
              "          docLink.innerHTML = docLinkHtml;\n",
              "          element.appendChild(docLink);\n",
              "        }\n",
              "      </script>\n",
              "    </div>\n",
              "  </div>\n",
              "  "
            ],
            "text/plain": [
              "                characters                segmentation      score\n",
              "0    latinosinthedeepsouth   latinos in the deep south  50.041458\n",
              "1    latinosinthedeepsouth  latino s in the deep south  53.423897\n",
              "2    latinosinthedeepsouth    latinosin the deep south  53.662689\n",
              "3    latinosinthedeepsouth  la tinos in the deep south  54.122768\n",
              "4    latinosinthedeepsouth    latinos in the deepsouth  54.437469\n",
              "..                     ...                         ...        ...\n",
              "905    weneedanationalpark       weneed anatio nalpark  80.100243\n",
              "906    weneedanationalpark       weneedanati onalpa rk  80.674561\n",
              "907    weneedanationalpark       weneedanat ionalpa rk  81.096085\n",
              "908    weneedanationalpark       weneedanat ionalpar k  82.248749\n",
              "909    weneedanationalpark       weneedanat iona lpark  82.592850\n",
              "\n",
              "[910 rows x 3 columns]"
            ]
          },
          "execution_count": 12,
          "metadata": {},
          "output_type": "execute_result"
        }
      ],
      "source": [
        "# Segmenter rank\n",
        "ranks.segmenter_rank"
      ]
    },
    {
      "cell_type": "code",
      "execution_count": 13,
      "metadata": {
        "colab": {
          "base_uri": "https://localhost:8080/",
          "height": 424
        },
        "id": "ZrUFQX_Su1gH",
        "outputId": "9c39986a-bf60-4c45-adb9-33868e155f65"
      },
      "outputs": [
        {
          "data": {
            "text/html": [
              "\n",
              "  <div id=\"df-85bddfa7-ebdb-4297-a901-835a3be9fc14\">\n",
              "    <div class=\"colab-df-container\">\n",
              "      <div>\n",
              "<style scoped>\n",
              "    .dataframe tbody tr th:only-of-type {\n",
              "        vertical-align: middle;\n",
              "    }\n",
              "\n",
              "    .dataframe tbody tr th {\n",
              "        vertical-align: top;\n",
              "    }\n",
              "\n",
              "    .dataframe thead th {\n",
              "        text-align: right;\n",
              "    }\n",
              "</style>\n",
              "<table border=\"1\" class=\"dataframe\">\n",
              "  <thead>\n",
              "    <tr style=\"text-align: right;\">\n",
              "      <th></th>\n",
              "      <th>characters</th>\n",
              "      <th>segmentation</th>\n",
              "      <th>score</th>\n",
              "    </tr>\n",
              "  </thead>\n",
              "  <tbody>\n",
              "    <tr>\n",
              "      <th>0</th>\n",
              "      <td>latinosinthedeepsouth</td>\n",
              "      <td>latinos in the deep south</td>\n",
              "      <td>18.863357</td>\n",
              "    </tr>\n",
              "    <tr>\n",
              "      <th>1</th>\n",
              "      <td>latinosinthedeepsouth</td>\n",
              "      <td>latino s in the deep south</td>\n",
              "      <td>36.419517</td>\n",
              "    </tr>\n",
              "    <tr>\n",
              "      <th>2</th>\n",
              "      <td>latinosinthedeepsouth</td>\n",
              "      <td>latinos in the deepsouth</td>\n",
              "      <td>37.305017</td>\n",
              "    </tr>\n",
              "    <tr>\n",
              "      <th>3</th>\n",
              "      <td>latinosinthedeepsouth</td>\n",
              "      <td>latin os in the deep south</td>\n",
              "      <td>38.368534</td>\n",
              "    </tr>\n",
              "    <tr>\n",
              "      <th>4</th>\n",
              "      <td>latinosinthedeepsouth</td>\n",
              "      <td>la tinos in the deep south</td>\n",
              "      <td>38.611647</td>\n",
              "    </tr>\n",
              "    <tr>\n",
              "      <th>...</th>\n",
              "      <td>...</td>\n",
              "      <td>...</td>\n",
              "      <td>...</td>\n",
              "    </tr>\n",
              "    <tr>\n",
              "      <th>905</th>\n",
              "      <td>weneedanationalpark</td>\n",
              "      <td>weneed a nati onalpark</td>\n",
              "      <td>84.555845</td>\n",
              "    </tr>\n",
              "    <tr>\n",
              "      <th>906</th>\n",
              "      <td>weneedanationalpark</td>\n",
              "      <td>w eneedanationalpar k</td>\n",
              "      <td>85.361568</td>\n",
              "    </tr>\n",
              "    <tr>\n",
              "      <th>907</th>\n",
              "      <td>weneedanationalpark</td>\n",
              "      <td>w eneedanationalp ark</td>\n",
              "      <td>86.047094</td>\n",
              "    </tr>\n",
              "    <tr>\n",
              "      <th>908</th>\n",
              "      <td>weneedanationalpark</td>\n",
              "      <td>w eneedanationa lpark</td>\n",
              "      <td>86.134639</td>\n",
              "    </tr>\n",
              "    <tr>\n",
              "      <th>909</th>\n",
              "      <td>weneedanationalpark</td>\n",
              "      <td>weneed a n ationalpark</td>\n",
              "      <td>86.842429</td>\n",
              "    </tr>\n",
              "  </tbody>\n",
              "</table>\n",
              "<p>910 rows × 3 columns</p>\n",
              "</div>\n",
              "      <button class=\"colab-df-convert\" onclick=\"convertToInteractive('df-85bddfa7-ebdb-4297-a901-835a3be9fc14')\"\n",
              "              title=\"Convert this dataframe to an interactive table.\"\n",
              "              style=\"display:none;\">\n",
              "        \n",
              "  <svg xmlns=\"http://www.w3.org/2000/svg\" height=\"24px\"viewBox=\"0 0 24 24\"\n",
              "       width=\"24px\">\n",
              "    <path d=\"M0 0h24v24H0V0z\" fill=\"none\"/>\n",
              "    <path d=\"M18.56 5.44l.94 2.06.94-2.06 2.06-.94-2.06-.94-.94-2.06-.94 2.06-2.06.94zm-11 1L8.5 8.5l.94-2.06 2.06-.94-2.06-.94L8.5 2.5l-.94 2.06-2.06.94zm10 10l.94 2.06.94-2.06 2.06-.94-2.06-.94-.94-2.06-.94 2.06-2.06.94z\"/><path d=\"M17.41 7.96l-1.37-1.37c-.4-.4-.92-.59-1.43-.59-.52 0-1.04.2-1.43.59L10.3 9.45l-7.72 7.72c-.78.78-.78 2.05 0 2.83L4 21.41c.39.39.9.59 1.41.59.51 0 1.02-.2 1.41-.59l7.78-7.78 2.81-2.81c.8-.78.8-2.07 0-2.86zM5.41 20L4 18.59l7.72-7.72 1.47 1.35L5.41 20z\"/>\n",
              "  </svg>\n",
              "      </button>\n",
              "      \n",
              "  <style>\n",
              "    .colab-df-container {\n",
              "      display:flex;\n",
              "      flex-wrap:wrap;\n",
              "      gap: 12px;\n",
              "    }\n",
              "\n",
              "    .colab-df-convert {\n",
              "      background-color: #E8F0FE;\n",
              "      border: none;\n",
              "      border-radius: 50%;\n",
              "      cursor: pointer;\n",
              "      display: none;\n",
              "      fill: #1967D2;\n",
              "      height: 32px;\n",
              "      padding: 0 0 0 0;\n",
              "      width: 32px;\n",
              "    }\n",
              "\n",
              "    .colab-df-convert:hover {\n",
              "      background-color: #E2EBFA;\n",
              "      box-shadow: 0px 1px 2px rgba(60, 64, 67, 0.3), 0px 1px 3px 1px rgba(60, 64, 67, 0.15);\n",
              "      fill: #174EA6;\n",
              "    }\n",
              "\n",
              "    [theme=dark] .colab-df-convert {\n",
              "      background-color: #3B4455;\n",
              "      fill: #D2E3FC;\n",
              "    }\n",
              "\n",
              "    [theme=dark] .colab-df-convert:hover {\n",
              "      background-color: #434B5C;\n",
              "      box-shadow: 0px 1px 3px 1px rgba(0, 0, 0, 0.15);\n",
              "      filter: drop-shadow(0px 1px 2px rgba(0, 0, 0, 0.3));\n",
              "      fill: #FFFFFF;\n",
              "    }\n",
              "  </style>\n",
              "\n",
              "      <script>\n",
              "        const buttonEl =\n",
              "          document.querySelector('#df-85bddfa7-ebdb-4297-a901-835a3be9fc14 button.colab-df-convert');\n",
              "        buttonEl.style.display =\n",
              "          google.colab.kernel.accessAllowed ? 'block' : 'none';\n",
              "\n",
              "        async function convertToInteractive(key) {\n",
              "          const element = document.querySelector('#df-85bddfa7-ebdb-4297-a901-835a3be9fc14');\n",
              "          const dataTable =\n",
              "            await google.colab.kernel.invokeFunction('convertToInteractive',\n",
              "                                                     [key], {});\n",
              "          if (!dataTable) return;\n",
              "\n",
              "          const docLinkHtml = 'Like what you see? Visit the ' +\n",
              "            '<a target=\"_blank\" href=https://colab.research.google.com/notebooks/data_table.ipynb>data table notebook</a>'\n",
              "            + ' to learn more about interactive tables.';\n",
              "          element.innerHTML = '';\n",
              "          dataTable['output_type'] = 'display_data';\n",
              "          await google.colab.output.renderOutput(dataTable, element);\n",
              "          const docLink = document.createElement('div');\n",
              "          docLink.innerHTML = docLinkHtml;\n",
              "          element.appendChild(docLink);\n",
              "        }\n",
              "      </script>\n",
              "    </div>\n",
              "  </div>\n",
              "  "
            ],
            "text/plain": [
              "                characters                segmentation      score\n",
              "0    latinosinthedeepsouth   latinos in the deep south  18.863357\n",
              "1    latinosinthedeepsouth  latino s in the deep south  36.419517\n",
              "2    latinosinthedeepsouth    latinos in the deepsouth  37.305017\n",
              "3    latinosinthedeepsouth  latin os in the deep south  38.368534\n",
              "4    latinosinthedeepsouth  la tinos in the deep south  38.611647\n",
              "..                     ...                         ...        ...\n",
              "905    weneedanationalpark      weneed a nati onalpark  84.555845\n",
              "906    weneedanationalpark       w eneedanationalpar k  85.361568\n",
              "907    weneedanationalpark       w eneedanationalp ark  86.047094\n",
              "908    weneedanationalpark       w eneedanationa lpark  86.134639\n",
              "909    weneedanationalpark      weneed a n ationalpark  86.842429\n",
              "\n",
              "[910 rows x 3 columns]"
            ]
          },
          "execution_count": 13,
          "metadata": {},
          "output_type": "execute_result"
        }
      ],
      "source": [
        "# Reranker rank\n",
        "ranks.reranker_rank"
      ]
    },
    {
      "cell_type": "markdown",
      "metadata": {
        "id": "mDhaVdIIu1gH"
      },
      "source": [
        "## Evaluation \n",
        "\n",
        "The `evaluate_df` function can evaluate the accuracy, precision and recall of our segmentations. It uses exactly the same evaluation method as previous authors in the field of hashtag segmentation ( Çelebi et al., [BOUN Hashtag Segmentor](https://tabilab.cmpe.boun.edu.tr/projects/hashtag_segmentation/) ).\n",
        "\n",
        "We have to pass a dataframe with fields for the gold segmentations ( a `gold_field` ) and your candidate segmentations ( a `segmentation_field` ).\n",
        "\n",
        "The relationship between gold and candidate segmentations does not have to be one-to-one. If we pass more than one candidate segmentation for a single hashtag, `evaluate_df` will measure what is the upper boundary that can be achieved on our ranks ( e.g. Acc@10, Recall@10 )."
      ]
    },
    {
      "cell_type": "code",
      "execution_count": 14,
      "metadata": {
        "colab": {
          "base_uri": "https://localhost:8080/",
          "height": 143
        },
        "id": "Um-_DzeEu1gI",
        "outputId": "648d9479-c7ce-4bf3-db24-4327662268e8"
      },
      "outputs": [
        {
          "data": {
            "text/html": [
              "\n",
              "  <div id=\"df-54b0d53d-7a4a-430b-9d71-7d08b9c3cc05\">\n",
              "    <div class=\"colab-df-container\">\n",
              "      <div>\n",
              "<style scoped>\n",
              "    .dataframe tbody tr th:only-of-type {\n",
              "        vertical-align: middle;\n",
              "    }\n",
              "\n",
              "    .dataframe tbody tr th {\n",
              "        vertical-align: top;\n",
              "    }\n",
              "\n",
              "    .dataframe thead th {\n",
              "        text-align: right;\n",
              "    }\n",
              "</style>\n",
              "<table border=\"1\" class=\"dataframe\">\n",
              "  <thead>\n",
              "    <tr style=\"text-align: right;\">\n",
              "      <th></th>\n",
              "      <th>characters</th>\n",
              "      <th>gold</th>\n",
              "      <th>segmentation</th>\n",
              "      <th>score</th>\n",
              "    </tr>\n",
              "  </thead>\n",
              "  <tbody>\n",
              "    <tr>\n",
              "      <th>0</th>\n",
              "      <td>myoldphonesucks</td>\n",
              "      <td>my old phone sucks</td>\n",
              "      <td>my old phone sucks</td>\n",
              "      <td>34.331543</td>\n",
              "    </tr>\n",
              "    <tr>\n",
              "      <th>1</th>\n",
              "      <td>latinosinthedeepsouth</td>\n",
              "      <td>latinos in the deep south</td>\n",
              "      <td>latinos in the deep south</td>\n",
              "      <td>50.041458</td>\n",
              "    </tr>\n",
              "    <tr>\n",
              "      <th>2</th>\n",
              "      <td>weneedanationalpark</td>\n",
              "      <td>we need a national park</td>\n",
              "      <td>we need a national park</td>\n",
              "      <td>35.088081</td>\n",
              "    </tr>\n",
              "  </tbody>\n",
              "</table>\n",
              "</div>\n",
              "      <button class=\"colab-df-convert\" onclick=\"convertToInteractive('df-54b0d53d-7a4a-430b-9d71-7d08b9c3cc05')\"\n",
              "              title=\"Convert this dataframe to an interactive table.\"\n",
              "              style=\"display:none;\">\n",
              "        \n",
              "  <svg xmlns=\"http://www.w3.org/2000/svg\" height=\"24px\"viewBox=\"0 0 24 24\"\n",
              "       width=\"24px\">\n",
              "    <path d=\"M0 0h24v24H0V0z\" fill=\"none\"/>\n",
              "    <path d=\"M18.56 5.44l.94 2.06.94-2.06 2.06-.94-2.06-.94-.94-2.06-.94 2.06-2.06.94zm-11 1L8.5 8.5l.94-2.06 2.06-.94-2.06-.94L8.5 2.5l-.94 2.06-2.06.94zm10 10l.94 2.06.94-2.06 2.06-.94-2.06-.94-.94-2.06-.94 2.06-2.06.94z\"/><path d=\"M17.41 7.96l-1.37-1.37c-.4-.4-.92-.59-1.43-.59-.52 0-1.04.2-1.43.59L10.3 9.45l-7.72 7.72c-.78.78-.78 2.05 0 2.83L4 21.41c.39.39.9.59 1.41.59.51 0 1.02-.2 1.41-.59l7.78-7.78 2.81-2.81c.8-.78.8-2.07 0-2.86zM5.41 20L4 18.59l7.72-7.72 1.47 1.35L5.41 20z\"/>\n",
              "  </svg>\n",
              "      </button>\n",
              "      \n",
              "  <style>\n",
              "    .colab-df-container {\n",
              "      display:flex;\n",
              "      flex-wrap:wrap;\n",
              "      gap: 12px;\n",
              "    }\n",
              "\n",
              "    .colab-df-convert {\n",
              "      background-color: #E8F0FE;\n",
              "      border: none;\n",
              "      border-radius: 50%;\n",
              "      cursor: pointer;\n",
              "      display: none;\n",
              "      fill: #1967D2;\n",
              "      height: 32px;\n",
              "      padding: 0 0 0 0;\n",
              "      width: 32px;\n",
              "    }\n",
              "\n",
              "    .colab-df-convert:hover {\n",
              "      background-color: #E2EBFA;\n",
              "      box-shadow: 0px 1px 2px rgba(60, 64, 67, 0.3), 0px 1px 3px 1px rgba(60, 64, 67, 0.15);\n",
              "      fill: #174EA6;\n",
              "    }\n",
              "\n",
              "    [theme=dark] .colab-df-convert {\n",
              "      background-color: #3B4455;\n",
              "      fill: #D2E3FC;\n",
              "    }\n",
              "\n",
              "    [theme=dark] .colab-df-convert:hover {\n",
              "      background-color: #434B5C;\n",
              "      box-shadow: 0px 1px 3px 1px rgba(0, 0, 0, 0.15);\n",
              "      filter: drop-shadow(0px 1px 2px rgba(0, 0, 0, 0.3));\n",
              "      fill: #FFFFFF;\n",
              "    }\n",
              "  </style>\n",
              "\n",
              "      <script>\n",
              "        const buttonEl =\n",
              "          document.querySelector('#df-54b0d53d-7a4a-430b-9d71-7d08b9c3cc05 button.colab-df-convert');\n",
              "        buttonEl.style.display =\n",
              "          google.colab.kernel.accessAllowed ? 'block' : 'none';\n",
              "\n",
              "        async function convertToInteractive(key) {\n",
              "          const element = document.querySelector('#df-54b0d53d-7a4a-430b-9d71-7d08b9c3cc05');\n",
              "          const dataTable =\n",
              "            await google.colab.kernel.invokeFunction('convertToInteractive',\n",
              "                                                     [key], {});\n",
              "          if (!dataTable) return;\n",
              "\n",
              "          const docLinkHtml = 'Like what you see? Visit the ' +\n",
              "            '<a target=\"_blank\" href=https://colab.research.google.com/notebooks/data_table.ipynb>data table notebook</a>'\n",
              "            + ' to learn more about interactive tables.';\n",
              "          element.innerHTML = '';\n",
              "          dataTable['output_type'] = 'display_data';\n",
              "          await google.colab.output.renderOutput(dataTable, element);\n",
              "          const docLink = document.createElement('div');\n",
              "          docLink.innerHTML = docLinkHtml;\n",
              "          element.appendChild(docLink);\n",
              "        }\n",
              "      </script>\n",
              "    </div>\n",
              "  </div>\n",
              "  "
            ],
            "text/plain": [
              "              characters  ...      score\n",
              "0        myoldphonesucks  ...  34.331543\n",
              "1  latinosinthedeepsouth  ...  50.041458\n",
              "2    weneedanationalpark  ...  35.088081\n",
              "\n",
              "[3 rows x 4 columns]"
            ]
          },
          "execution_count": 14,
          "metadata": {},
          "output_type": "execute_result"
        }
      ],
      "source": [
        "# Let's measure the actual performance of the segmenter: \n",
        "# we will evaluate only the top-1.\n",
        "import pandas as pd\n",
        "from hashformers.experiments.evaluation import evaluate_df\n",
        "\n",
        "gold_segmentations = {\n",
        "    \"myoldphonesucks\" : \"my old phone sucks\",\n",
        "    \"latinosinthedeepsouth\": \"latinos in the deep south\",\n",
        "    \"weneedanationalpark\": \"we need a national park\"\n",
        "}\n",
        "\n",
        "gold_df = pd.DataFrame(gold_segmentations.items(),\n",
        "    columns=[\"characters\", \"gold\"])\n",
        "\n",
        "segmenter_top_1 = ranks.segmenter_rank.groupby('characters').head(1)\n",
        "segmenter_top_1 = segmenter_top_1.astype(str).applymap(lambda x: x.lstrip(\"#\").strip())\n",
        "\n",
        "eval_df = pd.merge(gold_df, segmenter_top_1, on=\"characters\")\n",
        "\n",
        "eval_df"
      ]
    },
    {
      "cell_type": "code",
      "execution_count": 15,
      "metadata": {
        "colab": {
          "base_uri": "https://localhost:8080/"
        },
        "id": "JJ81s3C7u1gI",
        "outputId": "9849a0c3-13ac-42a0-ed44-234f4c209c42"
      },
      "outputs": [
        {
          "data": {
            "text/plain": [
              "{'acc': 100.0, 'f1': 100.0, 'precision': 100.0, 'recall': 100.0}"
            ]
          },
          "execution_count": 15,
          "metadata": {},
          "output_type": "execute_result"
        }
      ],
      "source": [
        "evaluate_df(\n",
        "    eval_df,\n",
        "    gold_field=\"gold\",\n",
        "    segmentation_field=\"segmentation\"\n",
        ")"
      ]
    }
  ],
  "metadata": {
    "accelerator": "GPU",
    "colab": {
      "collapsed_sections": [],
      "name": "hashformers.ipynb",
      "provenance": []
    },
    "kernelspec": {
      "display_name": "Python 3",
      "name": "python3"
    },
    "language_info": {
      "name": "python"
    }
  },
  "nbformat": 4,
  "nbformat_minor": 0
}
