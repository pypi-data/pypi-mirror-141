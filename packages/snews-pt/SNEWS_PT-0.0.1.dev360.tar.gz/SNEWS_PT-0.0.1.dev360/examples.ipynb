{
 "cells": [
  {
   "cell_type": "markdown",
   "id": "4c491567",
   "metadata": {},
   "source": [
    "# SNEWS_PT Examples\n"
   ]
  },
  {
   "cell_type": "markdown",
   "id": "af067f1c",
   "metadata": {},
   "source": [
    "## Publication"
   ]
  },
  {
   "cell_type": "code",
   "execution_count": 6,
   "id": "34bebc1c-8272-4a87-b877-31b77700907d",
   "metadata": {
    "tags": []
   },
   "outputs": [
    {
     "name": "stdout",
     "output_type": "stream",
     "text": [
      "\u001B[94m----------------------------------------------------------------\u001B[0m\n",
      "\u001B[91mSending message to CoincidenceTier\u001B[0m\n",
      "_id                 :4_CoincidenceTier_22/02/25 18:56:12:186059\n",
      "detector_name       :KamLAND\n",
      "machine_time        :22/02/25 18:56:12:186059\n",
      "schema_version      :1.0.1\n",
      "neutrino_time       :22/02/25 18:56:12:186059\n",
      "p_val               :0.0007\n",
      "meta                :{}\n",
      "\u001B[94m----------------------------------------------------------------\u001B[0m\n",
      "\u001B[91mSending message to SigTier\u001B[0m\n",
      "_id                 :4_SigTier_22/02/25 18:56:12:186059\n",
      "detector_name       :KamLAND\n",
      "machine_time        :22/02/25 18:56:12:186059\n",
      "schema_version      :1.0.1\n",
      "neutrino_time       :22/02/25 18:56:12:186059\n",
      "p_values            :[0.0007, 0.0008, 0.0009]\n",
      "meta                :{}\n"
     ]
    }
   ],
   "source": [
    "from SNEWS_PT.snews_pub import SNEWSTiersPublisher\n",
    "from datetime import  datetime\n",
    "\n",
    "test_time = datetime.utcnow().strftime(\"%y/%m/%d %H:%M:%S:%f\")\n",
    "SNEWSTiersPublisher(detector_name='KamLAND',machine_time=test_time ,neutrino_time=test_time, p_val=0.0007, p_values=[0.0007,0.0008,0.0009]).send_to_snews()\n"
   ]
  },
  {
   "cell_type": "markdown",
   "id": "f6d67ae3",
   "metadata": {},
   "source": [
    "## Subscription"
   ]
  },
  {
   "cell_type": "code",
   "id": "0ea6d89a",
   "metadata": {
    "pycharm": {
     "name": "#%%\n"
    }
   },
   "source": [
    "from SNEWS_PT.snews_sub import Subscriber\n",
    "\n",
    "Subscriber().subscribe()"
   ],
   "execution_count": null,
   "outputs": []
  }
 ],
 "metadata": {
  "kernelspec": {
   "name": "python3",
   "language": "python",
   "display_name": "Python 3 (ipykernel)"
  },
  "language_info": {
   "codemirror_mode": {
    "name": "ipython",
    "version": 3
   },
   "file_extension": ".py",
   "mimetype": "text/x-python",
   "name": "python",
   "nbconvert_exporter": "python",
   "pygments_lexer": "ipython3",
   "version": "3.7.11"
  }
 },
 "nbformat": 4,
 "nbformat_minor": 5
}