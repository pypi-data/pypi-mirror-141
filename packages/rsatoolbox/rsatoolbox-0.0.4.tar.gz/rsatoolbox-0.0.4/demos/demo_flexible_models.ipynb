{
 "cells": [
  {
   "cell_type": "markdown",
   "metadata": {},
   "source": [
    "## Flexible models\n",
    "This toolbox can handle models with fitted model parts. In this demo we will see how this is done.\n",
    "\n",
    "First we need some imports:"
   ]
  },
  {
   "cell_type": "code",
   "execution_count": 1,
   "metadata": {},
   "outputs": [],
   "source": [
    "import numpy as np\n",
    "import matplotlib.pyplot as plt\n",
    "import rsatoolbox"
   ]
  },
  {
   "cell_type": "markdown",
   "metadata": {},
   "source": [
    "As a first step lets generate a few random RDMs, which will serve as our data. We generate 10 RDMs for 5 conditions measured in 20 channels. We will attempt to model these RDMs with a model which takes the first two of these RDMs and is allowed to linearly weight these two. In real applications these model RDMs would of course be generated based on some model or based on some other data than the one we want to fit to."
   ]
  },
  {
   "cell_type": "code",
   "execution_count": 2,
   "metadata": {},
   "outputs": [],
   "source": [
    "data = np.random.rand(10, 5, 20)\n",
    "datasets = []\n",
    "for i_dat in range(data.shape[0]):\n",
    "    dataset = rsatoolbox.data.Dataset(data[i_dat], descriptors={'subj':i_dat})\n",
    "    datasets.append(dataset)\n",
    "    \n",
    "rdms = rsatoolbox.rdm.calc_rdm(datasets, method='euclidean')\n",
    "\n",
    "model = rsatoolbox.model.ModelWeighted('testModel', rdms[[0,1]])"
   ]
  },
  {
   "cell_type": "markdown",
   "metadata": {},
   "source": [
    "This model object contains the RDMs we gave it as a basis. Its primary two functions are to predict an RDM given a parameter vector $\\theta$ and to fit the model, i.e. to find a parameter vector $\\theta$ to approximate some data-rdms as closely as possible."
   ]
  },
  {
   "cell_type": "markdown",
   "metadata": {},
   "source": [
    "### Predicting RDMs\n",
    "The model object has two different predict functions: predict and predict_rdm. 'predict' produces a vectorized form of the RDM as a numpy array, which is the minimal representation for computations. 'predict_rdm' produces a typical RDMs object containing the descriptors from the RDMs object passed originally to generate the model object.\n",
    "\n",
    "Our model object takes 2 parameters as input, which are the two weights for the two rdms. As we see below for $\\theta=[1,0]$ and $\\theta=[0,1]$ it will return the original rdms, $\\theta=[1,1]$ will return the sum of the rdms."
   ]
  },
  {
   "cell_type": "code",
   "execution_count": 3,
   "metadata": {},
   "outputs": [
    {
     "name": "stdout",
     "output_type": "stream",
     "text": [
      "Predicting with theta = [1,0], should return the first rdm, which is:\n",
      "[[0.20529161 0.18219921 0.14234779 0.15184744 0.21434174 0.1876438\n",
      "  0.23245372 0.16816806 0.11574728 0.21842971]]\n",
      "The output of the model is:\n",
      "[0.20529161 0.18219921 0.14234779 0.15184744 0.21434174 0.1876438\n",
      " 0.23245372 0.16816806 0.11574728 0.21842971]\n",
      "Which is indeed identical\n",
      "\n",
      "Predicting with theta = [0,1], should return the second rdm, which is:\n",
      "[[0.21021824 0.09930457 0.16356345 0.20092431 0.18402425 0.19685312\n",
      "  0.13494642 0.13652705 0.1714637  0.12152749]]\n",
      "The output of the model is:\n",
      "[0.21021824 0.09930457 0.16356345 0.20092431 0.18402425 0.19685312\n",
      " 0.13494642 0.13652705 0.1714637  0.12152749]\n",
      "Which is indeed identical\n",
      "\n",
      "Predicting with theta = [1,1], should return the sum of the first two rdms, which is:\n",
      "[[0.41550985 0.28150378 0.30591124 0.35277176 0.39836599 0.38449692\n",
      "  0.36740013 0.3046951  0.28721099 0.3399572 ]]\n",
      "The output of the model is:\n",
      "[0.41550985 0.28150378 0.30591124 0.35277176 0.39836599 0.38449692\n",
      " 0.36740013 0.3046951  0.28721099 0.3399572 ]\n",
      "Which is indeed identical\n"
     ]
    }
   ],
   "source": [
    "# first predicting only the vectors:\n",
    "print('Predicting with theta = [1,0], should return the first rdm, which is:')\n",
    "print(rdms[0].get_vectors())\n",
    "print('The output of the model is:')\n",
    "print(model.predict([1,0]))\n",
    "print('Which is indeed identical')\n",
    "print('')\n",
    "print('Predicting with theta = [0,1], should return the second rdm, which is:')\n",
    "print(rdms[1].get_vectors())\n",
    "print('The output of the model is:')\n",
    "print(model.predict([0,1]))\n",
    "print('Which is indeed identical')\n",
    "print('')\n",
    "print('Predicting with theta = [1,1], should return the sum of the first two rdms, which is:')\n",
    "print(rdms[0].get_vectors() + rdms[1].get_vectors())\n",
    "print('The output of the model is:')\n",
    "print(model.predict([1,1]))\n",
    "print('Which is indeed identical')\n",
    "\n"
   ]
  },
  {
   "cell_type": "code",
   "execution_count": 4,
   "metadata": {},
   "outputs": [
    {
     "name": "stdout",
     "output_type": "stream",
     "text": [
      "Predicting with theta = [1,0], should return the first rdm, which is:\n",
      "rsatoolbox.rdm.RDMs\n",
      "1 RDM(s) over 5 conditions\n",
      "\n",
      "dissimilarity_measure = \n",
      "squared euclidean\n",
      "\n",
      "dissimilarities[0] = \n",
      "[[0.         0.20529161 0.18219921 0.14234779 0.15184744]\n",
      " [0.20529161 0.         0.21434174 0.1876438  0.23245372]\n",
      " [0.18219921 0.21434174 0.         0.16816806 0.11574728]\n",
      " [0.14234779 0.1876438  0.16816806 0.         0.21842971]\n",
      " [0.15184744 0.23245372 0.11574728 0.21842971 0.        ]]\n",
      "\n",
      "descriptors: \n",
      "\n",
      "rdm_descriptors: \n",
      "subj = [0]\n",
      "index = [0]\n",
      "\n",
      "pattern_descriptors: \n",
      "index = [0, 1, 2, 3, 4]\n",
      "pattern = [0 1 2 3 4]\n",
      "\n",
      "\n",
      "The output of the model is:\n",
      "rsatoolbox.rdm.RDMs\n",
      "1 RDM(s) over 5 conditions\n",
      "\n",
      "dissimilarity_measure = \n",
      "squared euclidean\n",
      "\n",
      "dissimilarities[0] = \n",
      "[[0.         0.20529161 0.18219921 0.14234779 0.15184744]\n",
      " [0.20529161 0.         0.21434174 0.1876438  0.23245372]\n",
      " [0.18219921 0.21434174 0.         0.16816806 0.11574728]\n",
      " [0.14234779 0.1876438  0.16816806 0.         0.21842971]\n",
      " [0.15184744 0.23245372 0.11574728 0.21842971 0.        ]]\n",
      "\n",
      "descriptors: \n",
      "\n",
      "rdm_descriptors: \n",
      "index = [0]\n",
      "\n",
      "pattern_descriptors: \n",
      "index = [0, 1, 2, 3, 4]\n",
      "pattern = [0 1 2 3 4]\n",
      "\n",
      "\n",
      "Which is the same RDM, but lost the rdm_descriptors as it is now formally a combination of the models RDMs\n"
     ]
    }
   ],
   "source": [
    "# Predicting full rdm objects works the same. Here this illustrated only for the [1,0] case:\n",
    "print('Predicting with theta = [1,0], should return the first rdm, which is:')\n",
    "print(rdms[0])\n",
    "print('The output of the model is:')\n",
    "print(model.predict_rdm([1,0]))\n",
    "print('Which is the same RDM, but lost the rdm_descriptors as it is now formally a combination of the models RDMs')\n"
   ]
  },
  {
   "cell_type": "markdown",
   "metadata": {},
   "source": [
    "### Fitting data\n",
    "To fit data with our model, we use the fitting functions also provided in rsatoolbox.Model. These functions take a model\n",
    "and some data rdms as input and return an optimal theta value. For a weighted sum model as we created here there are a couple of different fitting algorithms available. Let's try them out:"
   ]
  },
  {
   "cell_type": "code",
   "execution_count": 5,
   "metadata": {},
   "outputs": [
    {
     "name": "stdout",
     "output_type": "stream",
     "text": [
      "Theta based on optimization:\n",
      "[0.54167376 0.8405888 ]\n",
      "Theta based on fit_regress:\n",
      "[0.54166958 0.8405915 ]\n"
     ]
    }
   ],
   "source": [
    "# Let's start with a general optimisation function:\n",
    "theta_opt = rsatoolbox.model.fit_optimize(model, rdms)\n",
    "print('Theta based on optimization:')\n",
    "print(theta_opt)\n",
    "\n",
    "# As we are dealing with a linear weighting model, we can achieve the same fit using \n",
    "# fit_regress, which uses the linear algebra solution to the fitting problem,\n",
    "# which will usually be much faster\n",
    "theta_regress = rsatoolbox.model.fit_regress(model, rdms)\n",
    "print('Theta based on fit_regress:')\n",
    "print(theta_regress)\n"
   ]
  },
  {
   "cell_type": "markdown",
   "metadata": {},
   "source": [
    "These parameter values are always quite similar, but not identical due to inaccuracy of the optimization.\n",
    "We can use these parameter values and see that the parameter values we found indeed produce very similar rdms:"
   ]
  },
  {
   "cell_type": "code",
   "execution_count": 6,
   "metadata": {},
   "outputs": [
    {
     "data": {
      "text/plain": [
       "(<Figure size 144x144 with 1 Axes>,\n",
       " array([[<AxesSubplot:>]], dtype=object),\n",
       " defaultdict(dict,\n",
       "             {<AxesSubplot:>: {'image': <matplotlib.image.AxesImage at 0x7fba190f22e0>}}))"
      ]
     },
     "execution_count": 6,
     "metadata": {},
     "output_type": "execute_result"
    },
    {
     "data": {
      "image/png": "[encoded data removed]",
      "text/plain": [
       "<Figure size 144x144 with 1 Axes>"
      ]
     },
     "metadata": {},
     "output_type": "display_data"
    },
    {
     "data": {
      "image/png": "[encoded data removed]",
      "text/plain": [
       "<Figure size 144x144 with 1 Axes>"
      ]
     },
     "metadata": {},
     "output_type": "display_data"
    }
   ],
   "source": [
    "# get rdm prediction with the fitted parameters:\n",
    "rdm_opt = model.predict_rdm(theta_opt)\n",
    "rdm_regress = model.predict_rdm(theta_opt)\n",
    "# show rdms:\n",
    "rsatoolbox.vis.show_rdm(rdm_opt)\n",
    "rsatoolbox.vis.show_rdm(rdm_regress)"
   ]
  },
  {
   "cell_type": "markdown",
   "metadata": {},
   "source": [
    "The model object also has a default fitter attached, which allows us to fit the model using model.fit(data)"
   ]
  },
  {
   "cell_type": "code",
   "execution_count": 7,
   "metadata": {},
   "outputs": [
    {
     "name": "stdout",
     "output_type": "stream",
     "text": [
      "[0.54171328 0.84056334]\n",
      "the used fitting function was:\n",
      "<function fit_optimize at 0x7fba18bdb9d0>\n"
     ]
    }
   ],
   "source": [
    "theta_model = model.fit(rdms)\n",
    "print(theta_model)\n",
    "print('the used fitting function was:')\n",
    "print(model.default_fitter)"
   ]
  },
  {
   "cell_type": "markdown",
   "metadata": {},
   "source": [
    "In this case the default fitting function (`model.default_fitter`) is `fit_optimize`, such that the call we just performed results in exactly the same computations as `rsatoolbox.model.fit_optimize(model, rdms)` did above."
   ]
  },
  {
   "cell_type": "markdown",
   "metadata": {},
   "source": [
    "### Optimization criterion\n",
    "The most important additional input the fitting functions take is `method`, which specifies which comparison method between RDMs is optimized. So far we left this at the default which is the cosine similarity. If we want to optimize a different measure, like the correlation we only need to pass the name:"
   ]
  },
  {
   "cell_type": "code",
   "execution_count": 8,
   "metadata": {},
   "outputs": [
    {
     "name": "stdout",
     "output_type": "stream",
     "text": [
      "[-0.04123096  0.99914964]\n",
      "[-0.04123086  0.99914965]\n",
      "[-0.04122998  0.99914968]\n"
     ]
    }
   ],
   "source": [
    "# to maximize the correlation instead we can use either of the following:\n",
    "theta_corr_regress = rsatoolbox.model.fit_regress(model, rdms, method='corr')\n",
    "print(theta_corr_regress)\n",
    "theta_corr_opt = rsatoolbox.model.fit_optimize(model, rdms, method='corr')\n",
    "print(theta_corr_opt)\n",
    "theta_corr_model = model.fit(rdms, method='corr')\n",
    "print(theta_corr_model)"
   ]
  },
  {
   "cell_type": "markdown",
   "metadata": {},
   "source": [
    "Note that these values are very similar to each other, but differ from the ones we got above when optimizing the cosine similarity."
   ]
  },
  {
   "cell_type": "markdown",
   "metadata": {},
   "source": [
    "As we now know, what criterion was optimized we can also evaluate this criterion to check that the found parameters are indeed better than others. For example, the parameters found to optimize the correlation should yield a higher average correlation to the data rdms, but a lower cosine similarity than the parameters optimized for the cosine similarity."
   ]
  },
  {
   "cell_type": "code",
   "execution_count": 9,
   "metadata": {},
   "outputs": [
    {
     "name": "stdout",
     "output_type": "stream",
     "text": [
      "The average correlation for the correlation parameters is:\n",
      "0.20919570220266936\n",
      "The average correlation for the cosine similarity parameters is:\n",
      "0.1648685520549055\n",
      "The average cosine similarity for the correlation parameters is:\n",
      "0.9609090694876308\n",
      "The average cosine similarity for the cosine similarity parameters is:\n",
      "0.9712386973494105\n"
     ]
    }
   ],
   "source": [
    "rdm_cosine = model.predict_rdm(theta_regress)\n",
    "rdm_corr = model.predict_rdm(theta_corr_regress)\n",
    "print('The average correlation for the correlation parameters is:')\n",
    "print(np.mean(rsatoolbox.rdm.compare(rdm_corr, rdms, 'corr')))\n",
    "print('The average correlation for the cosine similarity parameters is:')\n",
    "print(np.mean(rsatoolbox.rdm.compare(rdm_cosine, rdms, 'corr')))\n",
    "print('The average cosine similarity for the correlation parameters is:')\n",
    "print(np.mean(rsatoolbox.rdm.compare(rdm_corr, rdms, 'cosine')))\n",
    "print('The average cosine similarity for the cosine similarity parameters is:')\n",
    "print(np.mean(rsatoolbox.rdm.compare(rdm_cosine, rdms, 'cosine')))"
   ]
  },
  {
   "cell_type": "markdown",
   "metadata": {},
   "source": [
    "## Crossvalidation"
   ]
  },
  {
   "cell_type": "markdown",
   "metadata": {},
   "source": [
    "## Bootstrap-wrapped crossvalidation"
   ]
  },
  {
   "cell_type": "markdown",
   "metadata": {},
   "source": [
    "## Other model types"
   ]
  },
  {
   "cell_type": "code",
   "execution_count": null,
   "metadata": {},
   "outputs": [],
   "source": []
  }
 ],
 "metadata": {
  "kernelspec": {
   "display_name": "Python 3",
   "language": "python",
   "name": "python3"
  },
  "language_info": {
   "codemirror_mode": {
    "name": "ipython",
    "version": 3
   },
   "file_extension": ".py",
   "mimetype": "text/x-python",
   "name": "python",
   "nbconvert_exporter": "python",
   "pygments_lexer": "ipython3",
   "version": "3.8.8"
  }
 },
 "nbformat": 4,
 "nbformat_minor": 4
}
