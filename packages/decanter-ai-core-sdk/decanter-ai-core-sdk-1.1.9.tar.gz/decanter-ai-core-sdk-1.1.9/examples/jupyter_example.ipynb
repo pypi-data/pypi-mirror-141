{
 "cells": [
  {
   "cell_type": "markdown",
   "metadata": {},
   "source": [
    "# Decanter AI Core SDK Jupyter Notebook Example\n",
    "This example provides how to use the python package decanter-ai-core-sdk, including installation, usage of the apis, and some ways to show chart of the experiment's attributes and data values. "
   ]
  },
  {
   "cell_type": "markdown",
   "metadata": {},
   "source": [
    "## Installation"
   ]
  },
  {
   "cell_type": "code",
   "execution_count": null,
   "metadata": {},
   "outputs": [],
   "source": [
    "!pip install decanter-ai-core-sdk\n",
    "!pip install ipywidgets"
   ]
  },
  {
   "cell_type": "markdown",
   "metadata": {},
   "source": [
    "# Running Example"
   ]
  },
  {
   "cell_type": "code",
   "execution_count": 1,
   "metadata": {},
   "outputs": [],
   "source": [
    "import os\n",
    "from decanter import core\n",
    "from decanter.core.core_api import TrainInput, PredictInput, SetupInput\n",
    "from decanter.core.enums.algorithms import Algo\n",
    "from decanter.core.enums.evaluators import Evaluator"
   ]
  },
  {
   "cell_type": "markdown",
   "metadata": {},
   "source": [
    "## Create Context\n",
    "Create Context will set the connection to decanter core server, and create an event loop. Since Jupyter already have an event loop, SDK will just use the current event loop. See more in [here](https://www.notion.so/API-615d2fba4e7f45c4b5fe63cc192e481f#bb4f0a4b2847450abc4f80b025469170)\n",
    "\n",
    "In Jupyter, it will initially exist a running event loop."
   ]
  },
  {
   "cell_type": "code",
   "execution_count": 2,
   "metadata": {},
   "outputs": [
    {
     "data": {
      "text/plain": [
       "True"
      ]
     },
     "execution_count": 2,
     "metadata": {},
     "output_type": "execute_result"
    }
   ],
   "source": [
    "import asyncio\n",
    "loop = asyncio.get_running_loop()\n",
    "loop.is_running()"
   ]
  },
  {
   "cell_type": "code",
   "execution_count": 3,
   "metadata": {},
   "outputs": [],
   "source": [
    "# enable default logger\n",
    "core.enable_default_logger()"
   ]
  },
  {
   "cell_type": "markdown",
   "metadata": {},
   "source": [
    "## Create Decanter Core Client\n",
    "CoreClient handles the actions of calling api and getting the results."
   ]
  },
  {
   "cell_type": "code",
   "execution_count": 4,
   "metadata": {},
   "outputs": [
    {
     "name": "stderr",
     "output_type": "stream",
     "text": [
      "00:28:02 [    INFO] [Context] no event loop to close\n",
      "00:28:02 [    INFO] [Context] connect healthy :)\n"
     ]
    }
   ],
   "source": [
    "# set the username, password, host\n",
    "decanter_ai_server=???\n",
    "client = core.CoreClient(username=???, password=???, host=decanter_ai_server)"
   ]
  },
  {
   "cell_type": "markdown",
   "metadata": {},
   "source": [
    "Note: It is ok to recreate context to set the usr, pwd, host."
   ]
  },
  {
   "cell_type": "markdown",
   "metadata": {},
   "source": [
    "## Upload, Train, Predict Workflow\n",
    "Example of using `core.upload`, `core.train`, `core.predict`.\n",
    "While it's running, it'll show up the progress bar showing the progress of current running jobs."
   ]
  },
  {
   "cell_type": "code",
   "execution_count": 5,
   "metadata": {},
   "outputs": [
    {
     "data": {
      "application/vnd.jupyter.widget-view+json": {
       "model_id": "b3cd136e034e403ba833f6e0f6983187",
       "version_major": 2,
       "version_minor": 0
      },
      "text/plain": [
       "Progress train_data:   0%|          "
      ]
     },
     "metadata": {},
     "output_type": "display_data"
    },
    {
     "data": {
      "application/vnd.jupyter.widget-view+json": {
       "model_id": "ae6e7b664a334909924f8d6517765ca4",
       "version_major": 2,
       "version_minor": 0
      },
      "text/plain": [
       "Progress test_data:   0%|          "
      ]
     },
     "metadata": {},
     "output_type": "display_data"
    },
    {
     "name": "stderr",
     "output_type": "stream",
     "text": [
      "00:28:39 [    INFO] [Job] 'train_data' done status: done id: 60ec69657f32340001887f4e\n",
      "00:28:39 [    INFO] [Job] 'test_data' done status: done id: 60ec69657f32340001887f5d\n"
     ]
    },
    {
     "data": {
      "application/vnd.jupyter.widget-view+json": {
       "model_id": "8f893252334b4717877ae1739b9bc75b",
       "version_major": 2,
       "version_minor": 0
      },
      "text/plain": [
       "Progress None:   0%|          "
      ]
     },
     "metadata": {},
     "output_type": "display_data"
    },
    {
     "name": "stderr",
     "output_type": "stream",
     "text": [
      "00:28:43 [    INFO] [Job] 'DataSetup_e7afe0c4' done status: done id: 60ec69887f3234000188801a\n"
     ]
    },
    {
     "data": {
      "application/vnd.jupyter.widget-view+json": {
       "model_id": "56fc574a80c14b5da51cb2333e281cb7",
       "version_major": 2,
       "version_minor": 0
      },
      "text/plain": [
       "Progress myexp:   0%|          "
      ]
     },
     "metadata": {},
     "output_type": "display_data"
    },
    {
     "name": "stderr",
     "output_type": "stream",
     "text": [
      "00:28:57 [    INFO] [Job] 'myexp' done status: done id: 60ec698f7e0744000163bf37\n"
     ]
    },
    {
     "data": {
      "application/vnd.jupyter.widget-view+json": {
       "model_id": "8461ca8f547443c5a51ed859ead36129",
       "version_major": 2,
       "version_minor": 0
      },
      "text/plain": [
       "Progress mypred:   0%|          "
      ]
     },
     "metadata": {},
     "output_type": "display_data"
    },
    {
     "name": "stderr",
     "output_type": "stream",
     "text": [
      "00:29:31 [    INFO] [Job] 'mypred' done status: done id: 60ec699e3996bf0001115ea1\n"
     ]
    }
   ],
   "source": [
    "# open train & test file\n",
    "train_file_path = os.path.join('data/train.csv')\n",
    "test_file_path = os.path.join('data/train.csv')\n",
    "train_file = open(train_file_path , 'rb')\n",
    "test_file = open(test_file_path , 'rb')\n",
    "\n",
    "# upload data to corex \n",
    "train_data = client.upload(file=train_file, name=\"train_data\")\n",
    "test_data = client.upload(file=test_file, name=\"test_data\")\n",
    "# from decanter.core.jobs import DataUpload\n",
    "# train_data = DataUpload.create(data_id = \"{data_id}\", name=\"train_data\")\n",
    "\n",
    "# Set up data to change data type.\n",
    "setup_input = SetupInput(\n",
    "    data = train_data,\n",
    "    data_columns=[{'id': 'Pclass', 'data_type': 'categorical'}]\n",
    ")\n",
    "\n",
    "train_data = client.setup(setup_input)\n",
    "\n",
    "# # set train parameters train model\n",
    "train_input = TrainInput(data=train_data, target='Survived', algos=[Algo.XGBoost], max_model=2, tolerance=0.9)\n",
    "exp = client.train(train_input=train_input, select_model_by=Evaluator.mean_per_class_error, name='myexp')\n",
    "\n",
    "# # set predict parameters and predict result\n",
    "predict_input = PredictInput(data=test_data, experiment=exp)\n",
    "pred_res = client.predict(predict_input=predict_input, name='mypred')"
   ]
  },
  {
   "cell_type": "code",
   "execution_count": 6,
   "metadata": {},
   "outputs": [
    {
     "data": {
      "text/plain": [
       "{'size': 713,\n",
       " 'columns': [{'id': 'Survived',\n",
       "   'data_type': 'numerical',\n",
       "   'metadata': {'dtype': 'double'}},\n",
       "  {'id': 'prediction',\n",
       "   'data_type': 'numerical',\n",
       "   'metadata': {'dtype': 'double'}},\n",
       "  {'id': '0', 'data_type': 'numerical', 'metadata': {'dtype': 'double'}},\n",
       "  {'id': '1', 'data_type': 'numerical', 'metadata': {'dtype': 'double'}}]}"
      ]
     },
     "execution_count": 6,
     "metadata": {},
     "output_type": "execute_result"
    }
   ],
   "source": [
    "# To prevent getting attributes when corresponding jobs aren't finished\n",
    "exp.get(attr='attributes')\n",
    "exp.best_model.get(attr='importances')\n",
    "pred_res.get(attr='schema')"
   ]
  },
  {
   "cell_type": "markdown",
   "metadata": {},
   "source": [
    "### Show Data\n",
    "Use `data.show_df()` and `predict_result.show_df()` to create pandas dataframe. <br>\n",
    "Use `data.show()` or `predict_result.show()` to show data in text."
   ]
  },
  {
   "cell_type": "code",
   "execution_count": 7,
   "metadata": {},
   "outputs": [
    {
     "data": {
      "text/html": [
       "<div>\n",
       "<style scoped>\n",
       "    .dataframe tbody tr th:only-of-type {\n",
       "        vertical-align: middle;\n",
       "    }\n",
       "\n",
       "    .dataframe tbody tr th {\n",
       "        vertical-align: top;\n",
       "    }\n",
       "\n",
       "    .dataframe thead th {\n",
       "        text-align: right;\n",
       "    }\n",
       "</style>\n",
       "<table border=\"1\" class=\"dataframe\">\n",
       "  <thead>\n",
       "    <tr style=\"text-align: right;\">\n",
       "      <th></th>\n",
       "      <th>PassengerId</th>\n",
       "      <th>Survived</th>\n",
       "      <th>Pclass</th>\n",
       "      <th>Name</th>\n",
       "      <th>Sex</th>\n",
       "      <th>Age</th>\n",
       "      <th>SibSp</th>\n",
       "      <th>Parch</th>\n",
       "      <th>Ticket</th>\n",
       "      <th>Fare</th>\n",
       "      <th>Cabin</th>\n",
       "      <th>Embarked</th>\n",
       "    </tr>\n",
       "  </thead>\n",
       "  <tbody>\n",
       "    <tr>\n",
       "      <th>0</th>\n",
       "      <td>1</td>\n",
       "      <td>0</td>\n",
       "      <td>3</td>\n",
       "      <td>Braund, Mr. Owen Harris</td>\n",
       "      <td>male</td>\n",
       "      <td>22.0</td>\n",
       "      <td>1</td>\n",
       "      <td>0</td>\n",
       "      <td>A/5 21171</td>\n",
       "      <td>7.2500</td>\n",
       "      <td>NaN</td>\n",
       "      <td>S</td>\n",
       "    </tr>\n",
       "    <tr>\n",
       "      <th>1</th>\n",
       "      <td>2</td>\n",
       "      <td>1</td>\n",
       "      <td>1</td>\n",
       "      <td>Cumings, Mrs. John Bradley (Florence Briggs Th...</td>\n",
       "      <td>female</td>\n",
       "      <td>38.0</td>\n",
       "      <td>1</td>\n",
       "      <td>0</td>\n",
       "      <td>PC 17599</td>\n",
       "      <td>71.2833</td>\n",
       "      <td>C85</td>\n",
       "      <td>C</td>\n",
       "    </tr>\n",
       "    <tr>\n",
       "      <th>2</th>\n",
       "      <td>3</td>\n",
       "      <td>1</td>\n",
       "      <td>3</td>\n",
       "      <td>Heikkinen, Miss. Laina</td>\n",
       "      <td>female</td>\n",
       "      <td>26.0</td>\n",
       "      <td>0</td>\n",
       "      <td>0</td>\n",
       "      <td>STON/O2. 3101282</td>\n",
       "      <td>7.9250</td>\n",
       "      <td>NaN</td>\n",
       "      <td>S</td>\n",
       "    </tr>\n",
       "    <tr>\n",
       "      <th>3</th>\n",
       "      <td>4</td>\n",
       "      <td>1</td>\n",
       "      <td>1</td>\n",
       "      <td>Futrelle, Mrs. Jacques Heath (Lily May Peel)</td>\n",
       "      <td>female</td>\n",
       "      <td>35.0</td>\n",
       "      <td>1</td>\n",
       "      <td>0</td>\n",
       "      <td>113803</td>\n",
       "      <td>53.1000</td>\n",
       "      <td>C123</td>\n",
       "      <td>S</td>\n",
       "    </tr>\n",
       "    <tr>\n",
       "      <th>4</th>\n",
       "      <td>5</td>\n",
       "      <td>0</td>\n",
       "      <td>3</td>\n",
       "      <td>Allen, Mr. William Henry</td>\n",
       "      <td>male</td>\n",
       "      <td>35.0</td>\n",
       "      <td>0</td>\n",
       "      <td>0</td>\n",
       "      <td>373450</td>\n",
       "      <td>8.0500</td>\n",
       "      <td>NaN</td>\n",
       "      <td>S</td>\n",
       "    </tr>\n",
       "    <tr>\n",
       "      <th>...</th>\n",
       "      <td>...</td>\n",
       "      <td>...</td>\n",
       "      <td>...</td>\n",
       "      <td>...</td>\n",
       "      <td>...</td>\n",
       "      <td>...</td>\n",
       "      <td>...</td>\n",
       "      <td>...</td>\n",
       "      <td>...</td>\n",
       "      <td>...</td>\n",
       "      <td>...</td>\n",
       "      <td>...</td>\n",
       "    </tr>\n",
       "    <tr>\n",
       "      <th>708</th>\n",
       "      <td>709</td>\n",
       "      <td>1</td>\n",
       "      <td>1</td>\n",
       "      <td>Cleaver, Miss. Alice</td>\n",
       "      <td>female</td>\n",
       "      <td>22.0</td>\n",
       "      <td>0</td>\n",
       "      <td>0</td>\n",
       "      <td>113781</td>\n",
       "      <td>151.5500</td>\n",
       "      <td>NaN</td>\n",
       "      <td>S</td>\n",
       "    </tr>\n",
       "    <tr>\n",
       "      <th>709</th>\n",
       "      <td>710</td>\n",
       "      <td>1</td>\n",
       "      <td>3</td>\n",
       "      <td>Moubarek, Master. Halim Gonios (\"William George\")</td>\n",
       "      <td>male</td>\n",
       "      <td>NaN</td>\n",
       "      <td>1</td>\n",
       "      <td>1</td>\n",
       "      <td>2661</td>\n",
       "      <td>15.2458</td>\n",
       "      <td>NaN</td>\n",
       "      <td>C</td>\n",
       "    </tr>\n",
       "    <tr>\n",
       "      <th>710</th>\n",
       "      <td>711</td>\n",
       "      <td>1</td>\n",
       "      <td>1</td>\n",
       "      <td>Mayne, Mlle. Berthe Antonine (\"Mrs de Villiers\")</td>\n",
       "      <td>female</td>\n",
       "      <td>24.0</td>\n",
       "      <td>0</td>\n",
       "      <td>0</td>\n",
       "      <td>PC 17482</td>\n",
       "      <td>49.5042</td>\n",
       "      <td>C90</td>\n",
       "      <td>C</td>\n",
       "    </tr>\n",
       "    <tr>\n",
       "      <th>711</th>\n",
       "      <td>712</td>\n",
       "      <td>0</td>\n",
       "      <td>1</td>\n",
       "      <td>Klaber, Mr. Herman</td>\n",
       "      <td>male</td>\n",
       "      <td>NaN</td>\n",
       "      <td>0</td>\n",
       "      <td>0</td>\n",
       "      <td>113028</td>\n",
       "      <td>26.5500</td>\n",
       "      <td>C124</td>\n",
       "      <td>S</td>\n",
       "    </tr>\n",
       "    <tr>\n",
       "      <th>712</th>\n",
       "      <td>713</td>\n",
       "      <td>1</td>\n",
       "      <td>1</td>\n",
       "      <td>Taylor, Mr. Elmer Zebley</td>\n",
       "      <td>male</td>\n",
       "      <td>48.0</td>\n",
       "      <td>1</td>\n",
       "      <td>0</td>\n",
       "      <td>19996</td>\n",
       "      <td>52.0000</td>\n",
       "      <td>C126</td>\n",
       "      <td>S</td>\n",
       "    </tr>\n",
       "  </tbody>\n",
       "</table>\n",
       "<p>713 rows × 12 columns</p>\n",
       "</div>"
      ],
      "text/plain": [
       "     PassengerId  Survived  Pclass  \\\n",
       "0              1         0       3   \n",
       "1              2         1       1   \n",
       "2              3         1       3   \n",
       "3              4         1       1   \n",
       "4              5         0       3   \n",
       "..           ...       ...     ...   \n",
       "708          709         1       1   \n",
       "709          710         1       3   \n",
       "710          711         1       1   \n",
       "711          712         0       1   \n",
       "712          713         1       1   \n",
       "\n",
       "                                                  Name     Sex   Age  SibSp  \\\n",
       "0                              Braund, Mr. Owen Harris    male  22.0      1   \n",
       "1    Cumings, Mrs. John Bradley (Florence Briggs Th...  female  38.0      1   \n",
       "2                               Heikkinen, Miss. Laina  female  26.0      0   \n",
       "3         Futrelle, Mrs. Jacques Heath (Lily May Peel)  female  35.0      1   \n",
       "4                             Allen, Mr. William Henry    male  35.0      0   \n",
       "..                                                 ...     ...   ...    ...   \n",
       "708                               Cleaver, Miss. Alice  female  22.0      0   \n",
       "709  Moubarek, Master. Halim Gonios (\"William George\")    male   NaN      1   \n",
       "710   Mayne, Mlle. Berthe Antonine (\"Mrs de Villiers\")  female  24.0      0   \n",
       "711                                 Klaber, Mr. Herman    male   NaN      0   \n",
       "712                           Taylor, Mr. Elmer Zebley    male  48.0      1   \n",
       "\n",
       "     Parch            Ticket      Fare Cabin Embarked  \n",
       "0        0         A/5 21171    7.2500   NaN        S  \n",
       "1        0          PC 17599   71.2833   C85        C  \n",
       "2        0  STON/O2. 3101282    7.9250   NaN        S  \n",
       "3        0            113803   53.1000  C123        S  \n",
       "4        0            373450    8.0500   NaN        S  \n",
       "..     ...               ...       ...   ...      ...  \n",
       "708      0            113781  151.5500   NaN        S  \n",
       "709      1              2661   15.2458   NaN        C  \n",
       "710      0          PC 17482   49.5042   C90        C  \n",
       "711      0            113028   26.5500  C124        S  \n",
       "712      0             19996   52.0000  C126        S  \n",
       "\n",
       "[713 rows x 12 columns]"
      ]
     },
     "execution_count": 7,
     "metadata": {},
     "output_type": "execute_result"
    }
   ],
   "source": [
    "train_data.show_df()"
   ]
  },
  {
   "cell_type": "markdown",
   "metadata": {},
   "source": [
    "### Show models attributes\n",
    "List the attributes you wish to see in a list, and call `core.plot.show_model_attr(attrs, exp)`"
   ]
  },
  {
   "cell_type": "code",
   "execution_count": 8,
   "metadata": {},
   "outputs": [
    {
     "data": {
      "image/png": "[encoded data removed]",
      "text/plain": [
       "<Figure size 432x288 with 1 Axes>"
      ]
     },
     "metadata": {
      "needs_background": "light"
     },
     "output_type": "display_data"
    },
    {
     "data": {
      "text/html": [
       "<div>\n",
       "<style scoped>\n",
       "    .dataframe tbody tr th:only-of-type {\n",
       "        vertical-align: middle;\n",
       "    }\n",
       "\n",
       "    .dataframe tbody tr th {\n",
       "        vertical-align: top;\n",
       "    }\n",
       "\n",
       "    .dataframe thead th {\n",
       "        text-align: right;\n",
       "    }\n",
       "</style>\n",
       "<table border=\"1\" class=\"dataframe\">\n",
       "  <thead>\n",
       "    <tr style=\"text-align: right;\">\n",
       "      <th></th>\n",
       "      <th>name</th>\n",
       "      <th>id</th>\n",
       "      <th>validation_scores</th>\n",
       "      <th>cv_averages</th>\n",
       "    </tr>\n",
       "  </thead>\n",
       "  <tbody>\n",
       "    <tr>\n",
       "      <th>0</th>\n",
       "      <td>XGBoost 2</td>\n",
       "      <td>60ec69947e0744000163bf38</td>\n",
       "      <td>0.223830</td>\n",
       "      <td>0.193925</td>\n",
       "    </tr>\n",
       "    <tr>\n",
       "      <th>1</th>\n",
       "      <td>XGBoost 1</td>\n",
       "      <td>60ec69947e0744000163bf39</td>\n",
       "      <td>0.214468</td>\n",
       "      <td>0.199802</td>\n",
       "    </tr>\n",
       "  </tbody>\n",
       "</table>\n",
       "</div>"
      ],
      "text/plain": [
       "        name                        id  validation_scores  cv_averages\n",
       "0  XGBoost 2  60ec69947e0744000163bf38           0.223830     0.193925\n",
       "1  XGBoost 1  60ec69947e0744000163bf39           0.214468     0.199802"
      ]
     },
     "execution_count": 8,
     "metadata": {},
     "output_type": "execute_result"
    }
   ],
   "source": [
    "core.plot.show_model_attr(metric=Evaluator.mean_per_class_error, score_types=['validation', 'cv_averages'], exp=exp)"
   ]
  },
  {
   "cell_type": "markdown",
   "metadata": {},
   "source": [
    "### Get Data values with Data instance\n",
    "Plot chart with the values in data instance"
   ]
  },
  {
   "cell_type": "code",
   "execution_count": 9,
   "metadata": {},
   "outputs": [
    {
     "data": {
      "image/png": "[encoded data removed]",
      "text/plain": [
       "<Figure size 432x288 with 1 Axes>"
      ]
     },
     "metadata": {},
     "output_type": "display_data"
    }
   ],
   "source": [
    "import matplotlib.pyplot as plt\n",
    "import numpy as np\n",
    "\n",
    "\n",
    "labels = ['Survied', 'Dead']\n",
    "labels_gender = ['male', 'female', 'male', 'female']\n",
    "\n",
    "\n",
    "df = train_data.show_df()\n",
    "df_s = df.loc[df[\"Survived\"] == 1]\n",
    "df_d = df.loc[df[\"Survived\"] == 0]\n",
    "\n",
    "sizes = [df_s.shape[0], df_d.shape[0]]\n",
    "\n",
    "sizes_gender = []\n",
    "for d in [df_s, df_d]:\n",
    "    s1 = d.loc[d[\"Sex\"] == \"male\"].shape[0]\n",
    "    s2 = d.loc[d[\"Sex\"] == \"female\"].shape[0]\n",
    "    sizes_gender.append(s1)\n",
    "    sizes_gender.append(s2)\n",
    "\n",
    "    \n",
    "colors = ['#99ff99', '#ff6666']\n",
    "colors_gender = ['#87CEFA','#FFB6C1', '#87CEFA','#FFB6C1']\n",
    " \n",
    "# Plot\n",
    "plt.pie(sizes, labels=labels, colors=colors, startangle=90,frame=True)\n",
    "plt.pie(sizes_gender,colors=colors_gender ,radius=0.75,startangle=90)\n",
    "centre_circle = plt.Circle((0,0),0.5,color='black', fc='white',linewidth=0)\n",
    "fig = plt.gcf()\n",
    "fig.gca().add_artist(centre_circle)\n",
    " \n",
    "plt.axis('equal')\n",
    "plt.tight_layout()\n",
    "plt.show()"
   ]
  },
  {
   "cell_type": "markdown",
   "metadata": {},
   "source": [
    "# Working Directly With API"
   ]
  },
  {
   "cell_type": "markdown",
   "metadata": {},
   "source": [
    "## Batch Prediction"
   ]
  },
  {
   "cell_type": "code",
   "execution_count": 15,
   "metadata": {},
   "outputs": [
    {
     "data": {
      "text/plain": [
       "[{'index': 0,\n",
       "  'predict_status': 'success',\n",
       "  'result': {'prediction': '0',\n",
       "   '1': 0.12065793573856354,\n",
       "   '0': 0.8793420791625977}},\n",
       " {'index': 1,\n",
       "  'predict_status': 'success',\n",
       "  'result': {'prediction': '0',\n",
       "   '1': 0.22759492695331573,\n",
       "   '0': 0.7724050879478455}},\n",
       " {'index': 2,\n",
       "  'predict_status': 'success',\n",
       "  'result': {'prediction': '0',\n",
       "   '1': 0.22759492695331573,\n",
       "   '0': 0.7724050879478455}},\n",
       " {'index': 3,\n",
       "  'predict_status': 'success',\n",
       "  'result': {'prediction': '0',\n",
       "   '1': 0.250203937292099,\n",
       "   '0': 0.7497960329055786}}]"
      ]
     },
     "execution_count": 15,
     "metadata": {},
     "output_type": "execute_result"
    }
   ],
   "source": [
    "records = [\n",
    "    {'Sex': 'male', 'Pclass': 2},\n",
    "    {'Sex': 'XDDD', 'Pclass': 3},\n",
    "    {'Pclass': 3},\n",
    "    {}\n",
    "]\n",
    "resp = client.api.batch_predict(exp.best_model.id, featuresList=records)\n",
    "resp.json()"
   ]
  },
  {
   "cell_type": "code",
   "execution_count": null,
   "metadata": {},
   "outputs": [],
   "source": []
  }
 ],
 "metadata": {
  "kernelspec": {
   "display_name": "Python [conda env:sdk] *",
   "language": "python",
   "name": "conda-env-sdk-py"
  },
  "language_info": {
   "codemirror_mode": {
    "name": "ipython",
    "version": 3
   },
   "file_extension": ".py",
   "mimetype": "text/x-python",
   "name": "python",
   "nbconvert_exporter": "python",
   "pygments_lexer": "ipython3",
   "version": "3.7.10"
  },
  "nbTranslate": {
   "displayLangs": [
    "*"
   ],
   "hotkey": "alt-t",
   "langInMainMenu": true,
   "sourceLang": "en",
   "targetLang": "fr",
   "useGoogleTranslate": true
  },
  "toc": {
   "base_numbering": 1,
   "nav_menu": {},
   "number_sections": true,
   "sideBar": true,
   "skip_h1_title": false,
   "title_cell": "Table of Contents",
   "title_sidebar": "Contents",
   "toc_cell": false,
   "toc_position": {},
   "toc_section_display": true,
   "toc_window_display": false
  },
  "varInspector": {
   "cols": {
    "lenName": 16,
    "lenType": 16,
    "lenVar": 40
   },
   "kernels_config": {
    "python": {
     "delete_cmd_postfix": "",
     "delete_cmd_prefix": "del ",
     "library": "var_list.py",
     "varRefreshCmd": "print(var_dic_list())"
    },
    "r": {
     "delete_cmd_postfix": ") ",
     "delete_cmd_prefix": "rm(",
     "library": "var_list.r",
     "varRefreshCmd": "cat(var_dic_list()) "
    }
   },
   "types_to_exclude": [
    "module",
    "function",
    "builtin_function_or_method",
    "instance",
    "_Feature"
   ],
   "window_display": false
  }
 },
 "nbformat": 4,
 "nbformat_minor": 4
}
